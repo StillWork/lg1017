{
 "cells": [
  {
   "cell_type": "markdown",
   "metadata": {
    "colab_type": "text",
    "id": "mgKnWaQi0Ygg"
   },
   "source": [
    "# 시계열 예측\n",
    "\n",
    "- 시계열 값의 미래 예측 (time series forecasting)\n",
    " - 수요예측, 매출예측, 생산/물류/재고 예측, 리스크/장애/이상 예측 등\n",
    " \n",
    "## 접근법\n",
    "- (1) 자신의 과거 값만 사용하여 미래 값을 예측하는 (y-y 모델)\n",
    "  - 선형예측, ARIMA, Prophet 등 수리 모델 기반의 단변수 예측 모델 사용\n",
    "  - 랜덤한 성분은 예측이 안된다 (트렌드, 주기성 만 예측 가능)\n",
    "- (2) 다양한 외부 특성들을 사용하여 예측하는 (X-y 모델)\n",
    "  - y에 영향을 주는 다양한 환경 변수들을 입력 특성 X에 포함한다\n",
    "  - X에 y의 과거 값들도 포함시킬 수 있다 (위의 1을 포함하는 셈!)\n",
    "  - 입력 X에 변형된 특성을 추가할 수 있다 (이동 평균, 이동 분산 등)\n",
    "  - 카테고리 변수들이 많으면 X-y 모델이 잘 동작한다 (선형계열 모델은 카테고리 변수를 표현하는데 한계가 있다)\n",
    "  - 임의의 머신러닝 모델을 사용할 수 있다\n",
    "- (3) 샘플(행) 단위로 예측하는 것이 아니라 입력신호의 누적 효과(여러 행)를 반영하는 경우\n",
    "  - 신경망 모델, LSTM을 사용한다\n",
    "  - 좋은 성능을 얻으려면 학습 데이터가 충분히 많아야 한다"
   ]
  },
  {
   "cell_type": "markdown",
   "metadata": {},
   "source": [
    "# import"
   ]
  },
  {
   "cell_type": "code",
   "execution_count": 1,
   "metadata": {
    "colab": {},
    "colab_type": "code",
    "id": "2uPsZz6Z0Ygi"
   },
   "outputs": [],
   "source": [
    "import pandas as pd\n",
    "import numpy as np\n",
    "import matplotlib.pyplot as plt\n",
    "%config InlineBackend.figure_format = 'retina'\n",
    "import matplotlib"
   ]
  },
  {
   "cell_type": "code",
   "execution_count": 2,
   "metadata": {},
   "outputs": [],
   "source": [
    "from sklearn.linear_model import LinearRegression\n",
    "from sklearn.ensemble import RandomForestRegressor\n",
    "from sklearn.model_selection import train_test_split\n",
    "from lightgbm import LGBMRegressor\n",
    "from sklearn.metrics import mean_squared_error, mean_absolute_error\n",
    "from sklearn.metrics import mean_absolute_percentage_error,r2_score               "
   ]
  },
  {
   "cell_type": "markdown",
   "metadata": {},
   "source": [
    "## 단변수 시계열 예측"
   ]
  },
  {
   "cell_type": "markdown",
   "metadata": {},
   "source": [
    "<img src=\"https://raw.githubusercontent.com/data-labs/image/main/%E1%84%89%E1%85%B3%E1%84%8F%E1%85%B3%E1%84%85%E1%85%B5%E1%86%AB%E1%84%89%E1%85%A3%E1%86%BA%202021-01-09%20%E1%84%8B%E1%85%A9%E1%84%8C%E1%85%A5%E1%86%AB%2011.16.26.png?raw=1\" width=450 align='left'>"
   ]
  },
  {
   "cell_type": "markdown",
   "metadata": {},
   "source": [
    "- 선형 회귀 (linear regression) 모델: 자신의 과거 샘플의 가중합으로 미래를 예측하는 모델\n",
    "\n",
    "\n",
    " > $\\hat{y_{n}} = b +a_{1}y_{n-1} + a_{2}y_{n-2} + a_{3}y_{n-3} + ...$\n",
    " \n",
    " - ARIMA 모델: 선형 모델을 개선하여, 계절성, 트렌드, 시변성 등을 반영한 모델\n",
    "  - 결측치가 없어야 한다\n",
    " - 단변수 시계열 예측 도구로 Prophet이 편리하다 (결측치 자동처리, 이벤트 반영 등)"
   ]
  },
  {
   "cell_type": "markdown",
   "metadata": {},
   "source": [
    "## 날씨 데이터"
   ]
  },
  {
   "cell_type": "code",
   "execution_count": 3,
   "metadata": {
    "colab": {
     "base_uri": "https://localhost:8080/",
     "height": 35
    },
    "colab_type": "code",
    "executionInfo": {
     "elapsed": 2093,
     "status": "ok",
     "timestamp": 1573631194343,
     "user": {
      "displayName": "김화종",
      "photoUrl": "https://lh3.googleusercontent.com/a-/AAuE7mCOtXjyLykQ_8l9Pq2rL3r5y110ynjRS1eb1EzpcQ=s64",
      "userId": "17353049580175403985"
     },
     "user_tz": -540
    },
    "id": "j78wbP3P0Ygp",
    "outputId": "b622d5c7-c97e-4642-dc79-ea5ca4e5e605",
    "scrolled": true
   },
   "outputs": [
    {
     "name": "stdout",
     "output_type": "stream",
     "text": [
      "(4018, 4)\n"
     ]
    },
    {
     "data": {
      "text/html": [
       "<div>\n",
       "<style scoped>\n",
       "    .dataframe tbody tr th:only-of-type {\n",
       "        vertical-align: middle;\n",
       "    }\n",
       "\n",
       "    .dataframe tbody tr th {\n",
       "        vertical-align: top;\n",
       "    }\n",
       "\n",
       "    .dataframe thead th {\n",
       "        text-align: right;\n",
       "    }\n",
       "</style>\n",
       "<table border=\"1\" class=\"dataframe\">\n",
       "  <thead>\n",
       "    <tr style=\"text-align: right;\">\n",
       "      <th></th>\n",
       "      <th>연월일</th>\n",
       "      <th>기온</th>\n",
       "      <th>품질</th>\n",
       "      <th>균질</th>\n",
       "    </tr>\n",
       "  </thead>\n",
       "  <tbody>\n",
       "    <tr>\n",
       "      <th>0</th>\n",
       "      <td>2006/1/1</td>\n",
       "      <td>3.6</td>\n",
       "      <td>8</td>\n",
       "      <td>1</td>\n",
       "    </tr>\n",
       "    <tr>\n",
       "      <th>1</th>\n",
       "      <td>2006/1/2</td>\n",
       "      <td>4.0</td>\n",
       "      <td>8</td>\n",
       "      <td>1</td>\n",
       "    </tr>\n",
       "    <tr>\n",
       "      <th>2</th>\n",
       "      <td>2006/1/3</td>\n",
       "      <td>3.7</td>\n",
       "      <td>8</td>\n",
       "      <td>1</td>\n",
       "    </tr>\n",
       "  </tbody>\n",
       "</table>\n",
       "</div>"
      ],
      "text/plain": [
       "        연월일   기온  품질  균질\n",
       "0  2006/1/1  3.6   8   1\n",
       "1  2006/1/2  4.0   8   1\n",
       "2  2006/1/3  3.7   8   1"
      ]
     },
     "execution_count": 3,
     "metadata": {},
     "output_type": "execute_result"
    }
   ],
   "source": [
    "weather = pd.read_csv('https://raw.githubusercontent.com/StillWork/data/master/new_weather.csv')\n",
    "print(weather.shape)\n",
    "weather[:3]"
   ]
  },
  {
   "cell_type": "markdown",
   "metadata": {},
   "source": [
    "- 단변수 시계열\n",
    " - 날짜 정보를 사용하지 않고 일정 시간간격의 숫자 데이터만 사용하는 주어지는 경우"
   ]
  },
  {
   "cell_type": "code",
   "execution_count": 4,
   "metadata": {
    "scrolled": true
   },
   "outputs": [
    {
     "data": {
      "text/plain": [
       "[<matplotlib.lines.Line2D at 0x7fe0986c2b80>]"
      ]
     },
     "execution_count": 4,
     "metadata": {},
     "output_type": "execute_result"
    },
    {
     "data": {
      "image/png": "[encoded data removed]",
      "text/plain": [
       "<Figure size 432x288 with 1 Axes>"
      ]
     },
     "metadata": {
      "image/png": {
       "height": 248,
       "width": 368
      },
      "needs_background": "light"
     },
     "output_type": "display_data"
    }
   ],
   "source": [
    "y = weather[\"기온\"].values\n",
    "plt.plot(y[:300])"
   ]
  },
  {
   "cell_type": "markdown",
   "metadata": {},
   "source": [
    "## 훈련, 검증 데이터 나누기\n",
    "- 시계열 데이터는 순서를 유지해야 의미가 있으므로 랜덤하게 섞으면 안된다\n",
    "- 보통 앞 시간의 데이터로 훈련을 시키고 뒷 부분의 데이터로 검증한다\n",
    "- train_test_split()에서 shuffle=False로 설정해야 한다"
   ]
  },
  {
   "cell_type": "code",
   "execution_count": 5,
   "metadata": {},
   "outputs": [
    {
     "data": {
      "text/plain": [
       "(4018, 3013, 1005)"
      ]
     },
     "execution_count": 5,
     "metadata": {},
     "output_type": "execute_result"
    }
   ],
   "source": [
    "# 앞부분 75%를 훈련 데이터로, 나머지를 검증 데이터로 나누며 순서를 유지한다\n",
    "train_data, test_data = train_test_split(y, shuffle=False)\n",
    "len(y), len(train_data), len(test_data)"
   ]
  },
  {
   "cell_type": "markdown",
   "metadata": {},
   "source": [
    "## walk forward 예측\n",
    "- 내일이 되면 내일 기온을 알 수 있으므로 모레 기온을 예측하는데 내일 데이터를 사용할 수 있다\n",
    "- 이렇게 미래로 하나씩 이동하면서 데이터를 이용하는 예측을 walk forward 예측이라고 한다\n",
    "- 시계열 데이터를 테이블 구조로 만들기\n",
    " - 시계열 예측에 머신러닝 모델을 쉽게 적용하기 위해서 비정형인 시계열 데이터를 정형 데이터인 테이블 구조로 만들어야 한다\n",
    " - 아래는 5개의 시계열 데이터를 보고 6번째 값을 예측하는 경우이며 walk forward 예측을 위한 테이블을 오른 쪽에 나타냈다\n",
    "\n",
    "\n",
    "<img src=\"https://raw.githubusercontent.com/data-labs/image/main/%E1%84%89%E1%85%B3%E1%84%8F%E1%85%B3%E1%84%85%E1%85%B5%E1%86%AB%E1%84%89%E1%85%A3%E1%86%BA%202021-01-08%20%E1%84%8B%E1%85%A9%E1%84%92%E1%85%AE%203.44.24.png?raw=1\" width=600 aligh='left'>"
   ]
  },
  {
   "cell_type": "markdown",
   "metadata": {},
   "source": [
    "## split_seq()\n",
    "- 시계열 데이터를 테이블 구조로  표현하는 작업을 수행\n",
    " - sequence는 입력 시계열 데이터\n",
    " - n_steps는 예측에 사용할 한 행(샘플)의 크기 (위 그림에서 5임)\n",
    "  - 이를 윈도우 크기라고도 한다"
   ]
  },
  {
   "cell_type": "code",
   "execution_count": 7,
   "metadata": {
    "colab": {},
    "colab_type": "code",
    "id": "y7g6kXrv0Yg6"
   },
   "outputs": [],
   "source": [
    "def split_seq(sequence, n_steps):\n",
    "    \n",
    "    # 테이블 데이터를 담을 빈 리스트 준비\n",
    "    x, y = [], []\n",
    "    for i in range(len(sequence)):\n",
    "        if i > len(sequence) - (n_steps + 1) : break\n",
    "        x.append(sequence[i:i+n_steps])\n",
    "        y.append(sequence[i+n_steps])\n",
    "\n",
    "    # 리스트를 어레이로 바꾸어서 리턴한다 (바로 연산에 사용할 수 있도록)\n",
    "    return np.array(x), np.array(y)"
   ]
  },
  {
   "cell_type": "code",
   "execution_count": 8,
   "metadata": {
    "colab": {
     "base_uri": "https://localhost:8080/",
     "height": 143
    },
    "colab_type": "code",
    "executionInfo": {
     "elapsed": 802,
     "status": "ok",
     "timestamp": 1573631413019,
     "user": {
      "displayName": "김화종",
      "photoUrl": "https://lh3.googleusercontent.com/a-/AAuE7mCOtXjyLykQ_8l9Pq2rL3r5y110ynjRS1eb1EzpcQ=s64",
      "userId": "17353049580175403985"
     },
     "user_tz": -540
    },
    "id": "WaH1Lw7mvE7Y",
    "outputId": "80383c6d-42be-4bca-d539-e201d7700888"
   },
   "outputs": [
    {
     "data": {
      "text/plain": [
       "(array([[ 1,  2,  3,  4,  5],\n",
       "        [ 2,  3,  4,  5,  6],\n",
       "        [ 3,  4,  5,  6,  7],\n",
       "        [ 4,  5,  6,  7,  8],\n",
       "        [ 5,  6,  7,  8,  9],\n",
       "        [ 6,  7,  8,  9, 10],\n",
       "        [ 7,  8,  9, 10, 11],\n",
       "        [ 8,  9, 10, 11, 12]]),\n",
       " array([ 6,  7,  8,  9, 10, 11, 12, 13]))"
      ]
     },
     "execution_count": 8,
     "metadata": {},
     "output_type": "execute_result"
    }
   ],
   "source": [
    "# 예: 과거 5개의 샘플을 보고 다음 값을 예측하기 위한 훈련데이터 X, y 생성\n",
    "sequence = [1,2,3,4,5,6,7,8,9,10,11,12,13]\n",
    "x_train, y_train = split_seq(sequence, 5)\n",
    "x_train, y_train"
   ]
  },
  {
   "cell_type": "markdown",
   "metadata": {},
   "source": [
    "## (실습) n_steps 변경\n",
    "- n_steps 가 7일 경우의 split_seq()를 수행해보시오"
   ]
  },
  {
   "cell_type": "code",
   "execution_count": 9,
   "metadata": {},
   "outputs": [],
   "source": [
    "# (풀이)\n",
    "\n"
   ]
  },
  {
   "cell_type": "markdown",
   "metadata": {},
   "source": [
    "# 선형 예측 모델\n",
    "- Linear Prediction\n",
    "- 자신의 과거 샘플의 가중합으로 미래값을 예측하는 모델\n",
    "- 선형 회귀 (linear regression) 모델을 사용하면 된다\n",
    "\n",
    " > $\\hat{y_{n}} = b +a_{1}y_{n-1} + a_{2}y_{n-2} + a_{3}y_{n-3} + ...$\n",
    " \n"
   ]
  },
  {
   "cell_type": "markdown",
   "metadata": {},
   "source": [
    "## 최적의 n_steps 찾기\n",
    "\n",
    "- 선형 예측 모델에서 과거 몇 개를 예측에 사용하면 성능이 가장 좋은지 최적 값 찾기\n",
    "- 과거 1 ~180일의 데이터를 사용해본다"
   ]
  },
  {
   "cell_type": "code",
   "execution_count": 20,
   "metadata": {
    "scrolled": true
   },
   "outputs": [],
   "source": [
    "N = 180\n",
    "model = LinearRegression()\n",
    "\n",
    "# 실험 결과를 담을 리스트\n",
    "result = []\n",
    "\n",
    "for n_steps in range(1,N+1): \n",
    "    x_train, y_train = split_seq(train_data, n_steps)\n",
    "    x_test, y_test = split_seq(test_data, n_steps)\n",
    "    model.fit(x_train, y_train) \n",
    "    result.append((n_steps, model.score(x_test, y_test)))"
   ]
  },
  {
   "cell_type": "code",
   "execution_count": 23,
   "metadata": {},
   "outputs": [
    {
     "data": {
      "text/plain": [
       "[(1, 0.9278711483333497), (2, 0.9284242771093589), (3, 0.9318384895047028)]"
      ]
     },
     "execution_count": 23,
     "metadata": {},
     "output_type": "execute_result"
    }
   ],
   "source": [
    "result[:3]"
   ]
  },
  {
   "cell_type": "code",
   "execution_count": 32,
   "metadata": {},
   "outputs": [
    {
     "data": {
      "text/plain": [
       "<AxesSubplot:xlabel='steps'>"
      ]
     },
     "execution_count": 32,
     "metadata": {},
     "output_type": "execute_result"
    },
    {
     "data": {
      "image/png": "[encoded data removed]",
      "text/plain": [
       "<Figure size 432x288 with 1 Axes>"
      ]
     },
     "metadata": {
      "image/png": {
       "height": 265,
       "width": 384
      },
      "needs_background": "light"
     },
     "output_type": "display_data"
    }
   ],
   "source": [
    "# 실험 결과 보기\n",
    "\n",
    "df = pd.DataFrame(result, columns=['steps', 'R2']).set_index('steps')\n",
    "df.plot()"
   ]
  },
  {
   "cell_type": "code",
   "execution_count": 33,
   "metadata": {},
   "outputs": [
    {
     "data": {
      "text/plain": [
       "(R2    71\n",
       " dtype: int64,\n",
       " R2    0.939447\n",
       " dtype: float64)"
      ]
     },
     "execution_count": 33,
     "metadata": {},
     "output_type": "execute_result"
    }
   ],
   "source": [
    "# 최대 성능을 얻는 n_steps와 최대 성능 찾기\n",
    "\n",
    "df.idxmax(), df.max()"
   ]
  },
  {
   "cell_type": "code",
   "execution_count": 34,
   "metadata": {},
   "outputs": [
    {
     "data": {
      "text/plain": [
       "0.9394"
      ]
     },
     "execution_count": 34,
     "metadata": {},
     "output_type": "execute_result"
    }
   ],
   "source": [
    "# 최적 n_steps를 적용한 모델\n",
    "\n",
    "n_steps = 71\n",
    "\n",
    "x_train, y_train = split_seq(train_data, n_steps)\n",
    "x_test, y_test = split_seq(test_data, n_steps)\n",
    "model = LinearRegression()\n",
    "model.fit(x_train, y_train) \n",
    "model.score(x_test, y_test).round(4)"
   ]
  },
  {
   "cell_type": "markdown",
   "metadata": {},
   "source": [
    "## 모델 성능 평가\n",
    "- 회귀 모델의 성능을 평가하는 척도로 기본적으로 R-Squared를 사용하며 MAE, RMSE 등을 참고로 본다\n",
    " - MAE: mean absolute error  \n",
    " - MSE: mean squared error    \n",
    " - RMSE: root MSE  "
   ]
  },
  {
   "cell_type": "markdown",
   "metadata": {},
   "source": [
    "$MAE = $$1\\over{N}$$ \\sum |y_{i} - \\hat{y}|$\n",
    "\n",
    "$MSE = $$1\\over{N}$$ \\sum (y_{i} - \\hat{y})^{2}$\n",
    "\n",
    "$RMSE = \\sqrt{MSE}$\n",
    "\n",
    "$R^{2} = 1$-$\\sum(y_{i}-\\hat{y})^{2}\\over{\\sum(y_{i}-\\bar{y})^{2}}$ $= 1$-$MSE\\over{Variance}$  \n",
    " >  $y$ :  실제값  \n",
    " >  $\\hat{y}$ :  예측치  \n",
    " >  $\\bar{y}$ :  평균치\n",
    " \n",
    "- R-Squared\n",
    "  - 회귀 성능의 기본적인 평가 지표\n",
    "  - MSE를 분산으로 정규화한 값을 사용한다\n",
    "  - R-sqaured 값은 1에 가까울수록 완벽한 예측을 수행한 것이고, 0 근처이면 오차 평균치가 표준편차 정도인 경우이다"
   ]
  },
  {
   "cell_type": "code",
   "execution_count": 11,
   "metadata": {},
   "outputs": [],
   "source": [
    "def show_reg_result(y_test,y_pred):\n",
    "    print(\"Max Error: \", \n",
    "      round(np.abs(y_test - y_pred).max(),3))\n",
    "    print(\"Mean Absolute Error: \", \n",
    "      round(np.abs(y_test-y_pred).mean(),3))\n",
    "    print(\"Root Mean Squared Error: \", \n",
    "      mean_squared_error(y_test,y_pred, squared=False).round(3))\n",
    "    print(\"R-Squared: \", \n",
    "      r2_score(y_test, y_pred).round(3))"
   ]
  },
  {
   "cell_type": "code",
   "execution_count": 12,
   "metadata": {
    "colab": {
     "base_uri": "https://localhost:8080/",
     "height": 71
    },
    "colab_type": "code",
    "executionInfo": {
     "elapsed": 870,
     "status": "ok",
     "timestamp": 1573631519959,
     "user": {
      "displayName": "김화종",
      "photoUrl": "https://lh3.googleusercontent.com/a-/AAuE7mCOtXjyLykQ_8l9Pq2rL3r5y110ynjRS1eb1EzpcQ=s64",
      "userId": "17353049580175403985"
     },
     "user_tz": -540
    },
    "id": "snIhFzzV0YhB",
    "outputId": "95980921-5415-4112-a9ee-e3f1e3af70c7",
    "scrolled": true
   },
   "outputs": [],
   "source": [
    "def plot_reg_result(y_test, y_pred, N=50):\n",
    "    y_t=y_test.ravel()\n",
    "    y_p=y_pred.ravel()\n",
    "    plt.plot(y_t[:N], 'r.-', label='y_test')\n",
    "    plt.plot(y_p[:N], 'b.--', label='y_pred')\n",
    "    plt.legend()\n",
    "    plt.show()\n",
    "    plt.title(\"Residue Plot\")\n",
    "    plt.scatter(y_t, y_t - y_p, s=5)"
   ]
  },
  {
   "cell_type": "markdown",
   "metadata": {},
   "source": [
    "- 회귀 예측 성능 보기"
   ]
  },
  {
   "cell_type": "code",
   "execution_count": 35,
   "metadata": {
    "scrolled": true
   },
   "outputs": [
    {
     "name": "stdout",
     "output_type": "stream",
     "text": [
      "Max Error:  7.497\n",
      "Mean Absolute Error:  1.492\n",
      "Root Mean Squared Error:  1.912\n",
      "R-Squared:  0.939\n"
     ]
    }
   ],
   "source": [
    "y_pred = model.predict(x_test)\n",
    "show_reg_result(y_test, y_pred)"
   ]
  },
  {
   "cell_type": "code",
   "execution_count": 36,
   "metadata": {},
   "outputs": [
    {
     "data": {
      "image/png": "[encoded data removed]",
      "text/plain": [
       "<Figure size 432x288 with 1 Axes>"
      ]
     },
     "metadata": {
      "image/png": {
       "height": 248,
       "width": 368
      },
      "needs_background": "light"
     },
     "output_type": "display_data"
    },
    {
     "data": {
      "image/png": "[encoded data removed]",
      "text/plain": [
       "<Figure size 432x288 with 1 Axes>"
      ]
     },
     "metadata": {
      "image/png": {
       "height": 263,
       "width": 370
      },
      "needs_background": "light"
     },
     "output_type": "display_data"
    }
   ],
   "source": [
    "plot_reg_result(y_test, y_pred)"
   ]
  },
  {
   "cell_type": "markdown",
   "metadata": {},
   "source": [
    "# 베이스라인 모델\n",
    "- 간단히 만들 수 있는 모델로 나이브 모델이라고도 한다\n",
    "- 최소한 이것보다는 성능이 개선된 모델을 만들어야 한다\n",
    "- 종류\n",
    " - persistent 모델: 직전의 샘플 값으로 다음 값을 예측\n",
    " - 이동 평균 모델: 직전의 N개 샘플의 평균으로 예측 (최근 값의 비중을 크게 반영하는 지수형 가중 평균을 사용하기도 한다, ema:exponential moving average)\n",
    " - 직전 값들이 아니라 주기적인 일정 간격으로 샘플을 취하기도 한다"
   ]
  },
  {
   "cell_type": "code",
   "execution_count": 37,
   "metadata": {},
   "outputs": [
    {
     "data": {
      "text/plain": [
       "[(1, 0.9278711483333497), (2, 0.9284242771093589), (3, 0.9318384895047028)]"
      ]
     },
     "execution_count": 37,
     "metadata": {},
     "output_type": "execute_result"
    }
   ],
   "source": [
    "## persistent 모델\n",
    "\n",
    "# 위에서 n_steps = 1 일 때의 성능\n",
    "result[:3]"
   ]
  },
  {
   "cell_type": "markdown",
   "metadata": {},
   "source": [
    "# 에너지 사용 예측\n",
    "\n",
    "## 데이터\n",
    "\n",
    "- 가정의 에너지 사용 예측"
   ]
  },
  {
   "cell_type": "code",
   "execution_count": 38,
   "metadata": {},
   "outputs": [
    {
     "name": "stdout",
     "output_type": "stream",
     "text": [
      "(26304, 2)\n"
     ]
    },
    {
     "data": {
      "text/html": [
       "<div>\n",
       "<style scoped>\n",
       "    .dataframe tbody tr th:only-of-type {\n",
       "        vertical-align: middle;\n",
       "    }\n",
       "\n",
       "    .dataframe tbody tr th {\n",
       "        vertical-align: top;\n",
       "    }\n",
       "\n",
       "    .dataframe thead th {\n",
       "        text-align: right;\n",
       "    }\n",
       "</style>\n",
       "<table border=\"1\" class=\"dataframe\">\n",
       "  <thead>\n",
       "    <tr style=\"text-align: right;\">\n",
       "      <th></th>\n",
       "      <th>load</th>\n",
       "      <th>temp</th>\n",
       "    </tr>\n",
       "    <tr>\n",
       "      <th>timestamp</th>\n",
       "      <th></th>\n",
       "      <th></th>\n",
       "    </tr>\n",
       "  </thead>\n",
       "  <tbody>\n",
       "    <tr>\n",
       "      <th>2012-01-01 00:00:00</th>\n",
       "      <td>2698.0</td>\n",
       "      <td>32.000000</td>\n",
       "    </tr>\n",
       "    <tr>\n",
       "      <th>2012-01-01 01:00:00</th>\n",
       "      <td>2558.0</td>\n",
       "      <td>32.666667</td>\n",
       "    </tr>\n",
       "    <tr>\n",
       "      <th>2012-01-01 02:00:00</th>\n",
       "      <td>2444.0</td>\n",
       "      <td>30.000000</td>\n",
       "    </tr>\n",
       "  </tbody>\n",
       "</table>\n",
       "</div>"
      ],
      "text/plain": [
       "                       load       temp\n",
       "timestamp                             \n",
       "2012-01-01 00:00:00  2698.0  32.000000\n",
       "2012-01-01 01:00:00  2558.0  32.666667\n",
       "2012-01-01 02:00:00  2444.0  30.000000"
      ]
     },
     "execution_count": 38,
     "metadata": {},
     "output_type": "execute_result"
    }
   ],
   "source": [
    "power = pd.read_csv(\"https://raw.githubusercontent.com/StillWork/data/master/energy_3years.csv\",\n",
    "                 parse_dates=['timestamp'])\n",
    "power.set_index(\"timestamp\", inplace=True)\n",
    "\n",
    "print(power.shape)\n",
    "power[:3]"
   ]
  },
  {
   "cell_type": "code",
   "execution_count": 39,
   "metadata": {},
   "outputs": [
    {
     "data": {
      "text/plain": [
       "<AxesSubplot:xlabel='timestamp'>"
      ]
     },
     "execution_count": 39,
     "metadata": {},
     "output_type": "execute_result"
    },
    {
     "data": {
      "image/png": "[encoded data removed]",
      "text/plain": [
       "<Figure size 432x288 with 1 Axes>"
      ]
     },
     "metadata": {
      "image/png": {
       "height": 283,
       "width": 381
      },
      "needs_background": "light"
     },
     "output_type": "display_data"
    }
   ],
   "source": [
    "# 1주일간의 데이터 보기\n",
    "power.load[:24*7].plot()"
   ]
  },
  {
   "cell_type": "markdown",
   "metadata": {},
   "source": [
    "- 시간 단위 데이터를 일 단위 데이터로 다운 샘플링 하는 방법\n",
    "- 하루의 전력 사용량 합계를 사용하겠다"
   ]
  },
  {
   "cell_type": "code",
   "execution_count": 40,
   "metadata": {},
   "outputs": [
    {
     "name": "stdout",
     "output_type": "stream",
     "text": [
      "(1096, 2)\n"
     ]
    },
    {
     "data": {
      "text/html": [
       "<div>\n",
       "<style scoped>\n",
       "    .dataframe tbody tr th:only-of-type {\n",
       "        vertical-align: middle;\n",
       "    }\n",
       "\n",
       "    .dataframe tbody tr th {\n",
       "        vertical-align: top;\n",
       "    }\n",
       "\n",
       "    .dataframe thead th {\n",
       "        text-align: right;\n",
       "    }\n",
       "</style>\n",
       "<table border=\"1\" class=\"dataframe\">\n",
       "  <thead>\n",
       "    <tr style=\"text-align: right;\">\n",
       "      <th></th>\n",
       "      <th>load</th>\n",
       "      <th>temp</th>\n",
       "    </tr>\n",
       "    <tr>\n",
       "      <th>timestamp</th>\n",
       "      <th></th>\n",
       "      <th></th>\n",
       "    </tr>\n",
       "  </thead>\n",
       "  <tbody>\n",
       "    <tr>\n",
       "      <th>2012-01-01</th>\n",
       "      <td>71562.0</td>\n",
       "      <td>906.333333</td>\n",
       "    </tr>\n",
       "    <tr>\n",
       "      <th>2012-01-02</th>\n",
       "      <td>76841.0</td>\n",
       "      <td>897.666667</td>\n",
       "    </tr>\n",
       "    <tr>\n",
       "      <th>2012-01-03</th>\n",
       "      <td>87887.0</td>\n",
       "      <td>418.333333</td>\n",
       "    </tr>\n",
       "  </tbody>\n",
       "</table>\n",
       "</div>"
      ],
      "text/plain": [
       "               load        temp\n",
       "timestamp                      \n",
       "2012-01-01  71562.0  906.333333\n",
       "2012-01-02  76841.0  897.666667\n",
       "2012-01-03  87887.0  418.333333"
      ]
     },
     "execution_count": 40,
     "metadata": {},
     "output_type": "execute_result"
    }
   ],
   "source": [
    "df_down = power.resample('D').sum()\n",
    "print(df_down.shape)\n",
    "df_down[:3]"
   ]
  },
  {
   "cell_type": "markdown",
   "metadata": {},
   "source": [
    "- 기온은 합이 아니라 평균을 사용하겠다."
   ]
  },
  {
   "cell_type": "code",
   "execution_count": 41,
   "metadata": {},
   "outputs": [
    {
     "data": {
      "text/html": [
       "<div>\n",
       "<style scoped>\n",
       "    .dataframe tbody tr th:only-of-type {\n",
       "        vertical-align: middle;\n",
       "    }\n",
       "\n",
       "    .dataframe tbody tr th {\n",
       "        vertical-align: top;\n",
       "    }\n",
       "\n",
       "    .dataframe thead th {\n",
       "        text-align: right;\n",
       "    }\n",
       "</style>\n",
       "<table border=\"1\" class=\"dataframe\">\n",
       "  <thead>\n",
       "    <tr style=\"text-align: right;\">\n",
       "      <th></th>\n",
       "      <th>load</th>\n",
       "      <th>temp</th>\n",
       "    </tr>\n",
       "    <tr>\n",
       "      <th>timestamp</th>\n",
       "      <th></th>\n",
       "      <th></th>\n",
       "    </tr>\n",
       "  </thead>\n",
       "  <tbody>\n",
       "    <tr>\n",
       "      <th>2012-01-01</th>\n",
       "      <td>71562.0</td>\n",
       "      <td>37.763889</td>\n",
       "    </tr>\n",
       "    <tr>\n",
       "      <th>2012-01-02</th>\n",
       "      <td>76841.0</td>\n",
       "      <td>37.402778</td>\n",
       "    </tr>\n",
       "    <tr>\n",
       "      <th>2012-01-03</th>\n",
       "      <td>87887.0</td>\n",
       "      <td>17.430556</td>\n",
       "    </tr>\n",
       "    <tr>\n",
       "      <th>2012-01-04</th>\n",
       "      <td>92168.0</td>\n",
       "      <td>13.111111</td>\n",
       "    </tr>\n",
       "    <tr>\n",
       "      <th>2012-01-05</th>\n",
       "      <td>88096.0</td>\n",
       "      <td>24.875000</td>\n",
       "    </tr>\n",
       "  </tbody>\n",
       "</table>\n",
       "</div>"
      ],
      "text/plain": [
       "               load       temp\n",
       "timestamp                     \n",
       "2012-01-01  71562.0  37.763889\n",
       "2012-01-02  76841.0  37.402778\n",
       "2012-01-03  87887.0  17.430556\n",
       "2012-01-04  92168.0  13.111111\n",
       "2012-01-05  88096.0  24.875000"
      ]
     },
     "execution_count": 41,
     "metadata": {},
     "output_type": "execute_result"
    }
   ],
   "source": [
    "df_down['temp'] = power.temp.resample('D').mean()\n",
    "df_down[:5]"
   ]
  },
  {
   "cell_type": "markdown",
   "metadata": {},
   "source": [
    "## 단변수 시계열 예측\n",
    "\n",
    "- 전력 사용량(load)만 사용하는 경우"
   ]
  },
  {
   "cell_type": "markdown",
   "metadata": {},
   "source": [
    "- 데이터 나누기"
   ]
  },
  {
   "cell_type": "code",
   "execution_count": 44,
   "metadata": {},
   "outputs": [
    {
     "data": {
      "text/plain": [
       "(1096, 822, 274)"
      ]
     },
     "execution_count": 44,
     "metadata": {},
     "output_type": "execute_result"
    }
   ],
   "source": [
    "y = df_down.load\n",
    "train_data, test_data = train_test_split(y, shuffle=False)\n",
    "len(y), len(train_data), len(test_data)"
   ]
  },
  {
   "cell_type": "markdown",
   "metadata": {},
   "source": [
    "### 선형 예측 모델"
   ]
  },
  {
   "cell_type": "code",
   "execution_count": 47,
   "metadata": {},
   "outputs": [],
   "source": [
    "N = 120\n",
    "model = LinearRegression()\n",
    "result = []\n",
    "\n",
    "for n_steps in range(1,N+1): \n",
    "    x_train, y_train = split_seq(train_data, n_steps)\n",
    "    x_test, y_test = split_seq(test_data, n_steps)\n",
    "    model.fit(x_train, y_train) \n",
    "    result.append((n_steps, model.score(x_test, y_test)))"
   ]
  },
  {
   "cell_type": "code",
   "execution_count": 48,
   "metadata": {},
   "outputs": [
    {
     "data": {
      "text/plain": [
       "<AxesSubplot:xlabel='steps'>"
      ]
     },
     "execution_count": 48,
     "metadata": {},
     "output_type": "execute_result"
    },
    {
     "data": {
      "image/png": "[encoded data removed]",
      "text/plain": [
       "<Figure size 432x288 with 1 Axes>"
      ]
     },
     "metadata": {
      "image/png": {
       "height": 261,
       "width": 378
      },
      "needs_background": "light"
     },
     "output_type": "display_data"
    }
   ],
   "source": [
    "# 실험 결과 보기\n",
    "\n",
    "df = pd.DataFrame(result, columns=['steps', 'R2']).set_index('steps')\n",
    "df.plot()"
   ]
  },
  {
   "cell_type": "code",
   "execution_count": 49,
   "metadata": {},
   "outputs": [
    {
     "data": {
      "text/plain": [
       "(R2    30\n",
       " dtype: int64,\n",
       " R2    0.796969\n",
       " dtype: float64)"
      ]
     },
     "execution_count": 49,
     "metadata": {},
     "output_type": "execute_result"
    }
   ],
   "source": [
    "# 최대 성능을 얻는 n_steps 찾기\n",
    "df.idxmax(), df.max()"
   ]
  },
  {
   "cell_type": "markdown",
   "metadata": {},
   "source": [
    "- 최적의 윈도우 선택"
   ]
  },
  {
   "cell_type": "code",
   "execution_count": 50,
   "metadata": {},
   "outputs": [
    {
     "name": "stdout",
     "output_type": "stream",
     "text": [
      "Max Error:  14205.837\n",
      "Mean Absolute Error:  2220.282\n",
      "Root Mean Squared Error:  3031.463\n",
      "R-Squared:  0.797\n"
     ]
    }
   ],
   "source": [
    "n_steps = 30\n",
    "\n",
    "x_train, y_train = split_seq(train_data, n_steps)\n",
    "x_test, y_test = split_seq(test_data, n_steps)\n",
    "model.fit(x_train, y_train) \n",
    "y_pred = model.predict(x_test)\n",
    "show_reg_result(y_test, y_pred)"
   ]
  },
  {
   "cell_type": "code",
   "execution_count": 51,
   "metadata": {},
   "outputs": [
    {
     "data": {
      "image/png": "[encoded data removed]",
      "text/plain": [
       "<Figure size 432x288 with 1 Axes>"
      ]
     },
     "metadata": {
      "image/png": {
       "height": 248,
       "width": 388
      },
      "needs_background": "light"
     },
     "output_type": "display_data"
    },
    {
     "data": {
      "image/png": "[encoded data removed]",
      "text/plain": [
       "<Figure size 432x288 with 1 Axes>"
      ]
     },
     "metadata": {
      "image/png": {
       "height": 263,
       "width": 408
      },
      "needs_background": "light"
     },
     "output_type": "display_data"
    }
   ],
   "source": [
    "plot_reg_result(y_test, y_pred)"
   ]
  },
  {
   "cell_type": "markdown",
   "metadata": {},
   "source": [
    "- 모델, 데이터, 윈도우 크기를 주면 시계열 분석을 수행하는 함수 정의"
   ]
  },
  {
   "cell_type": "markdown",
   "metadata": {},
   "source": [
    "### LGBMRegressor 모델을 사용하는 경우\n",
    "\n",
    "- 랜덤 포레스트 모델을 사용하는 경우"
   ]
  },
  {
   "cell_type": "code",
   "execution_count": 53,
   "metadata": {
    "scrolled": true
   },
   "outputs": [],
   "source": [
    "from sklearn.ensemble import RandomForestRegressor\n",
    "lgbm_r = LGBMRegressor()\n",
    "# rfr = RandomForestRegressor()\n",
    "\n",
    "N = 60\n",
    "result = []\n",
    "\n",
    "for n_steps in range(1,N+1): \n",
    "    x_train, y_train = split_seq(train_data, n_steps)\n",
    "    x_test, y_test = split_seq(test_data, n_steps)\n",
    "    lgbm_r.fit(x_train, y_train) \n",
    "    r2 = lgbm_r.score(x_test, y_test) \n",
    "    result.append((n_steps, r2))"
   ]
  },
  {
   "cell_type": "code",
   "execution_count": 58,
   "metadata": {},
   "outputs": [
    {
     "data": {
      "text/plain": [
       "<AxesSubplot:xlabel='steps'>"
      ]
     },
     "execution_count": 58,
     "metadata": {},
     "output_type": "execute_result"
    },
    {
     "data": {
      "image/png": "[encoded data removed]",
      "text/plain": [
       "<Figure size 432x288 with 1 Axes>"
      ]
     },
     "metadata": {
      "image/png": {
       "height": 261,
       "width": 384
      },
      "needs_background": "light"
     },
     "output_type": "display_data"
    }
   ],
   "source": [
    "# 실험 결과 보기\n",
    "\n",
    "df = pd.DataFrame(result, columns=['steps', 'R2']).set_index('steps')\n",
    "df.plot()"
   ]
  },
  {
   "cell_type": "code",
   "execution_count": 59,
   "metadata": {},
   "outputs": [
    {
     "data": {
      "text/plain": [
       "(R2    24\n",
       " dtype: int64,\n",
       " R2    0.734913\n",
       " dtype: float64)"
      ]
     },
     "execution_count": 59,
     "metadata": {},
     "output_type": "execute_result"
    }
   ],
   "source": [
    "# 최대 성능을 얻는 n_steps 찾기\n",
    "df.idxmax(), df.max()"
   ]
  },
  {
   "cell_type": "markdown",
   "metadata": {},
   "source": [
    "# shift 이용법"
   ]
  },
  {
   "cell_type": "markdown",
   "metadata": {},
   "source": [
    "## 다중변수 예측\n",
    "\n",
    "- 자신의 과거값 뿐 아니라 다른 특성 값도 같이 사용하는 방법\n",
    "- 과거의 전력사용량과 날씨를 추가로 입력으로 사용하는 경우\n",
    "- 미래 3일간 전력사용량 예측"
   ]
  },
  {
   "cell_type": "markdown",
   "metadata": {},
   "source": [
    "### shift()\n",
    "- 어떤 특성(컬럼) 값의 과거 데이터를 같이 사용할 때 shift()를 이용한다"
   ]
  },
  {
   "cell_type": "code",
   "execution_count": 67,
   "metadata": {},
   "outputs": [
    {
     "data": {
      "text/html": [
       "<div>\n",
       "<style scoped>\n",
       "    .dataframe tbody tr th:only-of-type {\n",
       "        vertical-align: middle;\n",
       "    }\n",
       "\n",
       "    .dataframe tbody tr th {\n",
       "        vertical-align: top;\n",
       "    }\n",
       "\n",
       "    .dataframe thead th {\n",
       "        text-align: right;\n",
       "    }\n",
       "</style>\n",
       "<table border=\"1\" class=\"dataframe\">\n",
       "  <thead>\n",
       "    <tr style=\"text-align: right;\">\n",
       "      <th></th>\n",
       "      <th>load</th>\n",
       "      <th>temp</th>\n",
       "      <th>load-1</th>\n",
       "    </tr>\n",
       "    <tr>\n",
       "      <th>timestamp</th>\n",
       "      <th></th>\n",
       "      <th></th>\n",
       "      <th></th>\n",
       "    </tr>\n",
       "  </thead>\n",
       "  <tbody>\n",
       "    <tr>\n",
       "      <th>2012-01-01</th>\n",
       "      <td>71562.0</td>\n",
       "      <td>37.763889</td>\n",
       "      <td>NaN</td>\n",
       "    </tr>\n",
       "    <tr>\n",
       "      <th>2012-01-02</th>\n",
       "      <td>76841.0</td>\n",
       "      <td>37.402778</td>\n",
       "      <td>71562.0</td>\n",
       "    </tr>\n",
       "    <tr>\n",
       "      <th>2012-01-03</th>\n",
       "      <td>87887.0</td>\n",
       "      <td>17.430556</td>\n",
       "      <td>76841.0</td>\n",
       "    </tr>\n",
       "    <tr>\n",
       "      <th>2012-01-04</th>\n",
       "      <td>92168.0</td>\n",
       "      <td>13.111111</td>\n",
       "      <td>87887.0</td>\n",
       "    </tr>\n",
       "    <tr>\n",
       "      <th>2012-01-05</th>\n",
       "      <td>88096.0</td>\n",
       "      <td>24.875000</td>\n",
       "      <td>92168.0</td>\n",
       "    </tr>\n",
       "  </tbody>\n",
       "</table>\n",
       "</div>"
      ],
      "text/plain": [
       "               load       temp   load-1\n",
       "timestamp                              \n",
       "2012-01-01  71562.0  37.763889      NaN\n",
       "2012-01-02  76841.0  37.402778  71562.0\n",
       "2012-01-03  87887.0  17.430556  76841.0\n",
       "2012-01-04  92168.0  13.111111  87887.0\n",
       "2012-01-05  88096.0  24.875000  92168.0"
      ]
     },
     "execution_count": 67,
     "metadata": {},
     "output_type": "execute_result"
    }
   ],
   "source": [
    "df = df_down.copy()\n",
    "\n",
    "# 오늘과 하루 전의 데이터도 같이 사용하는 경우 (컬럼 추가하는 방법)\n",
    "# 예를 들어 3일차를 예측하는데 1일과 2일 데이터를 사용한다\n",
    "\n",
    "df['load-1'] = df.load.shift(1)\n",
    "df[:5]"
   ]
  },
  {
   "cell_type": "markdown",
   "metadata": {},
   "source": [
    "- 과거 4일간의 전력사용 데이터 컬럼을 추가하는 방법"
   ]
  },
  {
   "cell_type": "code",
   "execution_count": 68,
   "metadata": {},
   "outputs": [
    {
     "data": {
      "text/html": [
       "<div>\n",
       "<style scoped>\n",
       "    .dataframe tbody tr th:only-of-type {\n",
       "        vertical-align: middle;\n",
       "    }\n",
       "\n",
       "    .dataframe tbody tr th {\n",
       "        vertical-align: top;\n",
       "    }\n",
       "\n",
       "    .dataframe thead th {\n",
       "        text-align: right;\n",
       "    }\n",
       "</style>\n",
       "<table border=\"1\" class=\"dataframe\">\n",
       "  <thead>\n",
       "    <tr style=\"text-align: right;\">\n",
       "      <th></th>\n",
       "      <th>load</th>\n",
       "      <th>temp</th>\n",
       "      <th>load-1</th>\n",
       "      <th>load-2</th>\n",
       "      <th>load-3</th>\n",
       "      <th>load-4</th>\n",
       "    </tr>\n",
       "    <tr>\n",
       "      <th>timestamp</th>\n",
       "      <th></th>\n",
       "      <th></th>\n",
       "      <th></th>\n",
       "      <th></th>\n",
       "      <th></th>\n",
       "      <th></th>\n",
       "    </tr>\n",
       "  </thead>\n",
       "  <tbody>\n",
       "    <tr>\n",
       "      <th>2012-01-01</th>\n",
       "      <td>71562.0</td>\n",
       "      <td>37.763889</td>\n",
       "      <td>NaN</td>\n",
       "      <td>NaN</td>\n",
       "      <td>NaN</td>\n",
       "      <td>NaN</td>\n",
       "    </tr>\n",
       "    <tr>\n",
       "      <th>2012-01-02</th>\n",
       "      <td>76841.0</td>\n",
       "      <td>37.402778</td>\n",
       "      <td>71562.0</td>\n",
       "      <td>NaN</td>\n",
       "      <td>NaN</td>\n",
       "      <td>NaN</td>\n",
       "    </tr>\n",
       "    <tr>\n",
       "      <th>2012-01-03</th>\n",
       "      <td>87887.0</td>\n",
       "      <td>17.430556</td>\n",
       "      <td>76841.0</td>\n",
       "      <td>71562.0</td>\n",
       "      <td>NaN</td>\n",
       "      <td>NaN</td>\n",
       "    </tr>\n",
       "    <tr>\n",
       "      <th>2012-01-04</th>\n",
       "      <td>92168.0</td>\n",
       "      <td>13.111111</td>\n",
       "      <td>87887.0</td>\n",
       "      <td>76841.0</td>\n",
       "      <td>71562.0</td>\n",
       "      <td>NaN</td>\n",
       "    </tr>\n",
       "    <tr>\n",
       "      <th>2012-01-05</th>\n",
       "      <td>88096.0</td>\n",
       "      <td>24.875000</td>\n",
       "      <td>92168.0</td>\n",
       "      <td>87887.0</td>\n",
       "      <td>76841.0</td>\n",
       "      <td>71562.0</td>\n",
       "    </tr>\n",
       "    <tr>\n",
       "      <th>2012-01-06</th>\n",
       "      <td>85591.0</td>\n",
       "      <td>25.902778</td>\n",
       "      <td>88096.0</td>\n",
       "      <td>92168.0</td>\n",
       "      <td>87887.0</td>\n",
       "      <td>76841.0</td>\n",
       "    </tr>\n",
       "    <tr>\n",
       "      <th>2012-01-07</th>\n",
       "      <td>76869.0</td>\n",
       "      <td>31.652778</td>\n",
       "      <td>85591.0</td>\n",
       "      <td>88096.0</td>\n",
       "      <td>92168.0</td>\n",
       "      <td>87887.0</td>\n",
       "    </tr>\n",
       "    <tr>\n",
       "      <th>2012-01-08</th>\n",
       "      <td>77767.0</td>\n",
       "      <td>30.000000</td>\n",
       "      <td>76869.0</td>\n",
       "      <td>85591.0</td>\n",
       "      <td>88096.0</td>\n",
       "      <td>92168.0</td>\n",
       "    </tr>\n",
       "    <tr>\n",
       "      <th>2012-01-09</th>\n",
       "      <td>85818.0</td>\n",
       "      <td>25.277778</td>\n",
       "      <td>77767.0</td>\n",
       "      <td>76869.0</td>\n",
       "      <td>85591.0</td>\n",
       "      <td>88096.0</td>\n",
       "    </tr>\n",
       "    <tr>\n",
       "      <th>2012-01-10</th>\n",
       "      <td>85158.0</td>\n",
       "      <td>33.013889</td>\n",
       "      <td>85818.0</td>\n",
       "      <td>77767.0</td>\n",
       "      <td>76869.0</td>\n",
       "      <td>85591.0</td>\n",
       "    </tr>\n",
       "  </tbody>\n",
       "</table>\n",
       "</div>"
      ],
      "text/plain": [
       "               load       temp   load-1   load-2   load-3   load-4\n",
       "timestamp                                                         \n",
       "2012-01-01  71562.0  37.763889      NaN      NaN      NaN      NaN\n",
       "2012-01-02  76841.0  37.402778  71562.0      NaN      NaN      NaN\n",
       "2012-01-03  87887.0  17.430556  76841.0  71562.0      NaN      NaN\n",
       "2012-01-04  92168.0  13.111111  87887.0  76841.0  71562.0      NaN\n",
       "2012-01-05  88096.0  24.875000  92168.0  87887.0  76841.0  71562.0\n",
       "2012-01-06  85591.0  25.902778  88096.0  92168.0  87887.0  76841.0\n",
       "2012-01-07  76869.0  31.652778  85591.0  88096.0  92168.0  87887.0\n",
       "2012-01-08  77767.0  30.000000  76869.0  85591.0  88096.0  92168.0\n",
       "2012-01-09  85818.0  25.277778  77767.0  76869.0  85591.0  88096.0\n",
       "2012-01-10  85158.0  33.013889  85818.0  77767.0  76869.0  85591.0"
      ]
     },
     "execution_count": 68,
     "metadata": {},
     "output_type": "execute_result"
    }
   ],
   "source": [
    "N_load = 4\n",
    "for i in range (1,N_load + 1):\n",
    "    df['load-'+str(i)]=df.load.shift(i)\n",
    "df[:10]"
   ]
  },
  {
   "cell_type": "markdown",
   "metadata": {},
   "source": [
    "-  과거 2일간의 날씨 데이터를 추가"
   ]
  },
  {
   "cell_type": "code",
   "execution_count": 69,
   "metadata": {},
   "outputs": [],
   "source": [
    "N_temp = 2\n",
    "for i in range (1,N_temp+1):\n",
    "    df['temp-'+str(i)]=df.temp.shift(i)"
   ]
  },
  {
   "cell_type": "code",
   "execution_count": 65,
   "metadata": {},
   "outputs": [
    {
     "data": {
      "text/html": [
       "<div>\n",
       "<style scoped>\n",
       "    .dataframe tbody tr th:only-of-type {\n",
       "        vertical-align: middle;\n",
       "    }\n",
       "\n",
       "    .dataframe tbody tr th {\n",
       "        vertical-align: top;\n",
       "    }\n",
       "\n",
       "    .dataframe thead th {\n",
       "        text-align: right;\n",
       "    }\n",
       "</style>\n",
       "<table border=\"1\" class=\"dataframe\">\n",
       "  <thead>\n",
       "    <tr style=\"text-align: right;\">\n",
       "      <th></th>\n",
       "      <th>load</th>\n",
       "      <th>temp</th>\n",
       "      <th>load-1</th>\n",
       "      <th>load-2</th>\n",
       "      <th>load-3</th>\n",
       "      <th>load-4</th>\n",
       "      <th>temp-1</th>\n",
       "      <th>temp-2</th>\n",
       "    </tr>\n",
       "    <tr>\n",
       "      <th>timestamp</th>\n",
       "      <th></th>\n",
       "      <th></th>\n",
       "      <th></th>\n",
       "      <th></th>\n",
       "      <th></th>\n",
       "      <th></th>\n",
       "      <th></th>\n",
       "      <th></th>\n",
       "    </tr>\n",
       "  </thead>\n",
       "  <tbody>\n",
       "    <tr>\n",
       "      <th>2012-01-01</th>\n",
       "      <td>71562.0</td>\n",
       "      <td>37.763889</td>\n",
       "      <td>NaN</td>\n",
       "      <td>NaN</td>\n",
       "      <td>NaN</td>\n",
       "      <td>NaN</td>\n",
       "      <td>NaN</td>\n",
       "      <td>NaN</td>\n",
       "    </tr>\n",
       "    <tr>\n",
       "      <th>2012-01-02</th>\n",
       "      <td>76841.0</td>\n",
       "      <td>37.402778</td>\n",
       "      <td>71562.0</td>\n",
       "      <td>NaN</td>\n",
       "      <td>NaN</td>\n",
       "      <td>NaN</td>\n",
       "      <td>37.763889</td>\n",
       "      <td>NaN</td>\n",
       "    </tr>\n",
       "    <tr>\n",
       "      <th>2012-01-03</th>\n",
       "      <td>87887.0</td>\n",
       "      <td>17.430556</td>\n",
       "      <td>76841.0</td>\n",
       "      <td>71562.0</td>\n",
       "      <td>NaN</td>\n",
       "      <td>NaN</td>\n",
       "      <td>37.402778</td>\n",
       "      <td>37.763889</td>\n",
       "    </tr>\n",
       "    <tr>\n",
       "      <th>2012-01-04</th>\n",
       "      <td>92168.0</td>\n",
       "      <td>13.111111</td>\n",
       "      <td>87887.0</td>\n",
       "      <td>76841.0</td>\n",
       "      <td>71562.0</td>\n",
       "      <td>NaN</td>\n",
       "      <td>17.430556</td>\n",
       "      <td>37.402778</td>\n",
       "    </tr>\n",
       "    <tr>\n",
       "      <th>2012-01-05</th>\n",
       "      <td>88096.0</td>\n",
       "      <td>24.875000</td>\n",
       "      <td>92168.0</td>\n",
       "      <td>87887.0</td>\n",
       "      <td>76841.0</td>\n",
       "      <td>71562.0</td>\n",
       "      <td>13.111111</td>\n",
       "      <td>17.430556</td>\n",
       "    </tr>\n",
       "    <tr>\n",
       "      <th>2012-01-06</th>\n",
       "      <td>85591.0</td>\n",
       "      <td>25.902778</td>\n",
       "      <td>88096.0</td>\n",
       "      <td>92168.0</td>\n",
       "      <td>87887.0</td>\n",
       "      <td>76841.0</td>\n",
       "      <td>24.875000</td>\n",
       "      <td>13.111111</td>\n",
       "    </tr>\n",
       "    <tr>\n",
       "      <th>2012-01-07</th>\n",
       "      <td>76869.0</td>\n",
       "      <td>31.652778</td>\n",
       "      <td>85591.0</td>\n",
       "      <td>88096.0</td>\n",
       "      <td>92168.0</td>\n",
       "      <td>87887.0</td>\n",
       "      <td>25.902778</td>\n",
       "      <td>24.875000</td>\n",
       "    </tr>\n",
       "    <tr>\n",
       "      <th>2012-01-08</th>\n",
       "      <td>77767.0</td>\n",
       "      <td>30.000000</td>\n",
       "      <td>76869.0</td>\n",
       "      <td>85591.0</td>\n",
       "      <td>88096.0</td>\n",
       "      <td>92168.0</td>\n",
       "      <td>31.652778</td>\n",
       "      <td>25.902778</td>\n",
       "    </tr>\n",
       "    <tr>\n",
       "      <th>2012-01-09</th>\n",
       "      <td>85818.0</td>\n",
       "      <td>25.277778</td>\n",
       "      <td>77767.0</td>\n",
       "      <td>76869.0</td>\n",
       "      <td>85591.0</td>\n",
       "      <td>88096.0</td>\n",
       "      <td>30.000000</td>\n",
       "      <td>31.652778</td>\n",
       "    </tr>\n",
       "    <tr>\n",
       "      <th>2012-01-10</th>\n",
       "      <td>85158.0</td>\n",
       "      <td>33.013889</td>\n",
       "      <td>85818.0</td>\n",
       "      <td>77767.0</td>\n",
       "      <td>76869.0</td>\n",
       "      <td>85591.0</td>\n",
       "      <td>25.277778</td>\n",
       "      <td>30.000000</td>\n",
       "    </tr>\n",
       "  </tbody>\n",
       "</table>\n",
       "</div>"
      ],
      "text/plain": [
       "               load       temp   load-1   load-2   load-3   load-4     temp-1  \\\n",
       "timestamp                                                                       \n",
       "2012-01-01  71562.0  37.763889      NaN      NaN      NaN      NaN        NaN   \n",
       "2012-01-02  76841.0  37.402778  71562.0      NaN      NaN      NaN  37.763889   \n",
       "2012-01-03  87887.0  17.430556  76841.0  71562.0      NaN      NaN  37.402778   \n",
       "2012-01-04  92168.0  13.111111  87887.0  76841.0  71562.0      NaN  17.430556   \n",
       "2012-01-05  88096.0  24.875000  92168.0  87887.0  76841.0  71562.0  13.111111   \n",
       "2012-01-06  85591.0  25.902778  88096.0  92168.0  87887.0  76841.0  24.875000   \n",
       "2012-01-07  76869.0  31.652778  85591.0  88096.0  92168.0  87887.0  25.902778   \n",
       "2012-01-08  77767.0  30.000000  76869.0  85591.0  88096.0  92168.0  31.652778   \n",
       "2012-01-09  85818.0  25.277778  77767.0  76869.0  85591.0  88096.0  30.000000   \n",
       "2012-01-10  85158.0  33.013889  85818.0  77767.0  76869.0  85591.0  25.277778   \n",
       "\n",
       "               temp-2  \n",
       "timestamp              \n",
       "2012-01-01        NaN  \n",
       "2012-01-02        NaN  \n",
       "2012-01-03  37.763889  \n",
       "2012-01-04  37.402778  \n",
       "2012-01-05  17.430556  \n",
       "2012-01-06  13.111111  \n",
       "2012-01-07  24.875000  \n",
       "2012-01-08  25.902778  \n",
       "2012-01-09  31.652778  \n",
       "2012-01-10  30.000000  "
      ]
     },
     "execution_count": 65,
     "metadata": {},
     "output_type": "execute_result"
    }
   ],
   "source": [
    "df[:10]"
   ]
  },
  {
   "cell_type": "markdown",
   "metadata": {},
   "source": [
    "- 목적변수 추가: 미래 3일까지 예측하는 경우\n",
    "- 목적변수는 load의 다음 날 값이다 (y+1 은 하루 후를 예측하는 것)"
   ]
  },
  {
   "cell_type": "code",
   "execution_count": 70,
   "metadata": {},
   "outputs": [],
   "source": [
    "N_target = 3\n",
    "for i in range (1, N_target+1):\n",
    "    df['y+'+str(i)]=df.load.shift(-i)"
   ]
  },
  {
   "cell_type": "code",
   "execution_count": 71,
   "metadata": {},
   "outputs": [
    {
     "data": {
      "text/html": [
       "<div>\n",
       "<style scoped>\n",
       "    .dataframe tbody tr th:only-of-type {\n",
       "        vertical-align: middle;\n",
       "    }\n",
       "\n",
       "    .dataframe tbody tr th {\n",
       "        vertical-align: top;\n",
       "    }\n",
       "\n",
       "    .dataframe thead th {\n",
       "        text-align: right;\n",
       "    }\n",
       "</style>\n",
       "<table border=\"1\" class=\"dataframe\">\n",
       "  <thead>\n",
       "    <tr style=\"text-align: right;\">\n",
       "      <th></th>\n",
       "      <th>load</th>\n",
       "      <th>temp</th>\n",
       "      <th>load-1</th>\n",
       "      <th>load-2</th>\n",
       "      <th>load-3</th>\n",
       "      <th>load-4</th>\n",
       "      <th>temp-1</th>\n",
       "      <th>temp-2</th>\n",
       "      <th>y+1</th>\n",
       "      <th>y+2</th>\n",
       "      <th>y+3</th>\n",
       "    </tr>\n",
       "    <tr>\n",
       "      <th>timestamp</th>\n",
       "      <th></th>\n",
       "      <th></th>\n",
       "      <th></th>\n",
       "      <th></th>\n",
       "      <th></th>\n",
       "      <th></th>\n",
       "      <th></th>\n",
       "      <th></th>\n",
       "      <th></th>\n",
       "      <th></th>\n",
       "      <th></th>\n",
       "    </tr>\n",
       "  </thead>\n",
       "  <tbody>\n",
       "    <tr>\n",
       "      <th>2012-01-01</th>\n",
       "      <td>71562.0</td>\n",
       "      <td>37.763889</td>\n",
       "      <td>NaN</td>\n",
       "      <td>NaN</td>\n",
       "      <td>NaN</td>\n",
       "      <td>NaN</td>\n",
       "      <td>NaN</td>\n",
       "      <td>NaN</td>\n",
       "      <td>76841.0</td>\n",
       "      <td>87887.0</td>\n",
       "      <td>92168.0</td>\n",
       "    </tr>\n",
       "    <tr>\n",
       "      <th>2012-01-02</th>\n",
       "      <td>76841.0</td>\n",
       "      <td>37.402778</td>\n",
       "      <td>71562.0</td>\n",
       "      <td>NaN</td>\n",
       "      <td>NaN</td>\n",
       "      <td>NaN</td>\n",
       "      <td>37.763889</td>\n",
       "      <td>NaN</td>\n",
       "      <td>87887.0</td>\n",
       "      <td>92168.0</td>\n",
       "      <td>88096.0</td>\n",
       "    </tr>\n",
       "    <tr>\n",
       "      <th>2012-01-03</th>\n",
       "      <td>87887.0</td>\n",
       "      <td>17.430556</td>\n",
       "      <td>76841.0</td>\n",
       "      <td>71562.0</td>\n",
       "      <td>NaN</td>\n",
       "      <td>NaN</td>\n",
       "      <td>37.402778</td>\n",
       "      <td>37.763889</td>\n",
       "      <td>92168.0</td>\n",
       "      <td>88096.0</td>\n",
       "      <td>85591.0</td>\n",
       "    </tr>\n",
       "    <tr>\n",
       "      <th>2012-01-04</th>\n",
       "      <td>92168.0</td>\n",
       "      <td>13.111111</td>\n",
       "      <td>87887.0</td>\n",
       "      <td>76841.0</td>\n",
       "      <td>71562.0</td>\n",
       "      <td>NaN</td>\n",
       "      <td>17.430556</td>\n",
       "      <td>37.402778</td>\n",
       "      <td>88096.0</td>\n",
       "      <td>85591.0</td>\n",
       "      <td>76869.0</td>\n",
       "    </tr>\n",
       "    <tr>\n",
       "      <th>2012-01-05</th>\n",
       "      <td>88096.0</td>\n",
       "      <td>24.875000</td>\n",
       "      <td>92168.0</td>\n",
       "      <td>87887.0</td>\n",
       "      <td>76841.0</td>\n",
       "      <td>71562.0</td>\n",
       "      <td>13.111111</td>\n",
       "      <td>17.430556</td>\n",
       "      <td>85591.0</td>\n",
       "      <td>76869.0</td>\n",
       "      <td>77767.0</td>\n",
       "    </tr>\n",
       "    <tr>\n",
       "      <th>2012-01-06</th>\n",
       "      <td>85591.0</td>\n",
       "      <td>25.902778</td>\n",
       "      <td>88096.0</td>\n",
       "      <td>92168.0</td>\n",
       "      <td>87887.0</td>\n",
       "      <td>76841.0</td>\n",
       "      <td>24.875000</td>\n",
       "      <td>13.111111</td>\n",
       "      <td>76869.0</td>\n",
       "      <td>77767.0</td>\n",
       "      <td>85818.0</td>\n",
       "    </tr>\n",
       "    <tr>\n",
       "      <th>2012-01-07</th>\n",
       "      <td>76869.0</td>\n",
       "      <td>31.652778</td>\n",
       "      <td>85591.0</td>\n",
       "      <td>88096.0</td>\n",
       "      <td>92168.0</td>\n",
       "      <td>87887.0</td>\n",
       "      <td>25.902778</td>\n",
       "      <td>24.875000</td>\n",
       "      <td>77767.0</td>\n",
       "      <td>85818.0</td>\n",
       "      <td>85158.0</td>\n",
       "    </tr>\n",
       "    <tr>\n",
       "      <th>2012-01-08</th>\n",
       "      <td>77767.0</td>\n",
       "      <td>30.000000</td>\n",
       "      <td>76869.0</td>\n",
       "      <td>85591.0</td>\n",
       "      <td>88096.0</td>\n",
       "      <td>92168.0</td>\n",
       "      <td>31.652778</td>\n",
       "      <td>25.902778</td>\n",
       "      <td>85818.0</td>\n",
       "      <td>85158.0</td>\n",
       "      <td>85021.0</td>\n",
       "    </tr>\n",
       "    <tr>\n",
       "      <th>2012-01-09</th>\n",
       "      <td>85818.0</td>\n",
       "      <td>25.277778</td>\n",
       "      <td>77767.0</td>\n",
       "      <td>76869.0</td>\n",
       "      <td>85591.0</td>\n",
       "      <td>88096.0</td>\n",
       "      <td>30.000000</td>\n",
       "      <td>31.652778</td>\n",
       "      <td>85158.0</td>\n",
       "      <td>85021.0</td>\n",
       "      <td>84824.0</td>\n",
       "    </tr>\n",
       "    <tr>\n",
       "      <th>2012-01-10</th>\n",
       "      <td>85158.0</td>\n",
       "      <td>33.013889</td>\n",
       "      <td>85818.0</td>\n",
       "      <td>77767.0</td>\n",
       "      <td>76869.0</td>\n",
       "      <td>85591.0</td>\n",
       "      <td>25.277778</td>\n",
       "      <td>30.000000</td>\n",
       "      <td>85021.0</td>\n",
       "      <td>84824.0</td>\n",
       "      <td>83503.0</td>\n",
       "    </tr>\n",
       "  </tbody>\n",
       "</table>\n",
       "</div>"
      ],
      "text/plain": [
       "               load       temp   load-1   load-2   load-3   load-4     temp-1  \\\n",
       "timestamp                                                                       \n",
       "2012-01-01  71562.0  37.763889      NaN      NaN      NaN      NaN        NaN   \n",
       "2012-01-02  76841.0  37.402778  71562.0      NaN      NaN      NaN  37.763889   \n",
       "2012-01-03  87887.0  17.430556  76841.0  71562.0      NaN      NaN  37.402778   \n",
       "2012-01-04  92168.0  13.111111  87887.0  76841.0  71562.0      NaN  17.430556   \n",
       "2012-01-05  88096.0  24.875000  92168.0  87887.0  76841.0  71562.0  13.111111   \n",
       "2012-01-06  85591.0  25.902778  88096.0  92168.0  87887.0  76841.0  24.875000   \n",
       "2012-01-07  76869.0  31.652778  85591.0  88096.0  92168.0  87887.0  25.902778   \n",
       "2012-01-08  77767.0  30.000000  76869.0  85591.0  88096.0  92168.0  31.652778   \n",
       "2012-01-09  85818.0  25.277778  77767.0  76869.0  85591.0  88096.0  30.000000   \n",
       "2012-01-10  85158.0  33.013889  85818.0  77767.0  76869.0  85591.0  25.277778   \n",
       "\n",
       "               temp-2      y+1      y+2      y+3  \n",
       "timestamp                                         \n",
       "2012-01-01        NaN  76841.0  87887.0  92168.0  \n",
       "2012-01-02        NaN  87887.0  92168.0  88096.0  \n",
       "2012-01-03  37.763889  92168.0  88096.0  85591.0  \n",
       "2012-01-04  37.402778  88096.0  85591.0  76869.0  \n",
       "2012-01-05  17.430556  85591.0  76869.0  77767.0  \n",
       "2012-01-06  13.111111  76869.0  77767.0  85818.0  \n",
       "2012-01-07  24.875000  77767.0  85818.0  85158.0  \n",
       "2012-01-08  25.902778  85818.0  85158.0  85021.0  \n",
       "2012-01-09  31.652778  85158.0  85021.0  84824.0  \n",
       "2012-01-10  30.000000  85021.0  84824.0  83503.0  "
      ]
     },
     "execution_count": 71,
     "metadata": {},
     "output_type": "execute_result"
    }
   ],
   "source": [
    "df[:10]"
   ]
  },
  {
   "cell_type": "code",
   "execution_count": 72,
   "metadata": {},
   "outputs": [
    {
     "data": {
      "text/html": [
       "<div>\n",
       "<style scoped>\n",
       "    .dataframe tbody tr th:only-of-type {\n",
       "        vertical-align: middle;\n",
       "    }\n",
       "\n",
       "    .dataframe tbody tr th {\n",
       "        vertical-align: top;\n",
       "    }\n",
       "\n",
       "    .dataframe thead th {\n",
       "        text-align: right;\n",
       "    }\n",
       "</style>\n",
       "<table border=\"1\" class=\"dataframe\">\n",
       "  <thead>\n",
       "    <tr style=\"text-align: right;\">\n",
       "      <th></th>\n",
       "      <th>load</th>\n",
       "      <th>temp</th>\n",
       "      <th>load-1</th>\n",
       "      <th>load-2</th>\n",
       "      <th>load-3</th>\n",
       "      <th>load-4</th>\n",
       "      <th>temp-1</th>\n",
       "      <th>temp-2</th>\n",
       "      <th>y+1</th>\n",
       "      <th>y+2</th>\n",
       "      <th>y+3</th>\n",
       "    </tr>\n",
       "    <tr>\n",
       "      <th>timestamp</th>\n",
       "      <th></th>\n",
       "      <th></th>\n",
       "      <th></th>\n",
       "      <th></th>\n",
       "      <th></th>\n",
       "      <th></th>\n",
       "      <th></th>\n",
       "      <th></th>\n",
       "      <th></th>\n",
       "      <th></th>\n",
       "      <th></th>\n",
       "    </tr>\n",
       "  </thead>\n",
       "  <tbody>\n",
       "    <tr>\n",
       "      <th>2014-12-27</th>\n",
       "      <td>73845.0</td>\n",
       "      <td>38.666667</td>\n",
       "      <td>74155.0</td>\n",
       "      <td>69507.0</td>\n",
       "      <td>77368.0</td>\n",
       "      <td>83002.0</td>\n",
       "      <td>41.569444</td>\n",
       "      <td>44.486111</td>\n",
       "      <td>74678.0</td>\n",
       "      <td>84486.0</td>\n",
       "      <td>88810.0</td>\n",
       "    </tr>\n",
       "    <tr>\n",
       "      <th>2014-12-28</th>\n",
       "      <td>74678.0</td>\n",
       "      <td>43.125000</td>\n",
       "      <td>73845.0</td>\n",
       "      <td>74155.0</td>\n",
       "      <td>69507.0</td>\n",
       "      <td>77368.0</td>\n",
       "      <td>38.666667</td>\n",
       "      <td>41.569444</td>\n",
       "      <td>84486.0</td>\n",
       "      <td>88810.0</td>\n",
       "      <td>89246.0</td>\n",
       "    </tr>\n",
       "    <tr>\n",
       "      <th>2014-12-29</th>\n",
       "      <td>84486.0</td>\n",
       "      <td>30.305556</td>\n",
       "      <td>74678.0</td>\n",
       "      <td>73845.0</td>\n",
       "      <td>74155.0</td>\n",
       "      <td>69507.0</td>\n",
       "      <td>43.125000</td>\n",
       "      <td>38.666667</td>\n",
       "      <td>88810.0</td>\n",
       "      <td>89246.0</td>\n",
       "      <td>NaN</td>\n",
       "    </tr>\n",
       "    <tr>\n",
       "      <th>2014-12-30</th>\n",
       "      <td>88810.0</td>\n",
       "      <td>18.347222</td>\n",
       "      <td>84486.0</td>\n",
       "      <td>74678.0</td>\n",
       "      <td>73845.0</td>\n",
       "      <td>74155.0</td>\n",
       "      <td>30.305556</td>\n",
       "      <td>43.125000</td>\n",
       "      <td>89246.0</td>\n",
       "      <td>NaN</td>\n",
       "      <td>NaN</td>\n",
       "    </tr>\n",
       "    <tr>\n",
       "      <th>2014-12-31</th>\n",
       "      <td>89246.0</td>\n",
       "      <td>17.375000</td>\n",
       "      <td>88810.0</td>\n",
       "      <td>84486.0</td>\n",
       "      <td>74678.0</td>\n",
       "      <td>73845.0</td>\n",
       "      <td>18.347222</td>\n",
       "      <td>30.305556</td>\n",
       "      <td>NaN</td>\n",
       "      <td>NaN</td>\n",
       "      <td>NaN</td>\n",
       "    </tr>\n",
       "  </tbody>\n",
       "</table>\n",
       "</div>"
      ],
      "text/plain": [
       "               load       temp   load-1   load-2   load-3   load-4     temp-1  \\\n",
       "timestamp                                                                       \n",
       "2014-12-27  73845.0  38.666667  74155.0  69507.0  77368.0  83002.0  41.569444   \n",
       "2014-12-28  74678.0  43.125000  73845.0  74155.0  69507.0  77368.0  38.666667   \n",
       "2014-12-29  84486.0  30.305556  74678.0  73845.0  74155.0  69507.0  43.125000   \n",
       "2014-12-30  88810.0  18.347222  84486.0  74678.0  73845.0  74155.0  30.305556   \n",
       "2014-12-31  89246.0  17.375000  88810.0  84486.0  74678.0  73845.0  18.347222   \n",
       "\n",
       "               temp-2      y+1      y+2      y+3  \n",
       "timestamp                                         \n",
       "2014-12-27  44.486111  74678.0  84486.0  88810.0  \n",
       "2014-12-28  41.569444  84486.0  88810.0  89246.0  \n",
       "2014-12-29  38.666667  88810.0  89246.0      NaN  \n",
       "2014-12-30  43.125000  89246.0      NaN      NaN  \n",
       "2014-12-31  30.305556      NaN      NaN      NaN  "
      ]
     },
     "execution_count": 72,
     "metadata": {},
     "output_type": "execute_result"
    }
   ],
   "source": [
    "df[-5:]"
   ]
  },
  {
   "cell_type": "markdown",
   "metadata": {},
   "source": [
    "- 결측치 제거\n",
    "- 원 데이터의 시작과 끝부분 일부 데이터가 학습에 사용되지 못한다 (샘플수가 적을 때 주의)"
   ]
  },
  {
   "cell_type": "code",
   "execution_count": 73,
   "metadata": {
    "scrolled": true
   },
   "outputs": [
    {
     "name": "stdout",
     "output_type": "stream",
     "text": [
      "(1089, 11)\n"
     ]
    }
   ],
   "source": [
    "df = df.dropna()\n",
    "print(df.shape)"
   ]
  },
  {
   "cell_type": "code",
   "execution_count": 78,
   "metadata": {},
   "outputs": [
    {
     "data": {
      "text/html": [
       "<div>\n",
       "<style scoped>\n",
       "    .dataframe tbody tr th:only-of-type {\n",
       "        vertical-align: middle;\n",
       "    }\n",
       "\n",
       "    .dataframe tbody tr th {\n",
       "        vertical-align: top;\n",
       "    }\n",
       "\n",
       "    .dataframe thead th {\n",
       "        text-align: right;\n",
       "    }\n",
       "</style>\n",
       "<table border=\"1\" class=\"dataframe\">\n",
       "  <thead>\n",
       "    <tr style=\"text-align: right;\">\n",
       "      <th></th>\n",
       "      <th>load</th>\n",
       "      <th>temp</th>\n",
       "      <th>load-1</th>\n",
       "      <th>load-2</th>\n",
       "      <th>load-3</th>\n",
       "      <th>load-4</th>\n",
       "      <th>load-5</th>\n",
       "      <th>load-6</th>\n",
       "      <th>load-7</th>\n",
       "      <th>load-8</th>\n",
       "      <th>...</th>\n",
       "      <th>load-21</th>\n",
       "      <th>load-22</th>\n",
       "      <th>load-23</th>\n",
       "      <th>load-24</th>\n",
       "      <th>load-25</th>\n",
       "      <th>load-26</th>\n",
       "      <th>load-27</th>\n",
       "      <th>load-28</th>\n",
       "      <th>load-29</th>\n",
       "      <th>load-30</th>\n",
       "    </tr>\n",
       "    <tr>\n",
       "      <th>timestamp</th>\n",
       "      <th></th>\n",
       "      <th></th>\n",
       "      <th></th>\n",
       "      <th></th>\n",
       "      <th></th>\n",
       "      <th></th>\n",
       "      <th></th>\n",
       "      <th></th>\n",
       "      <th></th>\n",
       "      <th></th>\n",
       "      <th></th>\n",
       "      <th></th>\n",
       "      <th></th>\n",
       "      <th></th>\n",
       "      <th></th>\n",
       "      <th></th>\n",
       "      <th></th>\n",
       "      <th></th>\n",
       "      <th></th>\n",
       "      <th></th>\n",
       "      <th></th>\n",
       "    </tr>\n",
       "  </thead>\n",
       "  <tbody>\n",
       "    <tr>\n",
       "      <th>2012-01-31</th>\n",
       "      <td>84069.0</td>\n",
       "      <td>26.236111</td>\n",
       "      <td>83643.0</td>\n",
       "      <td>75625.0</td>\n",
       "      <td>74928.0</td>\n",
       "      <td>81654.0</td>\n",
       "      <td>81906.0</td>\n",
       "      <td>81543.0</td>\n",
       "      <td>79804.0</td>\n",
       "      <td>84221.0</td>\n",
       "      <td>...</td>\n",
       "      <td>85158.0</td>\n",
       "      <td>85818.0</td>\n",
       "      <td>77767.0</td>\n",
       "      <td>76869.0</td>\n",
       "      <td>85591.0</td>\n",
       "      <td>88096.0</td>\n",
       "      <td>92168.0</td>\n",
       "      <td>87887.0</td>\n",
       "      <td>76841.0</td>\n",
       "      <td>71562.0</td>\n",
       "    </tr>\n",
       "    <tr>\n",
       "      <th>2012-02-01</th>\n",
       "      <td>81283.0</td>\n",
       "      <td>33.875000</td>\n",
       "      <td>84069.0</td>\n",
       "      <td>83643.0</td>\n",
       "      <td>75625.0</td>\n",
       "      <td>74928.0</td>\n",
       "      <td>81654.0</td>\n",
       "      <td>81906.0</td>\n",
       "      <td>81543.0</td>\n",
       "      <td>79804.0</td>\n",
       "      <td>...</td>\n",
       "      <td>85021.0</td>\n",
       "      <td>85158.0</td>\n",
       "      <td>85818.0</td>\n",
       "      <td>77767.0</td>\n",
       "      <td>76869.0</td>\n",
       "      <td>85591.0</td>\n",
       "      <td>88096.0</td>\n",
       "      <td>92168.0</td>\n",
       "      <td>87887.0</td>\n",
       "      <td>76841.0</td>\n",
       "    </tr>\n",
       "    <tr>\n",
       "      <th>2012-02-02</th>\n",
       "      <td>81645.0</td>\n",
       "      <td>29.319444</td>\n",
       "      <td>81283.0</td>\n",
       "      <td>84069.0</td>\n",
       "      <td>83643.0</td>\n",
       "      <td>75625.0</td>\n",
       "      <td>74928.0</td>\n",
       "      <td>81654.0</td>\n",
       "      <td>81906.0</td>\n",
       "      <td>81543.0</td>\n",
       "      <td>...</td>\n",
       "      <td>84824.0</td>\n",
       "      <td>85021.0</td>\n",
       "      <td>85158.0</td>\n",
       "      <td>85818.0</td>\n",
       "      <td>77767.0</td>\n",
       "      <td>76869.0</td>\n",
       "      <td>85591.0</td>\n",
       "      <td>88096.0</td>\n",
       "      <td>92168.0</td>\n",
       "      <td>87887.0</td>\n",
       "    </tr>\n",
       "    <tr>\n",
       "      <th>2012-02-03</th>\n",
       "      <td>82814.0</td>\n",
       "      <td>25.291667</td>\n",
       "      <td>81645.0</td>\n",
       "      <td>81283.0</td>\n",
       "      <td>84069.0</td>\n",
       "      <td>83643.0</td>\n",
       "      <td>75625.0</td>\n",
       "      <td>74928.0</td>\n",
       "      <td>81654.0</td>\n",
       "      <td>81906.0</td>\n",
       "      <td>...</td>\n",
       "      <td>83503.0</td>\n",
       "      <td>84824.0</td>\n",
       "      <td>85021.0</td>\n",
       "      <td>85158.0</td>\n",
       "      <td>85818.0</td>\n",
       "      <td>77767.0</td>\n",
       "      <td>76869.0</td>\n",
       "      <td>85591.0</td>\n",
       "      <td>88096.0</td>\n",
       "      <td>92168.0</td>\n",
       "    </tr>\n",
       "    <tr>\n",
       "      <th>2012-02-04</th>\n",
       "      <td>78043.0</td>\n",
       "      <td>26.055556</td>\n",
       "      <td>82814.0</td>\n",
       "      <td>81645.0</td>\n",
       "      <td>81283.0</td>\n",
       "      <td>84069.0</td>\n",
       "      <td>83643.0</td>\n",
       "      <td>75625.0</td>\n",
       "      <td>74928.0</td>\n",
       "      <td>81654.0</td>\n",
       "      <td>...</td>\n",
       "      <td>84300.0</td>\n",
       "      <td>83503.0</td>\n",
       "      <td>84824.0</td>\n",
       "      <td>85021.0</td>\n",
       "      <td>85158.0</td>\n",
       "      <td>85818.0</td>\n",
       "      <td>77767.0</td>\n",
       "      <td>76869.0</td>\n",
       "      <td>85591.0</td>\n",
       "      <td>88096.0</td>\n",
       "    </tr>\n",
       "    <tr>\n",
       "      <th>2012-02-05</th>\n",
       "      <td>78345.0</td>\n",
       "      <td>21.750000</td>\n",
       "      <td>78043.0</td>\n",
       "      <td>82814.0</td>\n",
       "      <td>81645.0</td>\n",
       "      <td>81283.0</td>\n",
       "      <td>84069.0</td>\n",
       "      <td>83643.0</td>\n",
       "      <td>75625.0</td>\n",
       "      <td>74928.0</td>\n",
       "      <td>...</td>\n",
       "      <td>88319.0</td>\n",
       "      <td>84300.0</td>\n",
       "      <td>83503.0</td>\n",
       "      <td>84824.0</td>\n",
       "      <td>85021.0</td>\n",
       "      <td>85158.0</td>\n",
       "      <td>85818.0</td>\n",
       "      <td>77767.0</td>\n",
       "      <td>76869.0</td>\n",
       "      <td>85591.0</td>\n",
       "    </tr>\n",
       "    <tr>\n",
       "      <th>2012-02-06</th>\n",
       "      <td>79866.0</td>\n",
       "      <td>35.513889</td>\n",
       "      <td>78345.0</td>\n",
       "      <td>78043.0</td>\n",
       "      <td>82814.0</td>\n",
       "      <td>81645.0</td>\n",
       "      <td>81283.0</td>\n",
       "      <td>84069.0</td>\n",
       "      <td>83643.0</td>\n",
       "      <td>75625.0</td>\n",
       "      <td>...</td>\n",
       "      <td>91228.0</td>\n",
       "      <td>88319.0</td>\n",
       "      <td>84300.0</td>\n",
       "      <td>83503.0</td>\n",
       "      <td>84824.0</td>\n",
       "      <td>85021.0</td>\n",
       "      <td>85158.0</td>\n",
       "      <td>85818.0</td>\n",
       "      <td>77767.0</td>\n",
       "      <td>76869.0</td>\n",
       "    </tr>\n",
       "    <tr>\n",
       "      <th>2012-02-07</th>\n",
       "      <td>80065.0</td>\n",
       "      <td>31.416667</td>\n",
       "      <td>79866.0</td>\n",
       "      <td>78345.0</td>\n",
       "      <td>78043.0</td>\n",
       "      <td>82814.0</td>\n",
       "      <td>81645.0</td>\n",
       "      <td>81283.0</td>\n",
       "      <td>84069.0</td>\n",
       "      <td>83643.0</td>\n",
       "      <td>...</td>\n",
       "      <td>83799.0</td>\n",
       "      <td>91228.0</td>\n",
       "      <td>88319.0</td>\n",
       "      <td>84300.0</td>\n",
       "      <td>83503.0</td>\n",
       "      <td>84824.0</td>\n",
       "      <td>85021.0</td>\n",
       "      <td>85158.0</td>\n",
       "      <td>85818.0</td>\n",
       "      <td>77767.0</td>\n",
       "    </tr>\n",
       "    <tr>\n",
       "      <th>2012-02-08</th>\n",
       "      <td>83039.0</td>\n",
       "      <td>24.305556</td>\n",
       "      <td>80065.0</td>\n",
       "      <td>79866.0</td>\n",
       "      <td>78345.0</td>\n",
       "      <td>78043.0</td>\n",
       "      <td>82814.0</td>\n",
       "      <td>81645.0</td>\n",
       "      <td>81283.0</td>\n",
       "      <td>84069.0</td>\n",
       "      <td>...</td>\n",
       "      <td>84192.0</td>\n",
       "      <td>83799.0</td>\n",
       "      <td>91228.0</td>\n",
       "      <td>88319.0</td>\n",
       "      <td>84300.0</td>\n",
       "      <td>83503.0</td>\n",
       "      <td>84824.0</td>\n",
       "      <td>85021.0</td>\n",
       "      <td>85158.0</td>\n",
       "      <td>85818.0</td>\n",
       "    </tr>\n",
       "    <tr>\n",
       "      <th>2012-02-09</th>\n",
       "      <td>80213.0</td>\n",
       "      <td>30.361111</td>\n",
       "      <td>83039.0</td>\n",
       "      <td>80065.0</td>\n",
       "      <td>79866.0</td>\n",
       "      <td>78345.0</td>\n",
       "      <td>78043.0</td>\n",
       "      <td>82814.0</td>\n",
       "      <td>81645.0</td>\n",
       "      <td>81283.0</td>\n",
       "      <td>...</td>\n",
       "      <td>90190.0</td>\n",
       "      <td>84192.0</td>\n",
       "      <td>83799.0</td>\n",
       "      <td>91228.0</td>\n",
       "      <td>88319.0</td>\n",
       "      <td>84300.0</td>\n",
       "      <td>83503.0</td>\n",
       "      <td>84824.0</td>\n",
       "      <td>85021.0</td>\n",
       "      <td>85158.0</td>\n",
       "    </tr>\n",
       "  </tbody>\n",
       "</table>\n",
       "<p>10 rows × 32 columns</p>\n",
       "</div>"
      ],
      "text/plain": [
       "               load       temp   load-1   load-2   load-3   load-4   load-5  \\\n",
       "timestamp                                                                     \n",
       "2012-01-31  84069.0  26.236111  83643.0  75625.0  74928.0  81654.0  81906.0   \n",
       "2012-02-01  81283.0  33.875000  84069.0  83643.0  75625.0  74928.0  81654.0   \n",
       "2012-02-02  81645.0  29.319444  81283.0  84069.0  83643.0  75625.0  74928.0   \n",
       "2012-02-03  82814.0  25.291667  81645.0  81283.0  84069.0  83643.0  75625.0   \n",
       "2012-02-04  78043.0  26.055556  82814.0  81645.0  81283.0  84069.0  83643.0   \n",
       "2012-02-05  78345.0  21.750000  78043.0  82814.0  81645.0  81283.0  84069.0   \n",
       "2012-02-06  79866.0  35.513889  78345.0  78043.0  82814.0  81645.0  81283.0   \n",
       "2012-02-07  80065.0  31.416667  79866.0  78345.0  78043.0  82814.0  81645.0   \n",
       "2012-02-08  83039.0  24.305556  80065.0  79866.0  78345.0  78043.0  82814.0   \n",
       "2012-02-09  80213.0  30.361111  83039.0  80065.0  79866.0  78345.0  78043.0   \n",
       "\n",
       "             load-6   load-7   load-8  ...  load-21  load-22  load-23  \\\n",
       "timestamp                              ...                              \n",
       "2012-01-31  81543.0  79804.0  84221.0  ...  85158.0  85818.0  77767.0   \n",
       "2012-02-01  81906.0  81543.0  79804.0  ...  85021.0  85158.0  85818.0   \n",
       "2012-02-02  81654.0  81906.0  81543.0  ...  84824.0  85021.0  85158.0   \n",
       "2012-02-03  74928.0  81654.0  81906.0  ...  83503.0  84824.0  85021.0   \n",
       "2012-02-04  75625.0  74928.0  81654.0  ...  84300.0  83503.0  84824.0   \n",
       "2012-02-05  83643.0  75625.0  74928.0  ...  88319.0  84300.0  83503.0   \n",
       "2012-02-06  84069.0  83643.0  75625.0  ...  91228.0  88319.0  84300.0   \n",
       "2012-02-07  81283.0  84069.0  83643.0  ...  83799.0  91228.0  88319.0   \n",
       "2012-02-08  81645.0  81283.0  84069.0  ...  84192.0  83799.0  91228.0   \n",
       "2012-02-09  82814.0  81645.0  81283.0  ...  90190.0  84192.0  83799.0   \n",
       "\n",
       "            load-24  load-25  load-26  load-27  load-28  load-29  load-30  \n",
       "timestamp                                                                  \n",
       "2012-01-31  76869.0  85591.0  88096.0  92168.0  87887.0  76841.0  71562.0  \n",
       "2012-02-01  77767.0  76869.0  85591.0  88096.0  92168.0  87887.0  76841.0  \n",
       "2012-02-02  85818.0  77767.0  76869.0  85591.0  88096.0  92168.0  87887.0  \n",
       "2012-02-03  85158.0  85818.0  77767.0  76869.0  85591.0  88096.0  92168.0  \n",
       "2012-02-04  85021.0  85158.0  85818.0  77767.0  76869.0  85591.0  88096.0  \n",
       "2012-02-05  84824.0  85021.0  85158.0  85818.0  77767.0  76869.0  85591.0  \n",
       "2012-02-06  83503.0  84824.0  85021.0  85158.0  85818.0  77767.0  76869.0  \n",
       "2012-02-07  84300.0  83503.0  84824.0  85021.0  85158.0  85818.0  77767.0  \n",
       "2012-02-08  88319.0  84300.0  83503.0  84824.0  85021.0  85158.0  85818.0  \n",
       "2012-02-09  91228.0  88319.0  84300.0  83503.0  84824.0  85021.0  85158.0  \n",
       "\n",
       "[10 rows x 32 columns]"
      ]
     },
     "execution_count": 78,
     "metadata": {},
     "output_type": "execute_result"
    }
   ],
   "source": [
    "df[:10]"
   ]
  },
  {
   "cell_type": "markdown",
   "metadata": {},
   "source": [
    "- 모든 특성을 사용하고 내일의 전력 사용량을 예측하는 경우"
   ]
  },
  {
   "cell_type": "code",
   "execution_count": 74,
   "metadata": {},
   "outputs": [],
   "source": [
    "X = df[df.columns.difference(['y+1', 'y+2', 'y+3'])]\n",
    "y = df['y+1']\n",
    "\n",
    "X_train, X_test, y_train, y_test = train_test_split(X, y, \n",
    "                shuffle=False, random_state=9)"
   ]
  },
  {
   "cell_type": "code",
   "execution_count": 75,
   "metadata": {},
   "outputs": [
    {
     "data": {
      "text/plain": [
       "0.6491"
      ]
     },
     "execution_count": 75,
     "metadata": {},
     "output_type": "execute_result"
    }
   ],
   "source": [
    "lin = LinearRegression()\n",
    "lin.fit(X_train, y_train) \n",
    "lin.score(X_test, y_test).round(4) "
   ]
  },
  {
   "cell_type": "markdown",
   "metadata": {},
   "source": [
    "## 과거 30일 데이터 사용\n",
    "- 내일 전력사용량 예측 (y+1)"
   ]
  },
  {
   "cell_type": "code",
   "execution_count": 92,
   "metadata": {},
   "outputs": [],
   "source": [
    "df = df_down.copy()\n",
    "\n",
    "N_load = 30\n",
    "for i in range (1,N_load + 1):\n",
    "    df['load-'+str(i)]=df.load.shift(i)\n",
    "    \n",
    "# N_temp = 30\n",
    "# for i in range (1,N_temp+1):\n",
    "#     df['temp-'+str(i)]=df.temp.shift(i)\n",
    "    \n",
    "N_target = 3\n",
    "for i in range (1, N_target+1):\n",
    "    df['y+'+str(i)]=df.load.shift(-i)"
   ]
  },
  {
   "cell_type": "code",
   "execution_count": 93,
   "metadata": {},
   "outputs": [
    {
     "data": {
      "text/plain": [
       "(1063, 35)"
      ]
     },
     "execution_count": 93,
     "metadata": {},
     "output_type": "execute_result"
    }
   ],
   "source": [
    "df = df.dropna()\n",
    "df.shape"
   ]
  },
  {
   "cell_type": "code",
   "execution_count": 94,
   "metadata": {},
   "outputs": [
    {
     "data": {
      "text/html": [
       "<div>\n",
       "<style scoped>\n",
       "    .dataframe tbody tr th:only-of-type {\n",
       "        vertical-align: middle;\n",
       "    }\n",
       "\n",
       "    .dataframe tbody tr th {\n",
       "        vertical-align: top;\n",
       "    }\n",
       "\n",
       "    .dataframe thead th {\n",
       "        text-align: right;\n",
       "    }\n",
       "</style>\n",
       "<table border=\"1\" class=\"dataframe\">\n",
       "  <thead>\n",
       "    <tr style=\"text-align: right;\">\n",
       "      <th></th>\n",
       "      <th>load</th>\n",
       "      <th>temp</th>\n",
       "      <th>load-1</th>\n",
       "      <th>load-2</th>\n",
       "      <th>load-3</th>\n",
       "      <th>load-4</th>\n",
       "      <th>load-5</th>\n",
       "      <th>load-6</th>\n",
       "      <th>load-7</th>\n",
       "      <th>load-8</th>\n",
       "      <th>...</th>\n",
       "      <th>load-24</th>\n",
       "      <th>load-25</th>\n",
       "      <th>load-26</th>\n",
       "      <th>load-27</th>\n",
       "      <th>load-28</th>\n",
       "      <th>load-29</th>\n",
       "      <th>load-30</th>\n",
       "      <th>y+1</th>\n",
       "      <th>y+2</th>\n",
       "      <th>y+3</th>\n",
       "    </tr>\n",
       "    <tr>\n",
       "      <th>timestamp</th>\n",
       "      <th></th>\n",
       "      <th></th>\n",
       "      <th></th>\n",
       "      <th></th>\n",
       "      <th></th>\n",
       "      <th></th>\n",
       "      <th></th>\n",
       "      <th></th>\n",
       "      <th></th>\n",
       "      <th></th>\n",
       "      <th></th>\n",
       "      <th></th>\n",
       "      <th></th>\n",
       "      <th></th>\n",
       "      <th></th>\n",
       "      <th></th>\n",
       "      <th></th>\n",
       "      <th></th>\n",
       "      <th></th>\n",
       "      <th></th>\n",
       "      <th></th>\n",
       "    </tr>\n",
       "  </thead>\n",
       "  <tbody>\n",
       "    <tr>\n",
       "      <th>2012-01-31</th>\n",
       "      <td>84069.0</td>\n",
       "      <td>26.236111</td>\n",
       "      <td>83643.0</td>\n",
       "      <td>75625.0</td>\n",
       "      <td>74928.0</td>\n",
       "      <td>81654.0</td>\n",
       "      <td>81906.0</td>\n",
       "      <td>81543.0</td>\n",
       "      <td>79804.0</td>\n",
       "      <td>84221.0</td>\n",
       "      <td>...</td>\n",
       "      <td>76869.0</td>\n",
       "      <td>85591.0</td>\n",
       "      <td>88096.0</td>\n",
       "      <td>92168.0</td>\n",
       "      <td>87887.0</td>\n",
       "      <td>76841.0</td>\n",
       "      <td>71562.0</td>\n",
       "      <td>81283.0</td>\n",
       "      <td>81645.0</td>\n",
       "      <td>82814.0</td>\n",
       "    </tr>\n",
       "    <tr>\n",
       "      <th>2012-02-01</th>\n",
       "      <td>81283.0</td>\n",
       "      <td>33.875000</td>\n",
       "      <td>84069.0</td>\n",
       "      <td>83643.0</td>\n",
       "      <td>75625.0</td>\n",
       "      <td>74928.0</td>\n",
       "      <td>81654.0</td>\n",
       "      <td>81906.0</td>\n",
       "      <td>81543.0</td>\n",
       "      <td>79804.0</td>\n",
       "      <td>...</td>\n",
       "      <td>77767.0</td>\n",
       "      <td>76869.0</td>\n",
       "      <td>85591.0</td>\n",
       "      <td>88096.0</td>\n",
       "      <td>92168.0</td>\n",
       "      <td>87887.0</td>\n",
       "      <td>76841.0</td>\n",
       "      <td>81645.0</td>\n",
       "      <td>82814.0</td>\n",
       "      <td>78043.0</td>\n",
       "    </tr>\n",
       "    <tr>\n",
       "      <th>2012-02-02</th>\n",
       "      <td>81645.0</td>\n",
       "      <td>29.319444</td>\n",
       "      <td>81283.0</td>\n",
       "      <td>84069.0</td>\n",
       "      <td>83643.0</td>\n",
       "      <td>75625.0</td>\n",
       "      <td>74928.0</td>\n",
       "      <td>81654.0</td>\n",
       "      <td>81906.0</td>\n",
       "      <td>81543.0</td>\n",
       "      <td>...</td>\n",
       "      <td>85818.0</td>\n",
       "      <td>77767.0</td>\n",
       "      <td>76869.0</td>\n",
       "      <td>85591.0</td>\n",
       "      <td>88096.0</td>\n",
       "      <td>92168.0</td>\n",
       "      <td>87887.0</td>\n",
       "      <td>82814.0</td>\n",
       "      <td>78043.0</td>\n",
       "      <td>78345.0</td>\n",
       "    </tr>\n",
       "  </tbody>\n",
       "</table>\n",
       "<p>3 rows × 35 columns</p>\n",
       "</div>"
      ],
      "text/plain": [
       "               load       temp   load-1   load-2   load-3   load-4   load-5  \\\n",
       "timestamp                                                                     \n",
       "2012-01-31  84069.0  26.236111  83643.0  75625.0  74928.0  81654.0  81906.0   \n",
       "2012-02-01  81283.0  33.875000  84069.0  83643.0  75625.0  74928.0  81654.0   \n",
       "2012-02-02  81645.0  29.319444  81283.0  84069.0  83643.0  75625.0  74928.0   \n",
       "\n",
       "             load-6   load-7   load-8  ...  load-24  load-25  load-26  \\\n",
       "timestamp                              ...                              \n",
       "2012-01-31  81543.0  79804.0  84221.0  ...  76869.0  85591.0  88096.0   \n",
       "2012-02-01  81906.0  81543.0  79804.0  ...  77767.0  76869.0  85591.0   \n",
       "2012-02-02  81654.0  81906.0  81543.0  ...  85818.0  77767.0  76869.0   \n",
       "\n",
       "            load-27  load-28  load-29  load-30      y+1      y+2      y+3  \n",
       "timestamp                                                                  \n",
       "2012-01-31  92168.0  87887.0  76841.0  71562.0  81283.0  81645.0  82814.0  \n",
       "2012-02-01  88096.0  92168.0  87887.0  76841.0  81645.0  82814.0  78043.0  \n",
       "2012-02-02  85591.0  88096.0  92168.0  87887.0  82814.0  78043.0  78345.0  \n",
       "\n",
       "[3 rows x 35 columns]"
      ]
     },
     "execution_count": 94,
     "metadata": {},
     "output_type": "execute_result"
    }
   ],
   "source": [
    "df[:3]"
   ]
  },
  {
   "cell_type": "code",
   "execution_count": 105,
   "metadata": {},
   "outputs": [],
   "source": [
    "X = df[df.columns.difference(['y+1','y+2','y+3'])]\n",
    "y = df['y+1']\n",
    "# y = df['y+2']  # 2일 후 예측 \n",
    "# y = df['y+3']  # 3일 후 예측 "
   ]
  },
  {
   "cell_type": "code",
   "execution_count": 106,
   "metadata": {},
   "outputs": [
    {
     "data": {
      "text/plain": [
       "0.7999"
      ]
     },
     "execution_count": 106,
     "metadata": {},
     "output_type": "execute_result"
    }
   ],
   "source": [
    "X_train, X_test, y_train, y_test = train_test_split(X, y, \n",
    "                shuffle=False, random_state=9)\n",
    "lin.fit(X_train, y_train) \n",
    "lin.score(X_test, y_test).round(4)"
   ]
  },
  {
   "cell_type": "code",
   "execution_count": 104,
   "metadata": {},
   "outputs": [
    {
     "name": "stdout",
     "output_type": "stream",
     "text": [
      "Max Error:  13011.015\n",
      "Mean Absolute Error:  3057.181\n",
      "Root Mean Squared Error:  4028.544\n",
      "R-Squared:  0.626\n"
     ]
    }
   ],
   "source": [
    "y_pred = lin.predict(X_test)\n",
    "show_reg_result(y_test, y_pred)"
   ]
  },
  {
   "cell_type": "markdown",
   "metadata": {},
   "source": [
    "- 모델과 데이터를 주고 학습 수행후 성능을 평가하는 함수\n",
    "- 디폴트로 shuffle=False 로 설정함 (시계열 데이터 이므로 과거 데이터로만 학습)"
   ]
  },
  {
   "cell_type": "code",
   "execution_count": 108,
   "metadata": {},
   "outputs": [],
   "source": [
    "def model_run(model, X, y):\n",
    "    X_train, X_test, y_train, y_test = train_test_split(X, y, \n",
    "                shuffle=False, random_state=9)\n",
    "    model.fit(X_train, y_train) \n",
    "    return model.score(X_test, y_test).round(4)"
   ]
  },
  {
   "cell_type": "markdown",
   "metadata": {},
   "source": [
    "- 동작 확인"
   ]
  },
  {
   "cell_type": "code",
   "execution_count": 110,
   "metadata": {},
   "outputs": [
    {
     "data": {
      "text/plain": [
       "0.7999"
      ]
     },
     "execution_count": 110,
     "metadata": {},
     "output_type": "execute_result"
    }
   ],
   "source": [
    "y = df['y+1']\n",
    "model_run(lin, X, y)"
   ]
  },
  {
   "cell_type": "code",
   "execution_count": 111,
   "metadata": {},
   "outputs": [
    {
     "data": {
      "text/plain": [
       "0.561"
      ]
     },
     "execution_count": 111,
     "metadata": {},
     "output_type": "execute_result"
    }
   ],
   "source": [
    "y = df['y+3']\n",
    "model_run(lin, X, y)"
   ]
  },
  {
   "cell_type": "markdown",
   "metadata": {},
   "source": [
    "### 선형, 랜덤포레스트, 부스팅 비교"
   ]
  },
  {
   "cell_type": "code",
   "execution_count": 117,
   "metadata": {},
   "outputs": [
    {
     "data": {
      "text/plain": [
       "[(LinearRegression(), 1, 0.7999),\n",
       " (LinearRegression(), 2, 0.6262),\n",
       " (LinearRegression(), 3, 0.561),\n",
       " (RandomForestRegressor(), 1, 0.7389),\n",
       " (RandomForestRegressor(), 2, 0.6028),\n",
       " (RandomForestRegressor(), 3, 0.5515),\n",
       " (LGBMRegressor(num_leaves=16), 1, 0.7793),\n",
       " (LGBMRegressor(num_leaves=16), 2, 0.577),\n",
       " (LGBMRegressor(num_leaves=16), 3, 0.5215)]"
      ]
     },
     "execution_count": 117,
     "metadata": {},
     "output_type": "execute_result"
    }
   ],
   "source": [
    "rfr = RandomForestRegressor()\n",
    "lgbm_r = LGBMRegressor(num_leaves=16)\n",
    "\n",
    "res = []\n",
    "for model in [lin, rfr, lgbm_r]:\n",
    "    for i in range(1,4):\n",
    "        y = df['y+'+str(i)]\n",
    "        r2 = model_run(model, X, y)\n",
    "        res.append((model, i, r2))\n",
    "res"
   ]
  },
  {
   "cell_type": "markdown",
   "metadata": {},
   "source": [
    "### 랜덤 포레스트 다중 예측\n",
    "- 랜덤 포레스트는 한번에 여러개의 y 값을 예측하는 모델을 지원한다\n",
    "- 아래는 y에 3개의 값을 예측하도록 했다"
   ]
  },
  {
   "cell_type": "code",
   "execution_count": 118,
   "metadata": {},
   "outputs": [
    {
     "data": {
      "text/plain": [
       "array([0.71994816, 0.56718913, 0.51526831])"
      ]
     },
     "execution_count": 118,
     "metadata": {},
     "output_type": "execute_result"
    }
   ],
   "source": [
    "y = df[['y+1', 'y+2', 'y+3']]\n",
    "X_train, X_test, y_train, y_test = train_test_split(X, y, \n",
    "                        shuffle=False, random_state=9)\n",
    "rfr.fit(X_train, y_train) \n",
    "y_pred = rfr.predict(X_test)\n",
    "r2_score(y_test, y_pred, multioutput='raw_values')"
   ]
  },
  {
   "cell_type": "markdown",
   "metadata": {},
   "source": [
    "## 기타 특성 추가\n",
    "- 이동평균, 이동분산, 최대-최소 차이, 평활화(ewma: Exponentially-weighted moving average) 등 특성을 추가할 수 있다"
   ]
  },
  {
   "cell_type": "code",
   "execution_count": 119,
   "metadata": {},
   "outputs": [
    {
     "data": {
      "text/html": [
       "<div>\n",
       "<style scoped>\n",
       "    .dataframe tbody tr th:only-of-type {\n",
       "        vertical-align: middle;\n",
       "    }\n",
       "\n",
       "    .dataframe tbody tr th {\n",
       "        vertical-align: top;\n",
       "    }\n",
       "\n",
       "    .dataframe thead th {\n",
       "        text-align: right;\n",
       "    }\n",
       "</style>\n",
       "<table border=\"1\" class=\"dataframe\">\n",
       "  <thead>\n",
       "    <tr style=\"text-align: right;\">\n",
       "      <th></th>\n",
       "      <th>load</th>\n",
       "      <th>load-1</th>\n",
       "      <th>load-10</th>\n",
       "      <th>load-11</th>\n",
       "      <th>load-12</th>\n",
       "      <th>load-13</th>\n",
       "      <th>load-14</th>\n",
       "      <th>load-15</th>\n",
       "      <th>load-16</th>\n",
       "      <th>load-17</th>\n",
       "      <th>...</th>\n",
       "      <th>load-3</th>\n",
       "      <th>load-30</th>\n",
       "      <th>load-4</th>\n",
       "      <th>load-5</th>\n",
       "      <th>load-6</th>\n",
       "      <th>load-7</th>\n",
       "      <th>load-8</th>\n",
       "      <th>load-9</th>\n",
       "      <th>temp</th>\n",
       "      <th>5-mean</th>\n",
       "    </tr>\n",
       "    <tr>\n",
       "      <th>timestamp</th>\n",
       "      <th></th>\n",
       "      <th></th>\n",
       "      <th></th>\n",
       "      <th></th>\n",
       "      <th></th>\n",
       "      <th></th>\n",
       "      <th></th>\n",
       "      <th></th>\n",
       "      <th></th>\n",
       "      <th></th>\n",
       "      <th></th>\n",
       "      <th></th>\n",
       "      <th></th>\n",
       "      <th></th>\n",
       "      <th></th>\n",
       "      <th></th>\n",
       "      <th></th>\n",
       "      <th></th>\n",
       "      <th></th>\n",
       "      <th></th>\n",
       "      <th></th>\n",
       "    </tr>\n",
       "  </thead>\n",
       "  <tbody>\n",
       "    <tr>\n",
       "      <th>2012-01-31</th>\n",
       "      <td>84069.0</td>\n",
       "      <td>83643.0</td>\n",
       "      <td>85869.0</td>\n",
       "      <td>87129.0</td>\n",
       "      <td>90190.0</td>\n",
       "      <td>84192.0</td>\n",
       "      <td>83799.0</td>\n",
       "      <td>91228.0</td>\n",
       "      <td>88319.0</td>\n",
       "      <td>84300.0</td>\n",
       "      <td>...</td>\n",
       "      <td>74928.0</td>\n",
       "      <td>71562.0</td>\n",
       "      <td>81654.0</td>\n",
       "      <td>81906.0</td>\n",
       "      <td>81543.0</td>\n",
       "      <td>79804.0</td>\n",
       "      <td>84221.0</td>\n",
       "      <td>82897.0</td>\n",
       "      <td>26.236111</td>\n",
       "      <td>84069.000000</td>\n",
       "    </tr>\n",
       "    <tr>\n",
       "      <th>2012-02-01</th>\n",
       "      <td>81283.0</td>\n",
       "      <td>84069.0</td>\n",
       "      <td>82897.0</td>\n",
       "      <td>85869.0</td>\n",
       "      <td>87129.0</td>\n",
       "      <td>90190.0</td>\n",
       "      <td>84192.0</td>\n",
       "      <td>83799.0</td>\n",
       "      <td>91228.0</td>\n",
       "      <td>88319.0</td>\n",
       "      <td>...</td>\n",
       "      <td>75625.0</td>\n",
       "      <td>76841.0</td>\n",
       "      <td>74928.0</td>\n",
       "      <td>81654.0</td>\n",
       "      <td>81906.0</td>\n",
       "      <td>81543.0</td>\n",
       "      <td>79804.0</td>\n",
       "      <td>84221.0</td>\n",
       "      <td>33.875000</td>\n",
       "      <td>82676.000000</td>\n",
       "    </tr>\n",
       "    <tr>\n",
       "      <th>2012-02-02</th>\n",
       "      <td>81645.0</td>\n",
       "      <td>81283.0</td>\n",
       "      <td>84221.0</td>\n",
       "      <td>82897.0</td>\n",
       "      <td>85869.0</td>\n",
       "      <td>87129.0</td>\n",
       "      <td>90190.0</td>\n",
       "      <td>84192.0</td>\n",
       "      <td>83799.0</td>\n",
       "      <td>91228.0</td>\n",
       "      <td>...</td>\n",
       "      <td>83643.0</td>\n",
       "      <td>87887.0</td>\n",
       "      <td>75625.0</td>\n",
       "      <td>74928.0</td>\n",
       "      <td>81654.0</td>\n",
       "      <td>81906.0</td>\n",
       "      <td>81543.0</td>\n",
       "      <td>79804.0</td>\n",
       "      <td>29.319444</td>\n",
       "      <td>82332.333333</td>\n",
       "    </tr>\n",
       "    <tr>\n",
       "      <th>2012-02-03</th>\n",
       "      <td>82814.0</td>\n",
       "      <td>81645.0</td>\n",
       "      <td>79804.0</td>\n",
       "      <td>84221.0</td>\n",
       "      <td>82897.0</td>\n",
       "      <td>85869.0</td>\n",
       "      <td>87129.0</td>\n",
       "      <td>90190.0</td>\n",
       "      <td>84192.0</td>\n",
       "      <td>83799.0</td>\n",
       "      <td>...</td>\n",
       "      <td>84069.0</td>\n",
       "      <td>92168.0</td>\n",
       "      <td>83643.0</td>\n",
       "      <td>75625.0</td>\n",
       "      <td>74928.0</td>\n",
       "      <td>81654.0</td>\n",
       "      <td>81906.0</td>\n",
       "      <td>81543.0</td>\n",
       "      <td>25.291667</td>\n",
       "      <td>82452.750000</td>\n",
       "    </tr>\n",
       "    <tr>\n",
       "      <th>2012-02-04</th>\n",
       "      <td>78043.0</td>\n",
       "      <td>82814.0</td>\n",
       "      <td>81543.0</td>\n",
       "      <td>79804.0</td>\n",
       "      <td>84221.0</td>\n",
       "      <td>82897.0</td>\n",
       "      <td>85869.0</td>\n",
       "      <td>87129.0</td>\n",
       "      <td>90190.0</td>\n",
       "      <td>84192.0</td>\n",
       "      <td>...</td>\n",
       "      <td>81283.0</td>\n",
       "      <td>88096.0</td>\n",
       "      <td>84069.0</td>\n",
       "      <td>83643.0</td>\n",
       "      <td>75625.0</td>\n",
       "      <td>74928.0</td>\n",
       "      <td>81654.0</td>\n",
       "      <td>81906.0</td>\n",
       "      <td>26.055556</td>\n",
       "      <td>81570.800000</td>\n",
       "    </tr>\n",
       "  </tbody>\n",
       "</table>\n",
       "<p>5 rows × 33 columns</p>\n",
       "</div>"
      ],
      "text/plain": [
       "               load   load-1  load-10  load-11  load-12  load-13  load-14  \\\n",
       "timestamp                                                                   \n",
       "2012-01-31  84069.0  83643.0  85869.0  87129.0  90190.0  84192.0  83799.0   \n",
       "2012-02-01  81283.0  84069.0  82897.0  85869.0  87129.0  90190.0  84192.0   \n",
       "2012-02-02  81645.0  81283.0  84221.0  82897.0  85869.0  87129.0  90190.0   \n",
       "2012-02-03  82814.0  81645.0  79804.0  84221.0  82897.0  85869.0  87129.0   \n",
       "2012-02-04  78043.0  82814.0  81543.0  79804.0  84221.0  82897.0  85869.0   \n",
       "\n",
       "            load-15  load-16  load-17  ...   load-3  load-30   load-4  \\\n",
       "timestamp                              ...                              \n",
       "2012-01-31  91228.0  88319.0  84300.0  ...  74928.0  71562.0  81654.0   \n",
       "2012-02-01  83799.0  91228.0  88319.0  ...  75625.0  76841.0  74928.0   \n",
       "2012-02-02  84192.0  83799.0  91228.0  ...  83643.0  87887.0  75625.0   \n",
       "2012-02-03  90190.0  84192.0  83799.0  ...  84069.0  92168.0  83643.0   \n",
       "2012-02-04  87129.0  90190.0  84192.0  ...  81283.0  88096.0  84069.0   \n",
       "\n",
       "             load-5   load-6   load-7   load-8   load-9       temp  \\\n",
       "timestamp                                                            \n",
       "2012-01-31  81906.0  81543.0  79804.0  84221.0  82897.0  26.236111   \n",
       "2012-02-01  81654.0  81906.0  81543.0  79804.0  84221.0  33.875000   \n",
       "2012-02-02  74928.0  81654.0  81906.0  81543.0  79804.0  29.319444   \n",
       "2012-02-03  75625.0  74928.0  81654.0  81906.0  81543.0  25.291667   \n",
       "2012-02-04  83643.0  75625.0  74928.0  81654.0  81906.0  26.055556   \n",
       "\n",
       "                  5-mean  \n",
       "timestamp                 \n",
       "2012-01-31  84069.000000  \n",
       "2012-02-01  82676.000000  \n",
       "2012-02-02  82332.333333  \n",
       "2012-02-03  82452.750000  \n",
       "2012-02-04  81570.800000  \n",
       "\n",
       "[5 rows x 33 columns]"
      ]
     },
     "execution_count": 119,
     "metadata": {},
     "output_type": "execute_result"
    }
   ],
   "source": [
    "# 과거 5일간의 이동 평균치를 컬럼에 추가\n",
    "X2= X.copy()\n",
    "X2[\"5-mean\"] = X2.load.rolling(5,min_periods=1).mean()\n",
    "X2[:5]"
   ]
  },
  {
   "cell_type": "markdown",
   "metadata": {},
   "source": [
    "- 다양한 특성 추가 예시\n",
    "- ema에 지수형 가중값을 구한다\n",
    "- min_periods=1 의 의미는 필요한 갯수가 되지 않더라도, 한개라도 평균 등을 계산하라는 뜻임 (초기 값들을 버리지 않기 위함)"
   ]
  },
  {
   "cell_type": "code",
   "execution_count": 120,
   "metadata": {},
   "outputs": [
    {
     "data": {
      "text/html": [
       "<div>\n",
       "<style scoped>\n",
       "    .dataframe tbody tr th:only-of-type {\n",
       "        vertical-align: middle;\n",
       "    }\n",
       "\n",
       "    .dataframe tbody tr th {\n",
       "        vertical-align: top;\n",
       "    }\n",
       "\n",
       "    .dataframe thead th {\n",
       "        text-align: right;\n",
       "    }\n",
       "</style>\n",
       "<table border=\"1\" class=\"dataframe\">\n",
       "  <thead>\n",
       "    <tr style=\"text-align: right;\">\n",
       "      <th></th>\n",
       "      <th>load</th>\n",
       "      <th>load-1</th>\n",
       "      <th>load-10</th>\n",
       "      <th>load-11</th>\n",
       "      <th>load-12</th>\n",
       "      <th>load-13</th>\n",
       "      <th>load-14</th>\n",
       "      <th>load-15</th>\n",
       "      <th>load-16</th>\n",
       "      <th>load-17</th>\n",
       "      <th>...</th>\n",
       "      <th>load-8</th>\n",
       "      <th>load-9</th>\n",
       "      <th>temp</th>\n",
       "      <th>5-mean</th>\n",
       "      <th>20-mean</th>\n",
       "      <th>10-std</th>\n",
       "      <th>5EWMA</th>\n",
       "      <th>5-max</th>\n",
       "      <th>5-min</th>\n",
       "      <th>5-peak-difference</th>\n",
       "    </tr>\n",
       "    <tr>\n",
       "      <th>timestamp</th>\n",
       "      <th></th>\n",
       "      <th></th>\n",
       "      <th></th>\n",
       "      <th></th>\n",
       "      <th></th>\n",
       "      <th></th>\n",
       "      <th></th>\n",
       "      <th></th>\n",
       "      <th></th>\n",
       "      <th></th>\n",
       "      <th></th>\n",
       "      <th></th>\n",
       "      <th></th>\n",
       "      <th></th>\n",
       "      <th></th>\n",
       "      <th></th>\n",
       "      <th></th>\n",
       "      <th></th>\n",
       "      <th></th>\n",
       "      <th></th>\n",
       "      <th></th>\n",
       "    </tr>\n",
       "  </thead>\n",
       "  <tbody>\n",
       "    <tr>\n",
       "      <th>2012-01-31</th>\n",
       "      <td>84069.0</td>\n",
       "      <td>83643.0</td>\n",
       "      <td>85869.0</td>\n",
       "      <td>87129.0</td>\n",
       "      <td>90190.0</td>\n",
       "      <td>84192.0</td>\n",
       "      <td>83799.0</td>\n",
       "      <td>91228.0</td>\n",
       "      <td>88319.0</td>\n",
       "      <td>84300.0</td>\n",
       "      <td>...</td>\n",
       "      <td>84221.0</td>\n",
       "      <td>82897.0</td>\n",
       "      <td>26.236111</td>\n",
       "      <td>84069.000000</td>\n",
       "      <td>84069.000000</td>\n",
       "      <td>0.000000</td>\n",
       "      <td>84069.0</td>\n",
       "      <td>84069.0</td>\n",
       "      <td>84069.0</td>\n",
       "      <td>0.0</td>\n",
       "    </tr>\n",
       "    <tr>\n",
       "      <th>2012-02-01</th>\n",
       "      <td>81283.0</td>\n",
       "      <td>84069.0</td>\n",
       "      <td>82897.0</td>\n",
       "      <td>85869.0</td>\n",
       "      <td>87129.0</td>\n",
       "      <td>90190.0</td>\n",
       "      <td>84192.0</td>\n",
       "      <td>83799.0</td>\n",
       "      <td>91228.0</td>\n",
       "      <td>88319.0</td>\n",
       "      <td>...</td>\n",
       "      <td>79804.0</td>\n",
       "      <td>84221.0</td>\n",
       "      <td>33.875000</td>\n",
       "      <td>82676.000000</td>\n",
       "      <td>82676.000000</td>\n",
       "      <td>1969.999492</td>\n",
       "      <td>82397.4</td>\n",
       "      <td>84069.0</td>\n",
       "      <td>81283.0</td>\n",
       "      <td>2786.0</td>\n",
       "    </tr>\n",
       "    <tr>\n",
       "      <th>2012-02-02</th>\n",
       "      <td>81645.0</td>\n",
       "      <td>81283.0</td>\n",
       "      <td>84221.0</td>\n",
       "      <td>82897.0</td>\n",
       "      <td>85869.0</td>\n",
       "      <td>87129.0</td>\n",
       "      <td>90190.0</td>\n",
       "      <td>84192.0</td>\n",
       "      <td>83799.0</td>\n",
       "      <td>91228.0</td>\n",
       "      <td>...</td>\n",
       "      <td>81543.0</td>\n",
       "      <td>79804.0</td>\n",
       "      <td>29.319444</td>\n",
       "      <td>82332.333333</td>\n",
       "      <td>82332.333333</td>\n",
       "      <td>1514.849607</td>\n",
       "      <td>82041.0</td>\n",
       "      <td>84069.0</td>\n",
       "      <td>81283.0</td>\n",
       "      <td>2786.0</td>\n",
       "    </tr>\n",
       "  </tbody>\n",
       "</table>\n",
       "<p>3 rows × 39 columns</p>\n",
       "</div>"
      ],
      "text/plain": [
       "               load   load-1  load-10  load-11  load-12  load-13  load-14  \\\n",
       "timestamp                                                                   \n",
       "2012-01-31  84069.0  83643.0  85869.0  87129.0  90190.0  84192.0  83799.0   \n",
       "2012-02-01  81283.0  84069.0  82897.0  85869.0  87129.0  90190.0  84192.0   \n",
       "2012-02-02  81645.0  81283.0  84221.0  82897.0  85869.0  87129.0  90190.0   \n",
       "\n",
       "            load-15  load-16  load-17  ...   load-8   load-9       temp  \\\n",
       "timestamp                              ...                                \n",
       "2012-01-31  91228.0  88319.0  84300.0  ...  84221.0  82897.0  26.236111   \n",
       "2012-02-01  83799.0  91228.0  88319.0  ...  79804.0  84221.0  33.875000   \n",
       "2012-02-02  84192.0  83799.0  91228.0  ...  81543.0  79804.0  29.319444   \n",
       "\n",
       "                  5-mean       20-mean       10-std    5EWMA    5-max  \\\n",
       "timestamp                                                               \n",
       "2012-01-31  84069.000000  84069.000000     0.000000  84069.0  84069.0   \n",
       "2012-02-01  82676.000000  82676.000000  1969.999492  82397.4  84069.0   \n",
       "2012-02-02  82332.333333  82332.333333  1514.849607  82041.0  84069.0   \n",
       "\n",
       "              5-min  5-peak-difference  \n",
       "timestamp                               \n",
       "2012-01-31  84069.0                0.0  \n",
       "2012-02-01  81283.0             2786.0  \n",
       "2012-02-02  81283.0             2786.0  \n",
       "\n",
       "[3 rows x 39 columns]"
      ]
     },
     "execution_count": 120,
     "metadata": {},
     "output_type": "execute_result"
    }
   ],
   "source": [
    "X2[\"20-mean\"] = X2.load.rolling(20,min_periods=1).mean()\n",
    "X2[\"10-std\"] = X2.load.rolling(10, min_periods=1).std().fillna(0)\n",
    "X2['5EWMA'] = X2.load.ewm(span=5).mean()\n",
    "X2[\"5-max\"] = X2.load.rolling(5, min_periods=1).max()\n",
    "X2[\"5-min\"] = X2.load.rolling(5, min_periods=1).min()\n",
    "X2[\"5-peak-difference\"] = X2.load.rolling(5, min_periods=1).max()-X2.load.rolling(5, min_periods=1).min()\n",
    "X2[:3]"
   ]
  },
  {
   "cell_type": "code",
   "execution_count": 122,
   "metadata": {},
   "outputs": [
    {
     "data": {
      "text/plain": [
       "[(LinearRegression(), 1, 0.7979),\n",
       " (LinearRegression(), 2, 0.6173),\n",
       " (LinearRegression(), 3, 0.5502),\n",
       " (RandomForestRegressor(), 1, 0.7395),\n",
       " (RandomForestRegressor(), 2, 0.5824),\n",
       " (RandomForestRegressor(), 3, 0.511),\n",
       " (LGBMRegressor(num_leaves=16), 1, 0.7668),\n",
       " (LGBMRegressor(num_leaves=16), 2, 0.5704),\n",
       " (LGBMRegressor(num_leaves=16), 3, 0.4774)]"
      ]
     },
     "execution_count": 122,
     "metadata": {},
     "output_type": "execute_result"
    }
   ],
   "source": [
    "# X2를 사용하는 경우의 성능 비교 (아래에서 X2를 사용함)\n",
    "res = []\n",
    "for model in [lin, rfr, lgbm_r]:\n",
    "    for i in range(1,4):\n",
    "        y = df['y+'+str(i)]\n",
    "        r2 = model_run(model, X2, y)\n",
    "        res.append((model, i, r2))\n",
    "res"
   ]
  },
  {
   "cell_type": "code",
   "execution_count": null,
   "metadata": {},
   "outputs": [],
   "source": []
  }
 ],
 "metadata": {
  "colab": {
   "collapsed_sections": [],
   "name": "g_30_날씨예측.ipynb",
   "provenance": []
  },
  "kernelspec": {
   "display_name": "Python 3",
   "language": "python",
   "name": "python3"
  },
  "language_info": {
   "codemirror_mode": {
    "name": "ipython",
    "version": 3
   },
   "file_extension": ".py",
   "mimetype": "text/x-python",
   "name": "python",
   "nbconvert_exporter": "python",
   "pygments_lexer": "ipython3",
   "version": "3.8.8"
  },
  "toc": {
   "base_numbering": 1,
   "nav_menu": {},
   "number_sections": false,
   "sideBar": true,
   "skip_h1_title": false,
   "title_cell": "Table of Contents",
   "title_sidebar": "Contents",
   "toc_cell": false,
   "toc_position": {
    "height": "calc(100% - 180px)",
    "left": "10px",
    "top": "150px",
    "width": "229.933px"
   },
   "toc_section_display": true,
   "toc_window_display": true
  }
 },
 "nbformat": 4,
 "nbformat_minor": 1
}
