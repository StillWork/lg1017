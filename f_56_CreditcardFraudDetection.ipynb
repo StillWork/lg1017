{
 "cells": [
  {
   "cell_type": "markdown",
   "metadata": {
    "id": "_hOsUA7a-jEv"
   },
   "source": [
    "# 데이터 불균형\n",
    "\n",
    "- 신용카드 도용 탐지\n",
    "- 2013년 유럽의 카드 사용 내역 (2일간)\n",
    "- 불균형 데이터 처리\n",
    " - SMOTE\n",
    " - RandomOverSampler\n",
    " - ADASYN\n",
    " - (참고) SMOTENC(categorical_features=[18, 19]))"
   ]
  },
  {
   "cell_type": "code",
   "execution_count": 2,
   "metadata": {
    "id": "A-f0C62f-jEw"
   },
   "outputs": [],
   "source": [
    "import pandas as pd\n",
    "import numpy as np \n",
    "import matplotlib.pyplot as plt\n",
    "import warnings\n",
    "warnings.filterwarnings(\"ignore\")\n",
    "%matplotlib inline\n",
    "%config InlineBackend.figure_format = 'retina'"
   ]
  },
  {
   "cell_type": "code",
   "execution_count": 3,
   "metadata": {
    "id": "8NpR7LJK5r5Q"
   },
   "outputs": [],
   "source": [
    "from sklearn.model_selection import train_test_split\n",
    "from sklearn.metrics import confusion_matrix, classification_report,roc_curve, roc_auc_score\n",
    "from sklearn.metrics import plot_precision_recall_curve,precision_recall_curve, average_precision_score\n",
    "from imblearn.over_sampling import SMOTE, SMOTENC, ADASYN, RandomOverSampler"
   ]
  },
  {
   "cell_type": "markdown",
   "metadata": {
    "id": "pPjzKYMFHh_y"
   },
   "source": [
    "- 데이터 다운로드 66M"
   ]
  },
  {
   "cell_type": "code",
   "execution_count": 4,
   "metadata": {
    "colab": {
     "base_uri": "https://localhost:8080/"
    },
    "id": "byRDjkDw-jEz",
    "outputId": "159f55cd-685b-4c7e-b8c3-b3ae69a1dac8",
    "scrolled": false
   },
   "outputs": [
    {
     "name": "stdout",
     "output_type": "stream",
     "text": [
      "  % Total    % Received % Xferd  Average Speed   Time    Time     Time  Current\n",
      "                                 Dload  Upload   Total   Spent    Left  Speed\n",
      "\r",
      "  0     0    0     0    0     0      0      0 --:--:-- --:--:-- --:--:--     0\r",
      "100   147  100   147    0     0   2333      0 --:--:-- --:--:-- --:--:--  2333\n",
      "100   143    0   143    0     0    541      0 --:--:-- --:--:-- --:--:--   541\n",
      "100   318  100   318    0     0    565      0 --:--:-- --:--:-- --:--:--     0\n",
      "100  1076    0  1076    0     0   1288      0 --:--:-- --:--:-- --:--:--  1288\n",
      "100 65.9M  100 65.9M    0     0  29.9M      0  0:00:02  0:00:02 --:--:-- 74.0M\n"
     ]
    }
   ],
   "source": [
    "!curl -L https://bit.ly/2nweJrO -o credit.csv.zip"
   ]
  },
  {
   "cell_type": "code",
   "execution_count": 5,
   "metadata": {
    "colab": {
     "base_uri": "https://localhost:8080/"
    },
    "id": "L5_8RGFU-jE2",
    "outputId": "aa468a44-be1e-4bce-a4dd-ea4c63ff1cad"
   },
   "outputs": [
    {
     "name": "stdout",
     "output_type": "stream",
     "text": [
      "Archive:  credit.csv.zip\n",
      "  inflating: creditcard.csv          \n"
     ]
    }
   ],
   "source": [
    "!unzip -o credit.csv.zip"
   ]
  },
  {
   "cell_type": "code",
   "execution_count": 6,
   "metadata": {
    "colab": {
     "base_uri": "https://localhost:8080/",
     "height": 180
    },
    "id": "oeErgcW8-jE4",
    "outputId": "5f64298d-7443-4fb8-d417-0b4417dc86c9",
    "scrolled": false
   },
   "outputs": [
    {
     "name": "stdout",
     "output_type": "stream",
     "text": [
      "(284807, 31)\n"
     ]
    },
    {
     "data": {
      "text/html": [
       "<div>\n",
       "<style scoped>\n",
       "    .dataframe tbody tr th:only-of-type {\n",
       "        vertical-align: middle;\n",
       "    }\n",
       "\n",
       "    .dataframe tbody tr th {\n",
       "        vertical-align: top;\n",
       "    }\n",
       "\n",
       "    .dataframe thead th {\n",
       "        text-align: right;\n",
       "    }\n",
       "</style>\n",
       "<table border=\"1\" class=\"dataframe\">\n",
       "  <thead>\n",
       "    <tr style=\"text-align: right;\">\n",
       "      <th></th>\n",
       "      <th>Time</th>\n",
       "      <th>V1</th>\n",
       "      <th>V2</th>\n",
       "      <th>V3</th>\n",
       "      <th>V4</th>\n",
       "      <th>V5</th>\n",
       "      <th>V6</th>\n",
       "      <th>V7</th>\n",
       "      <th>V8</th>\n",
       "      <th>V9</th>\n",
       "      <th>V10</th>\n",
       "      <th>V11</th>\n",
       "      <th>V12</th>\n",
       "      <th>V13</th>\n",
       "      <th>V14</th>\n",
       "      <th>V15</th>\n",
       "      <th>V16</th>\n",
       "      <th>V17</th>\n",
       "      <th>V18</th>\n",
       "      <th>V19</th>\n",
       "      <th>V20</th>\n",
       "      <th>V21</th>\n",
       "      <th>V22</th>\n",
       "      <th>V23</th>\n",
       "      <th>V24</th>\n",
       "      <th>V25</th>\n",
       "      <th>V26</th>\n",
       "      <th>V27</th>\n",
       "      <th>V28</th>\n",
       "      <th>Amount</th>\n",
       "      <th>Class</th>\n",
       "    </tr>\n",
       "  </thead>\n",
       "  <tbody>\n",
       "    <tr>\n",
       "      <th>0</th>\n",
       "      <td>0.0</td>\n",
       "      <td>-1.359807</td>\n",
       "      <td>-0.072781</td>\n",
       "      <td>2.536347</td>\n",
       "      <td>1.378155</td>\n",
       "      <td>-0.338321</td>\n",
       "      <td>0.462388</td>\n",
       "      <td>0.239599</td>\n",
       "      <td>0.098698</td>\n",
       "      <td>0.363787</td>\n",
       "      <td>0.090794</td>\n",
       "      <td>-0.551600</td>\n",
       "      <td>-0.617801</td>\n",
       "      <td>-0.991390</td>\n",
       "      <td>-0.311169</td>\n",
       "      <td>1.468177</td>\n",
       "      <td>-0.470401</td>\n",
       "      <td>0.207971</td>\n",
       "      <td>0.025791</td>\n",
       "      <td>0.403993</td>\n",
       "      <td>0.251412</td>\n",
       "      <td>-0.018307</td>\n",
       "      <td>0.277838</td>\n",
       "      <td>-0.110474</td>\n",
       "      <td>0.066928</td>\n",
       "      <td>0.128539</td>\n",
       "      <td>-0.189115</td>\n",
       "      <td>0.133558</td>\n",
       "      <td>-0.021053</td>\n",
       "      <td>149.62</td>\n",
       "      <td>0</td>\n",
       "    </tr>\n",
       "    <tr>\n",
       "      <th>1</th>\n",
       "      <td>0.0</td>\n",
       "      <td>1.191857</td>\n",
       "      <td>0.266151</td>\n",
       "      <td>0.166480</td>\n",
       "      <td>0.448154</td>\n",
       "      <td>0.060018</td>\n",
       "      <td>-0.082361</td>\n",
       "      <td>-0.078803</td>\n",
       "      <td>0.085102</td>\n",
       "      <td>-0.255425</td>\n",
       "      <td>-0.166974</td>\n",
       "      <td>1.612727</td>\n",
       "      <td>1.065235</td>\n",
       "      <td>0.489095</td>\n",
       "      <td>-0.143772</td>\n",
       "      <td>0.635558</td>\n",
       "      <td>0.463917</td>\n",
       "      <td>-0.114805</td>\n",
       "      <td>-0.183361</td>\n",
       "      <td>-0.145783</td>\n",
       "      <td>-0.069083</td>\n",
       "      <td>-0.225775</td>\n",
       "      <td>-0.638672</td>\n",
       "      <td>0.101288</td>\n",
       "      <td>-0.339846</td>\n",
       "      <td>0.167170</td>\n",
       "      <td>0.125895</td>\n",
       "      <td>-0.008983</td>\n",
       "      <td>0.014724</td>\n",
       "      <td>2.69</td>\n",
       "      <td>0</td>\n",
       "    </tr>\n",
       "    <tr>\n",
       "      <th>2</th>\n",
       "      <td>1.0</td>\n",
       "      <td>-1.358354</td>\n",
       "      <td>-1.340163</td>\n",
       "      <td>1.773209</td>\n",
       "      <td>0.379780</td>\n",
       "      <td>-0.503198</td>\n",
       "      <td>1.800499</td>\n",
       "      <td>0.791461</td>\n",
       "      <td>0.247676</td>\n",
       "      <td>-1.514654</td>\n",
       "      <td>0.207643</td>\n",
       "      <td>0.624501</td>\n",
       "      <td>0.066084</td>\n",
       "      <td>0.717293</td>\n",
       "      <td>-0.165946</td>\n",
       "      <td>2.345865</td>\n",
       "      <td>-2.890083</td>\n",
       "      <td>1.109969</td>\n",
       "      <td>-0.121359</td>\n",
       "      <td>-2.261857</td>\n",
       "      <td>0.524980</td>\n",
       "      <td>0.247998</td>\n",
       "      <td>0.771679</td>\n",
       "      <td>0.909412</td>\n",
       "      <td>-0.689281</td>\n",
       "      <td>-0.327642</td>\n",
       "      <td>-0.139097</td>\n",
       "      <td>-0.055353</td>\n",
       "      <td>-0.059752</td>\n",
       "      <td>378.66</td>\n",
       "      <td>0</td>\n",
       "    </tr>\n",
       "  </tbody>\n",
       "</table>\n",
       "</div>"
      ],
      "text/plain": [
       "   Time        V1        V2        V3  ...       V27       V28  Amount  Class\n",
       "0   0.0 -1.359807 -0.072781  2.536347  ...  0.133558 -0.021053  149.62      0\n",
       "1   0.0  1.191857  0.266151  0.166480  ... -0.008983  0.014724    2.69      0\n",
       "2   1.0 -1.358354 -1.340163  1.773209  ... -0.055353 -0.059752  378.66      0\n",
       "\n",
       "[3 rows x 31 columns]"
      ]
     },
     "execution_count": 6,
     "metadata": {},
     "output_type": "execute_result"
    }
   ],
   "source": [
    "card_df = pd.read_csv('./creditcard.csv')\n",
    "print(card_df.shape)\n",
    "card_df.head(3)"
   ]
  },
  {
   "cell_type": "code",
   "execution_count": 7,
   "metadata": {
    "colab": {
     "base_uri": "https://localhost:8080/"
    },
    "id": "6Ekg5f-sIm7x",
    "outputId": "efb0677a-e2ef-4314-9302-0202abf9162c"
   },
   "outputs": [
    {
     "data": {
      "text/plain": [
       "0    284315\n",
       "1       492\n",
       "Name: Class, dtype: int64"
      ]
     },
     "execution_count": 7,
     "metadata": {},
     "output_type": "execute_result"
    }
   ],
   "source": [
    "card_df[\"Class\"].value_counts()"
   ]
  },
  {
   "cell_type": "markdown",
   "metadata": {
    "id": "jnxk_QSh-jE7"
   },
   "source": [
    "- 284,807개 중에 492개의 도용 데이터 (0.172%):불균형 데이터\n",
    "- 차원축소된 (암호화된) (PCA:Priciple Component Analysis) 데이터 제공\n",
    "- Time'(처음부터 초단위 경과시간), 거래액수: 'Amount'\n",
    "- 목적변수, 'Class' 1이면 도용\n",
    "- Time 컬럼 삭제"
   ]
  },
  {
   "cell_type": "code",
   "execution_count": 8,
   "metadata": {
    "id": "WfLARMRk-jE7"
   },
   "outputs": [],
   "source": [
    "card_df = card_df.drop('Time', axis=1)"
   ]
  },
  {
   "cell_type": "markdown",
   "metadata": {
    "id": "IA-YqJCI-jFA"
   },
   "source": [
    "## 훈련 데이터, 검증 데이터 나누기\n",
    "### 계층적 샘플링\n",
    "- 마지막 컬럼이 목적변수(y)이며 이의 분포에 맞게 계층적 샘플링 (stratified)을 수행한다\n"
   ]
  },
  {
   "cell_type": "code",
   "execution_count": 9,
   "metadata": {
    "id": "-wkfKUZx-jFB"
   },
   "outputs": [],
   "source": [
    "X = card_df.iloc[:, :-1]\n",
    "y = card_df.iloc[:, -1]\n",
    "X_train, X_test, y_train, y_test = train_test_split(X, y, \n",
    "    random_state=9, stratify=y)"
   ]
  },
  {
   "cell_type": "code",
   "execution_count": 10,
   "metadata": {
    "colab": {
     "base_uri": "https://localhost:8080/"
    },
    "id": "eXq9nnxy-jFD",
    "outputId": "e012b874-fcfe-4424-b0a3-ea10664bdd3d"
   },
   "outputs": [
    {
     "name": "stdout",
     "output_type": "stream",
     "text": [
      "Train Data Fraud Ratio:  0.00173\n",
      "Test Data Fraud Ratio:  0.00173\n"
     ]
    }
   ],
   "source": [
    "print('Train Data Fraud Ratio: ',(y_train == 1).mean().round(5))\n",
    "print('Test Data Fraud Ratio: ',(y_test == 1).mean().round(5))"
   ]
  },
  {
   "cell_type": "markdown",
   "metadata": {
    "id": "Z2QzsUXf-jFF"
   },
   "source": [
    "## 로지스틱 회귀\n",
    "- 모델 생성 및 학습 수행"
   ]
  },
  {
   "cell_type": "code",
   "execution_count": 10,
   "metadata": {
    "colab": {
     "base_uri": "https://localhost:8080/"
    },
    "id": "wpSXTkcP-jFG",
    "outputId": "4cd1114e-394d-4b1b-ce63-b38a78686e4f"
   },
   "outputs": [
    {
     "data": {
      "text/plain": [
       "LogisticRegression(C=1.0, class_weight=None, dual=False, fit_intercept=True,\n",
       "                   intercept_scaling=1, l1_ratio=None, max_iter=100,\n",
       "                   multi_class='auto', n_jobs=None, penalty='l2',\n",
       "                   random_state=None, solver='lbfgs', tol=0.0001, verbose=0,\n",
       "                   warm_start=False)"
      ]
     },
     "execution_count": 10,
     "metadata": {},
     "output_type": "execute_result"
    }
   ],
   "source": [
    "from sklearn.linear_model import LogisticRegression\n",
    "lr_clf = LogisticRegression()\n",
    "lr_clf.fit(X_train, y_train)"
   ]
  },
  {
   "cell_type": "markdown",
   "metadata": {
    "id": "86dqSrCjelAN"
   },
   "source": [
    "## 성능평가\n",
    "- 컨퓨전 매트릭스 보기\n",
    "- 분류 성능 평가 (정확도, 리콜, 정밀도, F-1 점수)\n",
    "- ROC, AUC, Precesion-Recall 그래프\n",
    " - 실제값: y_test\n",
    " - 예측값: y_pred\n",
    "\n",
    "- 자주 사용하는 기능을 함수로 정의"
   ]
  },
  {
   "cell_type": "code",
   "execution_count": 24,
   "metadata": {
    "id": "nQ6AY1xw-jFI"
   },
   "outputs": [],
   "source": [
    "def show_clf_result(y_test, y_pred):\n",
    "  print(confusion_matrix(y_test, y_pred))\n",
    "  print(classification_report(y_test, y_pred))\n",
    "\n",
    "def draw_roc(y_test, score):\n",
    "  fpr = dict()\n",
    "  tpr = dict()\n",
    "  roc_auc = dict()\n",
    "  fpr, tpr, _ = roc_curve(y_test, score)\n",
    "  roc_auc = roc_auc_score(y_test, score)\n",
    "  plt.figure(figsize=(6,6))\n",
    "  plt.plot(fpr, tpr, label='AUC = %0.4f)' % roc_auc)\n",
    "  plt.plot([0, 1], [0, 1], linestyle='--')\n",
    "  plt.xlim([0.0, 1.0])\n",
    "  plt.ylim([0.0, 1.05])\n",
    "  plt.xlabel('False Positive Rate')\n",
    "  plt.ylabel('True Positive Rate')\n",
    "  plt.title('ROC')\n",
    "  plt.legend(loc=\"lower right\")\n",
    "  \n",
    "def draw_pr(y_test, score):\n",
    "  pre = dict()\n",
    "  rcl = dict()\n",
    "  ap = dict()\n",
    "  pre, rcl, _ = precision_recall_curve(y_test, score)\n",
    "  ap = average_precision_score(y_test, score)\n",
    "  plt.figure(figsize=(6,6))\n",
    "  plt.plot(rcl, pre, label='AP = %0.4f)' % ap)\n",
    "  plt.xlim([0.0, 1.05])\n",
    "  plt.ylim([0.0, 1.05])\n",
    "  plt.xlabel('Recall')\n",
    "  plt.ylabel('Precision')\n",
    "  plt.legend(loc=\"lower right\")"
   ]
  },
  {
   "cell_type": "markdown",
   "metadata": {
    "id": "VlsMVOobKN5S"
   },
   "source": [
    "- 로지스틱 회귀 모델을 사용한 예측 수행\n",
    "- 컨퓨전 매트릭스 및 최적의 성능 평가"
   ]
  },
  {
   "cell_type": "code",
   "execution_count": 12,
   "metadata": {
    "colab": {
     "base_uri": "https://localhost:8080/"
    },
    "id": "_JJ3qFf1-jFK",
    "outputId": "800dec51-9110-4ea6-9cfb-c761f7e9dadd"
   },
   "outputs": [
    {
     "name": "stdout",
     "output_type": "stream",
     "text": [
      "[[71074     5]\n",
      " [   54    69]]\n",
      "              precision    recall  f1-score   support\n",
      "\n",
      "           0       1.00      1.00      1.00     71079\n",
      "           1       0.93      0.56      0.70       123\n",
      "\n",
      "    accuracy                           1.00     71202\n",
      "   macro avg       0.97      0.78      0.85     71202\n",
      "weighted avg       1.00      1.00      1.00     71202\n",
      "\n"
     ]
    }
   ],
   "source": [
    "y_pred = lr_clf.predict(X_test)\n",
    "show_clf_result(y_test, y_pred)"
   ]
  },
  {
   "cell_type": "markdown",
   "metadata": {
    "id": "JpOH5AukRSzt"
   },
   "source": [
    "- 정확도는 거의 1이 나오지만, 1 (카드도용)에 대한 리콜 값이 0.63으로 낮다\n",
    "- 123개의 1중 77개를 찾았다 (77/123 = 0.63)"
   ]
  },
  {
   "cell_type": "markdown",
   "metadata": {
    "id": "LY8zESx0exBy"
   },
   "source": [
    "## ROC\n",
    "- 먼저 분류 확률 (또는 점수)를 구한다"
   ]
  },
  {
   "cell_type": "code",
   "execution_count": 13,
   "metadata": {
    "colab": {
     "base_uri": "https://localhost:8080/",
     "height": 403
    },
    "id": "T0gXY_9bOfqx",
    "outputId": "eefa56a8-8943-4b20-8bac-57a6dc7e84ab"
   },
   "outputs": [
    {
     "data": {
      "image/png": "[encoded data removed]",
      "text/plain": [
       "<Figure size 432x432 with 1 Axes>"
      ]
     },
     "metadata": {
      "image/png": {
       "height": 386,
       "width": 393
      },
      "needs_background": "light"
     },
     "output_type": "display_data"
    }
   ],
   "source": [
    "score = lr_clf.predict_proba(X_test)[:,1]\n",
    "draw_roc(y_test, score)"
   ]
  },
  {
   "cell_type": "code",
   "execution_count": 14,
   "metadata": {
    "colab": {
     "base_uri": "https://localhost:8080/"
    },
    "id": "8iQJMjgY-jFM",
    "outputId": "5de6ada5-0f98-4089-e502-13510d25f119"
   },
   "outputs": [
    {
     "data": {
      "text/plain": [
       "((71202, 29), (71202,))"
      ]
     },
     "execution_count": 14,
     "metadata": {},
     "output_type": "execute_result"
    }
   ],
   "source": [
    "X_test.shape, y_test.shape   "
   ]
  },
  {
   "cell_type": "code",
   "execution_count": 15,
   "metadata": {
    "colab": {
     "base_uri": "https://localhost:8080/"
    },
    "id": "2WhXkNehLDxf",
    "outputId": "8442d20d-156e-42b9-bc4c-9a1f6b74dbf6"
   },
   "outputs": [
    {
     "data": {
      "text/plain": [
       "0    71079\n",
       "1      123\n",
       "Name: Class, dtype: int64"
      ]
     },
     "execution_count": 15,
     "metadata": {},
     "output_type": "execute_result"
    }
   ],
   "source": [
    " y_test.value_counts()"
   ]
  },
  {
   "cell_type": "code",
   "execution_count": 16,
   "metadata": {
    "colab": {
     "base_uri": "https://localhost:8080/",
     "height": 143
    },
    "id": "cQ9CiuC8LmLg",
    "outputId": "b5770161-baa6-43c6-dff4-e637b0461dd7"
   },
   "outputs": [
    {
     "data": {
      "text/html": [
       "<div>\n",
       "<style scoped>\n",
       "    .dataframe tbody tr th:only-of-type {\n",
       "        vertical-align: middle;\n",
       "    }\n",
       "\n",
       "    .dataframe tbody tr th {\n",
       "        vertical-align: top;\n",
       "    }\n",
       "\n",
       "    .dataframe thead th {\n",
       "        text-align: right;\n",
       "    }\n",
       "</style>\n",
       "<table border=\"1\" class=\"dataframe\">\n",
       "  <thead>\n",
       "    <tr style=\"text-align: right;\">\n",
       "      <th></th>\n",
       "      <th>y</th>\n",
       "      <th>y_pred</th>\n",
       "      <th>score</th>\n",
       "    </tr>\n",
       "  </thead>\n",
       "  <tbody>\n",
       "    <tr>\n",
       "      <th>0</th>\n",
       "      <td>0.0</td>\n",
       "      <td>0.0</td>\n",
       "      <td>0.000168</td>\n",
       "    </tr>\n",
       "    <tr>\n",
       "      <th>1</th>\n",
       "      <td>0.0</td>\n",
       "      <td>0.0</td>\n",
       "      <td>0.000086</td>\n",
       "    </tr>\n",
       "    <tr>\n",
       "      <th>2</th>\n",
       "      <td>0.0</td>\n",
       "      <td>0.0</td>\n",
       "      <td>0.000505</td>\n",
       "    </tr>\n",
       "  </tbody>\n",
       "</table>\n",
       "</div>"
      ],
      "text/plain": [
       "     y  y_pred     score\n",
       "0  0.0     0.0  0.000168\n",
       "1  0.0     0.0  0.000086\n",
       "2  0.0     0.0  0.000505"
      ]
     },
     "execution_count": 16,
     "metadata": {},
     "output_type": "execute_result"
    }
   ],
   "source": [
    "Z = pd.DataFrame(np.vstack((y_test.values, y_pred, score)).T, \n",
    "                 columns=['y','y_pred','score'])\n",
    "Z[:3]"
   ]
  },
  {
   "cell_type": "markdown",
   "metadata": {
    "id": "nMQ0NaiCUemD"
   },
   "source": [
    "- 불법 사용이라고 주장한 갯수는 81개이다"
   ]
  },
  {
   "cell_type": "code",
   "execution_count": 17,
   "metadata": {
    "colab": {
     "base_uri": "https://localhost:8080/"
    },
    "id": "TlDZiesGQZM8",
    "outputId": "2c5c3675-23d2-41fb-f487-977fd570dc0c"
   },
   "outputs": [
    {
     "data": {
      "text/plain": [
       "(array([0, 1]), array([71128,    74]))"
      ]
     },
     "execution_count": 17,
     "metadata": {},
     "output_type": "execute_result"
    }
   ],
   "source": [
    "np.unique(y_pred, return_counts=True)"
   ]
  },
  {
   "cell_type": "code",
   "execution_count": 18,
   "metadata": {
    "colab": {
     "base_uri": "https://localhost:8080/"
    },
    "id": "bUGS7w13RAIQ",
    "outputId": "ce30cbcb-5a0c-4b42-8684-7c382662e51c"
   },
   "outputs": [
    {
     "data": {
      "text/plain": [
       "(array([0, 1]), array([71079,   123]))"
      ]
     },
     "execution_count": 18,
     "metadata": {},
     "output_type": "execute_result"
    }
   ],
   "source": [
    "np.unique(y_test, return_counts=True)"
   ]
  },
  {
   "cell_type": "markdown",
   "metadata": {
    "id": "1XWSAvwHUrJM"
   },
   "source": [
    "- 점수가 높은 순으로 (1이라고 판단할 점수) 150개만 그려보겠다"
   ]
  },
  {
   "cell_type": "code",
   "execution_count": 19,
   "metadata": {
    "colab": {
     "base_uri": "https://localhost:8080/",
     "height": 336
    },
    "id": "fUpmQTk2L23c",
    "outputId": "10e8dfae-4783-49a4-e6e3-5b9bb3011608"
   },
   "outputs": [
    {
     "data": {
      "text/plain": [
       "[<matplotlib.lines.Line2D at 0x7fa6b6a3b5d0>]"
      ]
     },
     "execution_count": 19,
     "metadata": {},
     "output_type": "execute_result"
    },
    {
     "data": {
      "image/png": "[encoded data removed]",
      "text/plain": [
       "<Figure size 720x360 with 1 Axes>"
      ]
     },
     "metadata": {
      "image/png": {
       "height": 302,
       "width": 595
      },
      "needs_background": "light"
     },
     "output_type": "display_data"
    }
   ],
   "source": [
    "Z = Z.sort_values(by=['score'], ascending=False)\n",
    "plt.figure(figsize=(10,5))\n",
    "plt.scatter(range(150), Z['y'].values[:150], c='r', s=5)\n",
    "plt.plot(Z['y_pred'].values[:150], c='b')\n",
    "plt.plot(Z['score'].values[:150], c='k')\n"
   ]
  },
  {
   "cell_type": "markdown",
   "metadata": {
    "id": "lJmJPxm8e6Vs"
   },
   "source": [
    "## 랜덤 포레스트"
   ]
  },
  {
   "cell_type": "code",
   "execution_count": 20,
   "metadata": {
    "colab": {
     "base_uri": "https://localhost:8080/"
    },
    "id": "Msb5uZQ5eOPq",
    "outputId": "5e0a194b-fb4e-48c0-8ca5-e42844243246"
   },
   "outputs": [
    {
     "data": {
      "text/plain": [
       "RandomForestClassifier(bootstrap=True, ccp_alpha=0.0, class_weight=None,\n",
       "                       criterion='gini', max_depth=None, max_features='auto',\n",
       "                       max_leaf_nodes=None, max_samples=None,\n",
       "                       min_impurity_decrease=0.0, min_impurity_split=None,\n",
       "                       min_samples_leaf=1, min_samples_split=2,\n",
       "                       min_weight_fraction_leaf=0.0, n_estimators=30,\n",
       "                       n_jobs=None, oob_score=False, random_state=None,\n",
       "                       verbose=0, warm_start=False)"
      ]
     },
     "execution_count": 20,
     "metadata": {},
     "output_type": "execute_result"
    }
   ],
   "source": [
    "from sklearn.ensemble import RandomForestClassifier\n",
    "rf_clf = RandomForestClassifier(n_estimators=30)\n",
    "rf_clf.fit(X_train, y_train)"
   ]
  },
  {
   "cell_type": "code",
   "execution_count": 21,
   "metadata": {
    "colab": {
     "base_uri": "https://localhost:8080/"
    },
    "id": "x0M9k6ezfSzf",
    "outputId": "124c97f6-b028-4601-8853-579abca6f18f"
   },
   "outputs": [
    {
     "name": "stdout",
     "output_type": "stream",
     "text": [
      "[[71078     1]\n",
      " [   27    96]]\n",
      "              precision    recall  f1-score   support\n",
      "\n",
      "           0       1.00      1.00      1.00     71079\n",
      "           1       0.99      0.78      0.87       123\n",
      "\n",
      "    accuracy                           1.00     71202\n",
      "   macro avg       0.99      0.89      0.94     71202\n",
      "weighted avg       1.00      1.00      1.00     71202\n",
      "\n"
     ]
    }
   ],
   "source": [
    "y_pred = rf_clf.predict(X_test)\n",
    "show_clf_result(y_test, y_pred)"
   ]
  },
  {
   "cell_type": "markdown",
   "metadata": {
    "id": "GrZG4pK3V6hc"
   },
   "source": [
    "- 1에 대한 리콜이 77%로 올라갔다"
   ]
  },
  {
   "cell_type": "markdown",
   "metadata": {
    "id": "Qq46s80KknXC"
   },
   "source": [
    "## LightGBM\n",
    "- 학습시에 불균형 데이터이면 반드시 boost_from_average=False로 설정해야 한다"
   ]
  },
  {
   "cell_type": "code",
   "execution_count": 23,
   "metadata": {
    "colab": {
     "base_uri": "https://localhost:8080/"
    },
    "id": "AWuEC-aZ-jFQ",
    "outputId": "83aed4c7-a38c-478d-d487-f30c1f87234d"
   },
   "outputs": [
    {
     "data": {
      "text/plain": [
       "LGBMClassifier(boost_from_average=False, boosting_type='gbdt',\n",
       "               class_weight=None, colsample_bytree=1.0, importance_type='split',\n",
       "               learning_rate=0.1, max_depth=-1, min_child_samples=20,\n",
       "               min_child_weight=0.001, min_split_gain=0.0, n_estimators=100,\n",
       "               n_jobs=-1, num_leaves=31, objective=None, random_state=None,\n",
       "               reg_alpha=0.0, reg_lambda=0.0, silent=True, subsample=1.0,\n",
       "               subsample_for_bin=200000, subsample_freq=0)"
      ]
     },
     "execution_count": 23,
     "metadata": {},
     "output_type": "execute_result"
    }
   ],
   "source": [
    "from lightgbm import LGBMClassifier\n",
    "lgbm_clf = LGBMClassifier(n_estimators=100,boost_from_average=False)\n",
    "lgbm_clf.fit(X_train, y_train)"
   ]
  },
  {
   "cell_type": "code",
   "execution_count": 24,
   "metadata": {
    "colab": {
     "base_uri": "https://localhost:8080/"
    },
    "id": "isE6poP6_IG9",
    "outputId": "f24f8cc2-ee3a-4ab6-eae6-64bf30903df7"
   },
   "outputs": [
    {
     "name": "stdout",
     "output_type": "stream",
     "text": [
      "[[71076     3]\n",
      " [   28    95]]\n",
      "              precision    recall  f1-score   support\n",
      "\n",
      "           0       1.00      1.00      1.00     71079\n",
      "           1       0.97      0.77      0.86       123\n",
      "\n",
      "    accuracy                           1.00     71202\n",
      "   macro avg       0.98      0.89      0.93     71202\n",
      "weighted avg       1.00      1.00      1.00     71202\n",
      "\n"
     ]
    }
   ],
   "source": [
    "y_pred = lgbm_clf.predict(X_test)\n",
    "show_clf_result(y_test, y_pred)"
   ]
  },
  {
   "cell_type": "markdown",
   "metadata": {
    "id": "Nff-Jk5nWJeX"
   },
   "source": [
    "- 리콜이 81%로 증가했다"
   ]
  },
  {
   "cell_type": "code",
   "execution_count": 25,
   "metadata": {
    "colab": {
     "base_uri": "https://localhost:8080/",
     "height": 403
    },
    "id": "yh8xE8kG_IVl",
    "outputId": "d623c843-4ee2-4b5c-f3fe-634eb76ffb75"
   },
   "outputs": [
    {
     "data": {
      "image/png": "[encoded data removed]",
      "text/plain": [
       "<Figure size 432x432 with 1 Axes>"
      ]
     },
     "metadata": {
      "image/png": {
       "height": 386,
       "width": 393
      },
      "needs_background": "light"
     },
     "output_type": "display_data"
    }
   ],
   "source": [
    "score = lgbm_clf.predict_proba(X_test)[:,1]\n",
    "draw_roc(y_test, score)"
   ]
  },
  {
   "cell_type": "code",
   "execution_count": 26,
   "metadata": {
    "colab": {
     "base_uri": "https://localhost:8080/",
     "height": 295
    },
    "id": "qNb1b58YMbxn",
    "outputId": "8ddb994d-df58-46f3-f70c-3bafd648039d"
   },
   "outputs": [
    {
     "data": {
      "text/plain": [
       "<sklearn.metrics._plot.precision_recall_curve.PrecisionRecallDisplay at 0x7fa6b69fbc90>"
      ]
     },
     "execution_count": 26,
     "metadata": {},
     "output_type": "execute_result"
    },
    {
     "data": {
      "image/png": "[encoded data removed]",
      "text/plain": [
       "<Figure size 432x288 with 1 Axes>"
      ]
     },
     "metadata": {
      "image/png": {
       "height": 261,
       "width": 385
      },
      "needs_background": "light"
     },
     "output_type": "display_data"
    }
   ],
   "source": [
    "plot_precision_recall_curve(lgbm_clf, X_test, y_test)"
   ]
  },
  {
   "cell_type": "markdown",
   "metadata": {
    "id": "6omy9QtA-jFS"
   },
   "source": [
    "# 데이터 전처리\n",
    "- 로그변환\n",
    "- 스케일링\n",
    "- 이상치 제거\n"
   ]
  },
  {
   "cell_type": "code",
   "execution_count": 11,
   "metadata": {
    "colab": {
     "base_uri": "https://localhost:8080/",
     "height": 282
    },
    "id": "6HxnWW3RJx4B",
    "outputId": "4626ce08-f5d0-4c00-8b52-efd66647093d"
   },
   "outputs": [
    {
     "data": {
      "text/plain": [
       "<matplotlib.axes._subplots.AxesSubplot at 0x7f0523877910>"
      ]
     },
     "execution_count": 11,
     "metadata": {},
     "output_type": "execute_result"
    },
    {
     "data": {
      "image/png": "[encoded data removed]",
      "text/plain": [
       "<Figure size 432x288 with 1 Axes>"
      ]
     },
     "metadata": {
      "image/png": {
       "height": 248,
       "width": 394
      },
      "needs_background": "light"
     },
     "output_type": "display_data"
    }
   ],
   "source": [
    "X['Amount'].hist(bins=100)"
   ]
  },
  {
   "cell_type": "code",
   "execution_count": 12,
   "metadata": {
    "colab": {
     "base_uri": "https://localhost:8080/"
    },
    "id": "6q5ubq5_J4uF",
    "outputId": "f385e6ad-26d0-4b9d-8195-a0b1a0739b4e"
   },
   "outputs": [
    {
     "data": {
      "text/plain": [
       "count    284807.000000\n",
       "mean         88.349619\n",
       "std         250.120109\n",
       "min           0.000000\n",
       "25%           5.600000\n",
       "50%          22.000000\n",
       "75%          77.165000\n",
       "max       25691.160000\n",
       "Name: Amount, dtype: float64"
      ]
     },
     "execution_count": 12,
     "metadata": {},
     "output_type": "execute_result"
    }
   ],
   "source": [
    "X['Amount'].describe()"
   ]
  },
  {
   "cell_type": "markdown",
   "metadata": {
    "id": "hBW1tbhoKQFp"
   },
   "source": [
    "- 돈관 관련된 데이터를 로그 변환을 한 후 스케일링을 한다"
   ]
  },
  {
   "cell_type": "code",
   "execution_count": 13,
   "metadata": {
    "colab": {
     "base_uri": "https://localhost:8080/",
     "height": 282
    },
    "id": "XOmPjXB8F5l5",
    "outputId": "e98e59c8-decc-46a0-f1e7-4a9042aced4a"
   },
   "outputs": [
    {
     "data": {
      "text/plain": [
       "<matplotlib.axes._subplots.AxesSubplot at 0x7f0521145d90>"
      ]
     },
     "execution_count": 13,
     "metadata": {},
     "output_type": "execute_result"
    },
    {
     "data": {
      "image/png": "[encoded data removed]",
      "text/plain": [
       "<Figure size 432x288 with 1 Axes>"
      ]
     },
     "metadata": {
      "image/png": {
       "height": 248,
       "width": 388
      },
      "needs_background": "light"
     },
     "output_type": "display_data"
    }
   ],
   "source": [
    "# log (1+x)\n",
    "amount_log = np.log1p(X['Amount'])\n",
    "amount_log.hist(bins=100)"
   ]
  },
  {
   "cell_type": "code",
   "execution_count": 14,
   "metadata": {
    "id": "ZqQKXJBSHkxu"
   },
   "outputs": [],
   "source": [
    "from sklearn.preprocessing import StandardScaler\n",
    "scaler = StandardScaler()\n",
    "amount_sc = scaler.fit_transform(amount_log.values.reshape(-1,1))"
   ]
  },
  {
   "cell_type": "code",
   "execution_count": 15,
   "metadata": {
    "colab": {
     "base_uri": "https://localhost:8080/",
     "height": 265
    },
    "id": "n99upLRDGbMr",
    "outputId": "e5feed96-fb5f-4071-a09a-1d76705dbe3a"
   },
   "outputs": [
    {
     "data": {
      "image/png": "[encoded data removed]",
      "text/plain": [
       "<Figure size 432x288 with 1 Axes>"
      ]
     },
     "metadata": {
      "image/png": {
       "height": 248,
       "width": 388
      },
      "needs_background": "light"
     },
     "output_type": "display_data"
    }
   ],
   "source": [
    "plt.hist(amount_sc, bins=100)\n",
    "plt.show()"
   ]
  },
  {
   "cell_type": "markdown",
   "metadata": {
    "id": "6e_i8wX-WeMV"
   },
   "source": [
    "- 로그변환, 스케일링된 Amount를 사용한다\n",
    "- 입력 데이터 (X)를 X_sc로 대체한다"
   ]
  },
  {
   "cell_type": "code",
   "execution_count": 16,
   "metadata": {
    "colab": {
     "base_uri": "https://localhost:8080/",
     "height": 163
    },
    "id": "FP9kuhcQGJzK",
    "outputId": "f0511098-9b12-470d-850e-657ef62931f3"
   },
   "outputs": [
    {
     "data": {
      "text/html": [
       "<div>\n",
       "<style scoped>\n",
       "    .dataframe tbody tr th:only-of-type {\n",
       "        vertical-align: middle;\n",
       "    }\n",
       "\n",
       "    .dataframe tbody tr th {\n",
       "        vertical-align: top;\n",
       "    }\n",
       "\n",
       "    .dataframe thead th {\n",
       "        text-align: right;\n",
       "    }\n",
       "</style>\n",
       "<table border=\"1\" class=\"dataframe\">\n",
       "  <thead>\n",
       "    <tr style=\"text-align: right;\">\n",
       "      <th></th>\n",
       "      <th>V1</th>\n",
       "      <th>V2</th>\n",
       "      <th>V3</th>\n",
       "      <th>V4</th>\n",
       "      <th>V5</th>\n",
       "      <th>V6</th>\n",
       "      <th>V7</th>\n",
       "      <th>V8</th>\n",
       "      <th>V9</th>\n",
       "      <th>V10</th>\n",
       "      <th>V11</th>\n",
       "      <th>V12</th>\n",
       "      <th>V13</th>\n",
       "      <th>V14</th>\n",
       "      <th>V15</th>\n",
       "      <th>V16</th>\n",
       "      <th>V17</th>\n",
       "      <th>V18</th>\n",
       "      <th>V19</th>\n",
       "      <th>V20</th>\n",
       "      <th>V21</th>\n",
       "      <th>V22</th>\n",
       "      <th>V23</th>\n",
       "      <th>V24</th>\n",
       "      <th>V25</th>\n",
       "      <th>V26</th>\n",
       "      <th>V27</th>\n",
       "      <th>V28</th>\n",
       "      <th>Amount</th>\n",
       "    </tr>\n",
       "  </thead>\n",
       "  <tbody>\n",
       "    <tr>\n",
       "      <th>0</th>\n",
       "      <td>-1.359807</td>\n",
       "      <td>-0.072781</td>\n",
       "      <td>2.536347</td>\n",
       "      <td>1.378155</td>\n",
       "      <td>-0.338321</td>\n",
       "      <td>0.462388</td>\n",
       "      <td>0.239599</td>\n",
       "      <td>0.098698</td>\n",
       "      <td>0.363787</td>\n",
       "      <td>0.090794</td>\n",
       "      <td>-0.551600</td>\n",
       "      <td>-0.617801</td>\n",
       "      <td>-0.991390</td>\n",
       "      <td>-0.311169</td>\n",
       "      <td>1.468177</td>\n",
       "      <td>-0.470401</td>\n",
       "      <td>0.207971</td>\n",
       "      <td>0.025791</td>\n",
       "      <td>0.403993</td>\n",
       "      <td>0.251412</td>\n",
       "      <td>-0.018307</td>\n",
       "      <td>0.277838</td>\n",
       "      <td>-0.110474</td>\n",
       "      <td>0.066928</td>\n",
       "      <td>0.128539</td>\n",
       "      <td>-0.189115</td>\n",
       "      <td>0.133558</td>\n",
       "      <td>-0.021053</td>\n",
       "      <td>1.124303</td>\n",
       "    </tr>\n",
       "    <tr>\n",
       "      <th>1</th>\n",
       "      <td>1.191857</td>\n",
       "      <td>0.266151</td>\n",
       "      <td>0.166480</td>\n",
       "      <td>0.448154</td>\n",
       "      <td>0.060018</td>\n",
       "      <td>-0.082361</td>\n",
       "      <td>-0.078803</td>\n",
       "      <td>0.085102</td>\n",
       "      <td>-0.255425</td>\n",
       "      <td>-0.166974</td>\n",
       "      <td>1.612727</td>\n",
       "      <td>1.065235</td>\n",
       "      <td>0.489095</td>\n",
       "      <td>-0.143772</td>\n",
       "      <td>0.635558</td>\n",
       "      <td>0.463917</td>\n",
       "      <td>-0.114805</td>\n",
       "      <td>-0.183361</td>\n",
       "      <td>-0.145783</td>\n",
       "      <td>-0.069083</td>\n",
       "      <td>-0.225775</td>\n",
       "      <td>-0.638672</td>\n",
       "      <td>0.101288</td>\n",
       "      <td>-0.339846</td>\n",
       "      <td>0.167170</td>\n",
       "      <td>0.125895</td>\n",
       "      <td>-0.008983</td>\n",
       "      <td>0.014724</td>\n",
       "      <td>-1.114639</td>\n",
       "    </tr>\n",
       "    <tr>\n",
       "      <th>2</th>\n",
       "      <td>-1.358354</td>\n",
       "      <td>-1.340163</td>\n",
       "      <td>1.773209</td>\n",
       "      <td>0.379780</td>\n",
       "      <td>-0.503198</td>\n",
       "      <td>1.800499</td>\n",
       "      <td>0.791461</td>\n",
       "      <td>0.247676</td>\n",
       "      <td>-1.514654</td>\n",
       "      <td>0.207643</td>\n",
       "      <td>0.624501</td>\n",
       "      <td>0.066084</td>\n",
       "      <td>0.717293</td>\n",
       "      <td>-0.165946</td>\n",
       "      <td>2.345865</td>\n",
       "      <td>-2.890083</td>\n",
       "      <td>1.109969</td>\n",
       "      <td>-0.121359</td>\n",
       "      <td>-2.261857</td>\n",
       "      <td>0.524980</td>\n",
       "      <td>0.247998</td>\n",
       "      <td>0.771679</td>\n",
       "      <td>0.909412</td>\n",
       "      <td>-0.689281</td>\n",
       "      <td>-0.327642</td>\n",
       "      <td>-0.139097</td>\n",
       "      <td>-0.055353</td>\n",
       "      <td>-0.059752</td>\n",
       "      <td>1.682368</td>\n",
       "    </tr>\n",
       "  </tbody>\n",
       "</table>\n",
       "</div>"
      ],
      "text/plain": [
       "         V1        V2        V3  ...       V27       V28    Amount\n",
       "0 -1.359807 -0.072781  2.536347  ...  0.133558 -0.021053  1.124303\n",
       "1  1.191857  0.266151  0.166480  ... -0.008983  0.014724 -1.114639\n",
       "2 -1.358354 -1.340163  1.773209  ... -0.055353 -0.059752  1.682368\n",
       "\n",
       "[3 rows x 29 columns]"
      ]
     },
     "execution_count": 16,
     "metadata": {},
     "output_type": "execute_result"
    }
   ],
   "source": [
    "X_sc = X.copy()\n",
    "X_sc['Amount'] = amount_sc\n",
    "X_sc[:3]"
   ]
  },
  {
   "cell_type": "markdown",
   "metadata": {
    "id": "x_ybI5PNWrtk"
   },
   "source": [
    "- 아래에서 X_sc를 사용하는 것에 주의!\n",
    "- 나머지 코드는 변화가 없다"
   ]
  },
  {
   "cell_type": "code",
   "execution_count": 17,
   "metadata": {
    "id": "ygPZetRZ-jFW"
   },
   "outputs": [],
   "source": [
    "X_train, X_test, y_train, y_test = train_test_split(X_sc, y,\n",
    "                random_state=9, stratify=y)"
   ]
  },
  {
   "cell_type": "code",
   "execution_count": 34,
   "metadata": {
    "colab": {
     "base_uri": "https://localhost:8080/"
    },
    "id": "K8LZrOzJQh-Y",
    "outputId": "20625a14-f6bf-4e6c-c089-d656495dcd31"
   },
   "outputs": [
    {
     "name": "stdout",
     "output_type": "stream",
     "text": [
      "[[71075     4]\n",
      " [   54    69]]\n",
      "              precision    recall  f1-score   support\n",
      "\n",
      "           0       1.00      1.00      1.00     71079\n",
      "           1       0.95      0.56      0.70       123\n",
      "\n",
      "    accuracy                           1.00     71202\n",
      "   macro avg       0.97      0.78      0.85     71202\n",
      "weighted avg       1.00      1.00      1.00     71202\n",
      "\n"
     ]
    }
   ],
   "source": [
    "lr_clf = LogisticRegression()\n",
    "lr_clf.fit(X_train, y_train)\n",
    "y_pred = lr_clf.predict(X_test)\n",
    "show_clf_result(y_test, y_pred)"
   ]
  },
  {
   "cell_type": "code",
   "execution_count": 35,
   "metadata": {
    "colab": {
     "base_uri": "https://localhost:8080/"
    },
    "id": "oLHoIJghQUZo",
    "outputId": "8aa83699-cac3-420a-a526-d10cd134495e"
   },
   "outputs": [
    {
     "name": "stdout",
     "output_type": "stream",
     "text": [
      "[[71077     2]\n",
      " [   26    97]]\n",
      "              precision    recall  f1-score   support\n",
      "\n",
      "           0       1.00      1.00      1.00     71079\n",
      "           1       0.98      0.79      0.87       123\n",
      "\n",
      "    accuracy                           1.00     71202\n",
      "   macro avg       0.99      0.89      0.94     71202\n",
      "weighted avg       1.00      1.00      1.00     71202\n",
      "\n"
     ]
    }
   ],
   "source": [
    "lgbm_clf = LGBMClassifier(n_estimators=100, boost_from_average=False)\n",
    "lgbm_clf.fit(X_train, y_train)\n",
    "y_pred = lgbm_clf.predict(X_test)\n",
    "show_clf_result(y_test, y_pred)"
   ]
  },
  {
   "cell_type": "code",
   "execution_count": 79,
   "metadata": {
    "colab": {
     "base_uri": "https://localhost:8080/"
    },
    "id": "yaKKzfcXCN0D",
    "outputId": "c5a0f07f-8368-45c4-b27b-a3ed75e091f7"
   },
   "outputs": [
    {
     "name": "stdout",
     "output_type": "stream",
     "text": [
      "[[71078     1]\n",
      " [   28    95]]\n",
      "              precision    recall  f1-score   support\n",
      "\n",
      "           0       1.00      1.00      1.00     71079\n",
      "           1       0.99      0.77      0.87       123\n",
      "\n",
      "    accuracy                           1.00     71202\n",
      "   macro avg       0.99      0.89      0.93     71202\n",
      "weighted avg       1.00      1.00      1.00     71202\n",
      "\n"
     ]
    }
   ],
   "source": [
    "rfc = RandomForestClassifier()\n",
    "rfc.fit(X_train, y_train)\n",
    "y_pred = rfc.predict(X_test)\n",
    "show_clf_result(y_test, y_pred)"
   ]
  },
  {
   "cell_type": "code",
   "execution_count": 80,
   "metadata": {
    "colab": {
     "base_uri": "https://localhost:8080/"
    },
    "id": "Sw3g91wxCkNB",
    "outputId": "53a0ec27-ed4f-4b3f-dac4-1ec3b312cd60"
   },
   "outputs": [
    {
     "name": "stdout",
     "output_type": "stream",
     "text": [
      "[[71077     2]\n",
      " [   27    96]]\n",
      "              precision    recall  f1-score   support\n",
      "\n",
      "           0       1.00      1.00      1.00     71079\n",
      "           1       0.98      0.78      0.87       123\n",
      "\n",
      "    accuracy                           1.00     71202\n",
      "   macro avg       0.99      0.89      0.93     71202\n",
      "weighted avg       1.00      1.00      1.00     71202\n",
      "\n"
     ]
    }
   ],
   "source": [
    "rfc = RandomForestClassifier(class_weight='balanced')\n",
    "rfc.fit(X_train, y_train)\n",
    "y_pred = rfc.predict(X_test)\n",
    "show_clf_result(y_test, y_pred)"
   ]
  },
  {
   "cell_type": "code",
   "execution_count": 66,
   "metadata": {
    "colab": {
     "base_uri": "https://localhost:8080/"
    },
    "id": "DL3gRG0uwD1Z",
    "outputId": "d1ec764f-5b0c-4983-d098-636ae5b8228e"
   },
   "outputs": [
    {
     "name": "stdout",
     "output_type": "stream",
     "text": [
      "[[71077     2]\n",
      " [   26    97]]\n",
      "              precision    recall  f1-score   support\n",
      "\n",
      "           0       1.00      1.00      1.00     71079\n",
      "           1       0.98      0.79      0.87       123\n",
      "\n",
      "    accuracy                           1.00     71202\n",
      "   macro avg       0.99      0.89      0.94     71202\n",
      "weighted avg       1.00      1.00      1.00     71202\n",
      "\n"
     ]
    }
   ],
   "source": [
    "lgbm_clf = LGBMClassifier(n_estimators=100, boost_from_average=False)\n",
    "lgbm_clf.fit(X_train, y_train)\n",
    "y_pred = lgbm_clf.predict(X_test)\n",
    "show_clf_result(y_test, y_pred)"
   ]
  },
  {
   "cell_type": "code",
   "execution_count": 39,
   "metadata": {
    "id": "62gWk5aRxGf7"
   },
   "outputs": [],
   "source": [
    "# score = lgbm_clf.predict_proba(X_test)[:,1]\n",
    "# draw_roc(y_test, score)"
   ]
  },
  {
   "cell_type": "markdown",
   "metadata": {
    "id": "6176x1Zl70zU"
   },
   "source": [
    "## MLP 신경망"
   ]
  },
  {
   "cell_type": "code",
   "execution_count": 18,
   "metadata": {
    "colab": {
     "base_uri": "https://localhost:8080/"
    },
    "id": "KtmhlZB856ER",
    "outputId": "2430205e-ffed-4427-aaec-c802f8384c01"
   },
   "outputs": [
    {
     "name": "stdout",
     "output_type": "stream",
     "text": [
      "Epoch 1/10\n",
      "8011/8011 [==============================] - 36s 4ms/step - loss: 0.0121 - accuracy: 0.9972 - val_loss: 0.0044 - val_accuracy: 0.9992\n",
      "Epoch 2/10\n",
      "8011/8011 [==============================] - 32s 4ms/step - loss: 0.0033 - accuracy: 0.9993 - val_loss: 0.0041 - val_accuracy: 0.9993\n",
      "Epoch 3/10\n",
      "8011/8011 [==============================] - 32s 4ms/step - loss: 0.0030 - accuracy: 0.9994 - val_loss: 0.0035 - val_accuracy: 0.9992\n",
      "Epoch 4/10\n",
      "8011/8011 [==============================] - 33s 4ms/step - loss: 0.0027 - accuracy: 0.9994 - val_loss: 0.0036 - val_accuracy: 0.9993\n",
      "Epoch 5/10\n",
      "8011/8011 [==============================] - 34s 4ms/step - loss: 0.0025 - accuracy: 0.9995 - val_loss: 0.0035 - val_accuracy: 0.9993\n",
      "Epoch 6/10\n",
      "8011/8011 [==============================] - 33s 4ms/step - loss: 0.0024 - accuracy: 0.9995 - val_loss: 0.0038 - val_accuracy: 0.9992\n",
      "Epoch 7/10\n",
      "8011/8011 [==============================] - 32s 4ms/step - loss: 0.0024 - accuracy: 0.9994 - val_loss: 0.0038 - val_accuracy: 0.9992\n",
      "Epoch 8/10\n",
      "8011/8011 [==============================] - 32s 4ms/step - loss: 0.0022 - accuracy: 0.9994 - val_loss: 0.0036 - val_accuracy: 0.9993\n",
      "Epoch 9/10\n",
      "8011/8011 [==============================] - 32s 4ms/step - loss: 0.0022 - accuracy: 0.9995 - val_loss: 0.0039 - val_accuracy: 0.9992\n",
      "Epoch 10/10\n",
      "8011/8011 [==============================] - 31s 4ms/step - loss: 0.0021 - accuracy: 0.9994 - val_loss: 0.0035 - val_accuracy: 0.9993\n"
     ]
    }
   ],
   "source": [
    "# 신경망 라이브러리\n",
    "import keras\n",
    "from keras.models import Sequential\n",
    "from keras.layers import Dense\n",
    "\n",
    "classifier = Sequential()\n",
    "classifier.add(Dense(units = 15 , activation = 'relu', input_dim = 29))\n",
    "classifier.add(Dense(15, activation = 'relu'))\n",
    "classifier.add(Dense(1, activation = 'sigmoid'))\n",
    "\n",
    "# 환경 설정\n",
    "classifier.compile(optimizer = 'adam', loss = 'binary_crossentropy', metrics = ['accuracy'])\n",
    "# 학습\n",
    "history = classifier.fit(X_train, y_train, batch_size=20, epochs=5,\n",
    "                  validation_split=0.2, verbose=1)\n",
    "\n",
    "# callbacks=[keras.callbacks.EarlyStopping(monitor='val_accuracy', patience=5)])"
   ]
  },
  {
   "cell_type": "code",
   "execution_count": 21,
   "metadata": {
    "colab": {
     "base_uri": "https://localhost:8080/"
    },
    "id": "B_or_xc175X9",
    "outputId": "b89a11ba-339e-4523-9efb-874f37ac206a"
   },
   "outputs": [
    {
     "data": {
      "text/plain": [
       "array([False, False, False, ..., False, False, False])"
      ]
     },
     "execution_count": 21,
     "metadata": {},
     "output_type": "execute_result"
    }
   ],
   "source": [
    "y_pred_p = classifier.predict(X_test)\n",
    "y_pred = (y_pred_p.ravel() > 0.5)\n",
    "y_pred"
   ]
  },
  {
   "cell_type": "code",
   "execution_count": 25,
   "metadata": {
    "colab": {
     "base_uri": "https://localhost:8080/"
    },
    "id": "0jX43cPN8mWy",
    "outputId": "403b38d1-2a1d-4e17-e97f-f395983f220a"
   },
   "outputs": [
    {
     "name": "stdout",
     "output_type": "stream",
     "text": [
      "[[71071     8]\n",
      " [   26    97]]\n",
      "              precision    recall  f1-score   support\n",
      "\n",
      "           0       1.00      1.00      1.00     71079\n",
      "           1       0.92      0.79      0.85       123\n",
      "\n",
      "    accuracy                           1.00     71202\n",
      "   macro avg       0.96      0.89      0.93     71202\n",
      "weighted avg       1.00      1.00      1.00     71202\n",
      "\n"
     ]
    }
   ],
   "source": [
    "show_clf_result(y_test, y_pred)"
   ]
  },
  {
   "cell_type": "code",
   "execution_count": 26,
   "metadata": {
    "colab": {
     "base_uri": "https://localhost:8080/"
    },
    "id": "KV-LaMM99RYr",
    "outputId": "d869d1d3-d368-4152-afb0-05863fb03cd0"
   },
   "outputs": [
    {
     "name": "stdout",
     "output_type": "stream",
     "text": [
      "Epoch 1/2\n",
      "10681/10681 [==============================] - 37s 3ms/step - loss: 0.0113 - accuracy: 0.9971\n",
      "Epoch 2/2\n",
      "10681/10681 [==============================] - 37s 3ms/step - loss: 0.0034 - accuracy: 0.9993\n"
     ]
    }
   ],
   "source": [
    "classifier = Sequential()\n",
    "classifier.add(Dense(units = 15 , activation = 'relu', input_dim = 29))\n",
    "classifier.add(Dense(15, activation = 'relu'))\n",
    "classifier.add(Dense(1, activation = 'sigmoid'))\n",
    "\n",
    "# 환경 설정\n",
    "classifier.compile(optimizer = 'adam', loss = 'binary_crossentropy', metrics = ['accuracy'])\n",
    "# 학습\n",
    "history = classifier.fit(X_train, y_train, batch_size=20, epochs=2, verbose=1)\n",
    "\n",
    "# callbacks=[keras.callbacks.EarlyStopping(monitor='val_acc', patience=5)])"
   ]
  },
  {
   "cell_type": "code",
   "execution_count": 27,
   "metadata": {
    "colab": {
     "base_uri": "https://localhost:8080/"
    },
    "id": "GYaBwSEU9p8h",
    "outputId": "07032967-cfc1-492c-ba39-e4683d23be06"
   },
   "outputs": [
    {
     "name": "stdout",
     "output_type": "stream",
     "text": [
      "[[71072     7]\n",
      " [   33    90]]\n",
      "              precision    recall  f1-score   support\n",
      "\n",
      "           0       1.00      1.00      1.00     71079\n",
      "           1       0.93      0.73      0.82       123\n",
      "\n",
      "    accuracy                           1.00     71202\n",
      "   macro avg       0.96      0.87      0.91     71202\n",
      "weighted avg       1.00      1.00      1.00     71202\n",
      "\n"
     ]
    }
   ],
   "source": [
    "y_pred_p = classifier.predict(X_test)\n",
    "y_pred = (y_pred_p.ravel() > 0.5)\n",
    "show_clf_result(y_test, y_pred)"
   ]
  },
  {
   "cell_type": "markdown",
   "metadata": {
    "id": "fT4cD9jh-jFk"
   },
   "source": [
    "# 데이터 불균형\n",
    "- 주로 오버샘플링을 한다 (언더 샘플링은 작은 수에 맞추는 것)\n",
    "- 데이터 증식이 필요하다\n",
    "- SMOTE(Synthetic Minority Over sampling Technique)\n",
    " - k 인접 샘플을 찾아서 사이의 값들을 추가로 사용한다\n",
    " - 파이썬의 imbalanced-learn 패키지 사용\n",
    "- 범주형이 있을 때는 SMOTE-NC (Nomincal and Continuous)\n",
    "- SMOTE 오버 샘플링은 학습 데이터에만 적용해야 한다\n",
    "\n",
    "## SMOTE 사용"
   ]
  },
  {
   "cell_type": "code",
   "execution_count": 67,
   "metadata": {
    "colab": {
     "base_uri": "https://localhost:8080/"
    },
    "id": "ZIdh8ocayZ_Z",
    "outputId": "a71a0977-714f-4806-97a0-1448c6d34aba"
   },
   "outputs": [
    {
     "data": {
      "text/plain": [
       "0    0.998273\n",
       "1    0.001727\n",
       "Name: Class, dtype: float64"
      ]
     },
     "execution_count": 67,
     "metadata": {},
     "output_type": "execute_result"
    }
   ],
   "source": [
    "y_train.value_counts(normalize=True)"
   ]
  },
  {
   "cell_type": "code",
   "execution_count": 41,
   "metadata": {
    "colab": {
     "base_uri": "https://localhost:8080/"
    },
    "id": "1HPs3l87ywkC",
    "outputId": "6f674524-c7f7-43d6-a9cf-b7a425934b3c"
   },
   "outputs": [
    {
     "data": {
      "text/plain": [
       "((284807,), (213605,), (71202,))"
      ]
     },
     "execution_count": 41,
     "metadata": {},
     "output_type": "execute_result"
    }
   ],
   "source": [
    "y.shape, y_train.shape, y_test.shape"
   ]
  },
  {
   "cell_type": "code",
   "execution_count": 85,
   "metadata": {
    "colab": {
     "base_uri": "https://localhost:8080/",
     "height": 218
    },
    "id": "tZBUvFOA-jFk",
    "outputId": "7003573c-92e2-43f8-c174-f73375614398"
   },
   "outputs": [
    {
     "ename": "TypeError",
     "evalue": "ignored",
     "output_type": "error",
     "traceback": [
      "\u001b[0;31m---------------------------------------------------------------------------\u001b[0m",
      "\u001b[0;31mTypeError\u001b[0m                                 Traceback (most recent call last)",
      "\u001b[0;32m<ipython-input-85-278f6c48d1e8>\u001b[0m in \u001b[0;36m<module>\u001b[0;34m()\u001b[0m\n\u001b[1;32m      1\u001b[0m \u001b[0msmote\u001b[0m \u001b[0;34m=\u001b[0m \u001b[0mSMOTE\u001b[0m\u001b[0;34m(\u001b[0m\u001b[0mrandom_state\u001b[0m\u001b[0;34m=\u001b[0m\u001b[0;36m9\u001b[0m\u001b[0;34m)\u001b[0m\u001b[0;34m\u001b[0m\u001b[0;34m\u001b[0m\u001b[0m\n\u001b[0;32m----> 2\u001b[0;31m \u001b[0msmote\u001b[0m \u001b[0;34m=\u001b[0m \u001b[0mSMOTENC\u001b[0m\u001b[0;34m(\u001b[0m\u001b[0mrandom_state\u001b[0m\u001b[0;34m=\u001b[0m\u001b[0;36m9\u001b[0m\u001b[0;34m)\u001b[0m\u001b[0;34m\u001b[0m\u001b[0;34m\u001b[0m\u001b[0m\n\u001b[0m\u001b[1;32m      3\u001b[0m \u001b[0mX_train_over\u001b[0m\u001b[0;34m,\u001b[0m \u001b[0my_train_over\u001b[0m \u001b[0;34m=\u001b[0m \u001b[0msmote\u001b[0m\u001b[0;34m.\u001b[0m\u001b[0mfit_resample\u001b[0m\u001b[0;34m(\u001b[0m\u001b[0mX_train\u001b[0m\u001b[0;34m,\u001b[0m \u001b[0my_train\u001b[0m\u001b[0;34m)\u001b[0m\u001b[0;34m\u001b[0m\u001b[0;34m\u001b[0m\u001b[0m\n\u001b[1;32m      4\u001b[0m \u001b[0mX_train_over\u001b[0m\u001b[0;34m.\u001b[0m\u001b[0mshape\u001b[0m\u001b[0;34m,\u001b[0m \u001b[0my_train_over\u001b[0m\u001b[0;34m.\u001b[0m\u001b[0mshape\u001b[0m\u001b[0;34m\u001b[0m\u001b[0;34m\u001b[0m\u001b[0m\n",
      "\u001b[0;31mTypeError\u001b[0m: __init__() missing 1 required positional argument: 'categorical_features'"
     ]
    }
   ],
   "source": [
    "smote = SMOTE(random_state=9)\n",
    "X_train_over, y_train_over = smote.fit_resample(X_train, y_train, ratio=0.5 )\n",
    "X_train_over.shape, y_train_over.shape"
   ]
  },
  {
   "cell_type": "markdown",
   "metadata": {
    "id": "MzfD2SN80hVw"
   },
   "source": [
    "- 0과 1의 갯수를 큰 쪽에 맞추어 오버샘플링했다"
   ]
  },
  {
   "cell_type": "code",
   "execution_count": 87,
   "metadata": {
    "colab": {
     "base_uri": "https://localhost:8080/"
    },
    "id": "2j-kvI8_zkLg",
    "outputId": "57202d30-57b4-461d-dee0-e06343211108"
   },
   "outputs": [
    {
     "data": {
      "text/plain": [
       "(array([0, 1]), array([213236, 213236]))"
      ]
     },
     "execution_count": 87,
     "metadata": {},
     "output_type": "execute_result"
    }
   ],
   "source": [
    "np.unique(y_train_over, return_counts=True)"
   ]
  },
  {
   "cell_type": "markdown",
   "metadata": {
    "id": "h1VRScJi3iHE"
   },
   "source": [
    "## 학습만 오버 샘플로 수행한다\n",
    "- 검증은 원래의 데이터로만"
   ]
  },
  {
   "cell_type": "code",
   "execution_count": 70,
   "metadata": {
    "colab": {
     "base_uri": "https://localhost:8080/"
    },
    "id": "9iY8VJFI-jFm",
    "outputId": "1bba857b-94cb-48e2-8015-1bed8985d189"
   },
   "outputs": [
    {
     "name": "stdout",
     "output_type": "stream",
     "text": [
      "[[69024  2055]\n",
      " [    8   115]]\n",
      "              precision    recall  f1-score   support\n",
      "\n",
      "           0       1.00      0.97      0.99     71079\n",
      "           1       0.05      0.93      0.10       123\n",
      "\n",
      "    accuracy                           0.97     71202\n",
      "   macro avg       0.53      0.95      0.54     71202\n",
      "weighted avg       1.00      0.97      0.98     71202\n",
      "\n"
     ]
    }
   ],
   "source": [
    "lr_clf = LogisticRegression()\n",
    "lr_clf.fit(X_train_over, y_train_over)\n",
    "y_pred = lr_clf.predict(X_test)\n",
    "show_clf_result(y_test, y_pred)"
   ]
  },
  {
   "cell_type": "markdown",
   "metadata": {
    "id": "XO_0IRjf3wHy"
   },
   "source": [
    "- 1에 대한 리콜이 크게 향상되었지만 정밀도는 떨어진 것을 알 수 있다\n",
    "- 정밀도 0.05는 매우 낮다"
   ]
  },
  {
   "cell_type": "code",
   "execution_count": 71,
   "metadata": {
    "id": "PYfjgqb-4N-y"
   },
   "outputs": [],
   "source": [
    "# score = lr_clf.predict_proba(X_test)[:,1]\n",
    "# draw_roc(y_test, score)"
   ]
  },
  {
   "cell_type": "code",
   "execution_count": 72,
   "metadata": {
    "id": "pEjjGvTh5Jb0"
   },
   "outputs": [],
   "source": [
    "# draw_pr(y_test, score)"
   ]
  },
  {
   "cell_type": "markdown",
   "metadata": {
    "id": "MCr5AqdTYBcl"
   },
   "source": [
    "- LightGBM 사용\n",
    "- 오버 샘플을 사용한다"
   ]
  },
  {
   "cell_type": "code",
   "execution_count": 73,
   "metadata": {
    "colab": {
     "base_uri": "https://localhost:8080/"
    },
    "id": "TwkwsrHS5J2R",
    "outputId": "33730522-b798-48eb-ddd9-d80ae45c2c00"
   },
   "outputs": [
    {
     "name": "stdout",
     "output_type": "stream",
     "text": [
      "[[71000    79]\n",
      " [   18   105]]\n",
      "              precision    recall  f1-score   support\n",
      "\n",
      "           0       1.00      1.00      1.00     71079\n",
      "           1       0.57      0.85      0.68       123\n",
      "\n",
      "    accuracy                           1.00     71202\n",
      "   macro avg       0.79      0.93      0.84     71202\n",
      "weighted avg       1.00      1.00      1.00     71202\n",
      "\n"
     ]
    }
   ],
   "source": [
    "from lightgbm import LGBMClassifier\n",
    "lgbm_clf = LGBMClassifier(n_estimators=100,boost_from_average=False)\n",
    "lgbm_clf.fit(X_train_over, y_train_over)\n",
    "y_pred = lgbm_clf.predict(X_test)\n",
    "show_clf_result(y_test, y_pred)"
   ]
  },
  {
   "cell_type": "markdown",
   "metadata": {
    "id": "JVg4D3L2YtsW"
   },
   "source": [
    "- 리콜은 높지만(0.86) 정밀도는 낮다(0.57)"
   ]
  },
  {
   "cell_type": "code",
   "execution_count": 74,
   "metadata": {
    "id": "Y4q733Vu5KJm"
   },
   "outputs": [],
   "source": [
    "# score = lgbm_clf.predict_proba(X_test)[:,1]\n",
    "# draw_roc(y_test, score)"
   ]
  },
  {
   "cell_type": "code",
   "execution_count": 75,
   "metadata": {
    "id": "etmm6M915Tez"
   },
   "outputs": [],
   "source": [
    "# draw_pr(y_test, score)"
   ]
  },
  {
   "cell_type": "markdown",
   "metadata": {
    "id": "PEFu4SMgAcn9"
   },
   "source": [
    "## RandomOverSampler"
   ]
  },
  {
   "cell_type": "code",
   "execution_count": 76,
   "metadata": {
    "colab": {
     "base_uri": "https://localhost:8080/"
    },
    "id": "xWqNcBhB9pcg",
    "outputId": "ada295d2-c4f7-4e90-a1bb-89fde99c8899"
   },
   "outputs": [
    {
     "name": "stdout",
     "output_type": "stream",
     "text": [
      "[[71068    11]\n",
      " [   20   103]]\n",
      "              precision    recall  f1-score   support\n",
      "\n",
      "           0       1.00      1.00      1.00     71079\n",
      "           1       0.90      0.84      0.87       123\n",
      "\n",
      "    accuracy                           1.00     71202\n",
      "   macro avg       0.95      0.92      0.93     71202\n",
      "weighted avg       1.00      1.00      1.00     71202\n",
      "\n"
     ]
    }
   ],
   "source": [
    "ros = RandomOverSampler(random_state=9)\n",
    "X_train_over, y_train_over = ros.fit_resample(X_train, y_train)\n",
    "lgbm_clf = LGBMClassifier(n_estimators=100,boost_from_average=False)\n",
    "lgbm_clf.fit(X_train_over, y_train_over)\n",
    "y_pred = lgbm_clf.predict(X_test)\n",
    "show_clf_result(y_test, y_pred)"
   ]
  },
  {
   "cell_type": "markdown",
   "metadata": {
    "id": "Wy8lEd_ZAvlN"
   },
   "source": [
    "## ADASYN (Adaptive Synthetic Sampling)"
   ]
  },
  {
   "cell_type": "code",
   "execution_count": 77,
   "metadata": {
    "colab": {
     "base_uri": "https://localhost:8080/"
    },
    "id": "waUR8p1P90o9",
    "outputId": "0418ff83-fec5-4c2b-b2e3-866ed4b682a1"
   },
   "outputs": [
    {
     "name": "stdout",
     "output_type": "stream",
     "text": [
      "[[70917   162]\n",
      " [   21   102]]\n",
      "              precision    recall  f1-score   support\n",
      "\n",
      "           0       1.00      1.00      1.00     71079\n",
      "           1       0.39      0.83      0.53       123\n",
      "\n",
      "    accuracy                           1.00     71202\n",
      "   macro avg       0.69      0.91      0.76     71202\n",
      "weighted avg       1.00      1.00      1.00     71202\n",
      "\n"
     ]
    }
   ],
   "source": [
    "adasyn = ADASYN(random_state=9)\n",
    "X_train_over, y_train_over = adasyn.fit_resample(X_train, y_train)\n",
    "lgbm_clf = LGBMClassifier(n_estimators=100,boost_from_average=False)\n",
    "lgbm_clf.fit(X_train_over, y_train_over)\n",
    "y_pred = lgbm_clf.predict(X_test)\n",
    "show_clf_result(y_test, y_pred)"
   ]
  },
  {
   "cell_type": "code",
   "execution_count": null,
   "metadata": {
    "id": "PNJ5SVSLA3ld"
   },
   "outputs": [],
   "source": []
  }
 ],
 "metadata": {
  "accelerator": "GPU",
  "colab": {
   "collapsed_sections": [],
   "name": "fn-creditcard-ImbalancedData.ipynb",
   "provenance": []
  },
  "kernelspec": {
   "display_name": "Python 3",
   "language": "python",
   "name": "python3"
  },
  "language_info": {
   "codemirror_mode": {
    "name": "ipython",
    "version": 3
   },
   "file_extension": ".py",
   "mimetype": "text/x-python",
   "name": "python",
   "nbconvert_exporter": "python",
   "pygments_lexer": "ipython3",
   "version": "3.8.8"
  },
  "toc": {
   "base_numbering": 1,
   "nav_menu": {},
   "number_sections": false,
   "sideBar": true,
   "skip_h1_title": false,
   "title_cell": "Table of Contents",
   "title_sidebar": "Contents",
   "toc_cell": false,
   "toc_position": {
    "height": "calc(100% - 180px)",
    "left": "10px",
    "top": "150px",
    "width": "165px"
   },
   "toc_section_display": true,
   "toc_window_display": true
  }
 },
 "nbformat": 4,
 "nbformat_minor": 1
}
