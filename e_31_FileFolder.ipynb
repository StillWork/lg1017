{
 "cells": [
  {
   "cell_type": "markdown",
   "id": "347d5735",
   "metadata": {
    "id": "347d5735"
   },
   "source": [
    "# 파일 다루기\n",
    "- 파일 열기 open(), with로 열기\n",
    "- csv, xlsx 파일 다루기\n",
    "- zip 파일 다루기\n",
    "- 폴더 내 파일 목록 다루기 (glob, listdir)\n",
    "- 폴더/파일 생성과 삭제"
   ]
  },
  {
   "cell_type": "markdown",
   "id": "85c21065",
   "metadata": {
    "id": "85c21065"
   },
   "source": [
    "## import"
   ]
  },
  {
   "cell_type": "code",
   "execution_count": 1,
   "id": "9d63ff86",
   "metadata": {
    "id": "9d63ff86"
   },
   "outputs": [],
   "source": [
    "import pandas as pd\n",
    "import numpy as np\n",
    "from numpy.random import rand\n",
    "import zipfile\n",
    "import csv\n",
    "import os\n",
    "from glob import glob"
   ]
  },
  {
   "cell_type": "markdown",
   "id": "a4a76086",
   "metadata": {
    "id": "a4a76086"
   },
   "source": [
    "##  데이터  생성과 저장하기\n",
    "- 숫자 데이터를 생성하고 csv 파일로 저장하기"
   ]
  },
  {
   "cell_type": "code",
   "execution_count": 2,
   "id": "ebdcfb7d",
   "metadata": {
    "colab": {
     "base_uri": "https://localhost:8080/"
    },
    "id": "ebdcfb7d",
    "outputId": "f28a1781-52cc-44c8-9f81-78305cf5a8f0",
    "scrolled": true
   },
   "outputs": [
    {
     "name": "stdout",
     "output_type": "stream",
     "text": [
      "<class 'str'>\n"
     ]
    }
   ],
   "source": [
    "## 0~1 사이의 랜덤 넘버 10개를 만들고 csv 파일에 저장하고 확인하기\n",
    "# 텍스트 파일 저장을 위해 savetxt()를 사용한다\n",
    "# 소수점 몇 째 자리까지 저장할지를 정해주어야 한다 (텍스트로 표현되는)\n",
    "\n",
    "import numpy as np\n",
    "x1 = np.random.rand(10)\n",
    "# print(type(x1))         # ndarray 타입\n",
    "\n",
    "np.savetxt(\"test_1.csv\", x1, delimiter=\",\", fmt = '%.3f')\n",
    "\n",
    "with open('test_1.csv') as f: \n",
    "    contents = f.read()\n",
    "    print(type(contents))  # str 타입\n",
    "#     print(contents)"
   ]
  },
  {
   "cell_type": "code",
   "execution_count": 6,
   "id": "f84fa45b",
   "metadata": {
    "colab": {
     "base_uri": "https://localhost:8080/"
    },
    "id": "f84fa45b",
    "outputId": "769baa70-78db-4389-b2ae-62351d5d13bc"
   },
   "outputs": [
    {
     "name": "stdout",
     "output_type": "stream",
     "text": [
      "<class 'numpy.ndarray'>\n",
      "[966. 234. 118. 989. 910. 452. 883. 505. 922. 720.]\n"
     ]
    }
   ],
   "source": [
    "## csv 파일을 어레이로 읽어서 1000을 곱한 값 보기\n",
    "# 텍스트 파일을 loadtxt()로 읽으면 어레이로 읽는다 \n",
    "\n",
    "x = np.loadtxt('test_1.csv', delimiter=',')\n",
    "print(type(x))    # ndarray 타입\n",
    "print(x*1000)"
   ]
  },
  {
   "cell_type": "markdown",
   "id": "dfa5787a",
   "metadata": {
    "id": "dfa5787a"
   },
   "source": [
    "### 2차원 구조 csv 데이터\n",
    "- 행이 바뀔 때 리턴 코드가 들어 있다"
   ]
  },
  {
   "cell_type": "code",
   "execution_count": 7,
   "id": "80eaf897",
   "metadata": {
    "colab": {
     "base_uri": "https://localhost:8080/"
    },
    "id": "80eaf897",
    "outputId": "04fd6c22-0bca-46d9-b3ad-90f74be8cf65"
   },
   "outputs": [
    {
     "name": "stdout",
     "output_type": "stream",
     "text": [
      "<class 'str'>\n",
      "0,1,2,3,4,5\n",
      "6,7,8,9,10,11\n",
      "12,13,14,15,16,17\n",
      "18,19,20,21,22,23\n",
      "24,25,26,27,28,29\n",
      "\n"
     ]
    }
   ],
   "source": [
    "## 0~30 로 구성된 (5,6) 구조의 어레이를 csv 파일에 저장하기\n",
    "\n",
    "x2 = np.arange(30).reshape(5,6)\n",
    "\n",
    "np.savetxt(\"test_2.csv\", x2, delimiter=\",\", fmt = '%d')\n",
    "\n",
    "with open('test_2.csv') as f: \n",
    "    contents = f.read()\n",
    "    print(type(contents))  # str 타입\n",
    "    print(contents)"
   ]
  },
  {
   "cell_type": "code",
   "execution_count": 8,
   "id": "3d6c326b",
   "metadata": {
    "colab": {
     "base_uri": "https://localhost:8080/"
    },
    "id": "3d6c326b",
    "outputId": "00ee6e99-a255-43ab-841d-016a364aaf52"
   },
   "outputs": [
    {
     "name": "stdout",
     "output_type": "stream",
     "text": [
      "<class 'numpy.ndarray'>\n",
      "[[ 0.  1.  2.  3.  4.  5.]\n",
      " [ 6.  7.  8.  9. 10. 11.]\n",
      " [12. 13. 14. 15. 16. 17.]\n",
      " [18. 19. 20. 21. 22. 23.]\n",
      " [24. 25. 26. 27. 28. 29.]]\n"
     ]
    }
   ],
   "source": [
    "## 2차원 csv 파일을 어레이로 읽는 예\n",
    "\n",
    "x = np.loadtxt('test_2.csv', delimiter=',')\n",
    "print(type(x))\n",
    "print(x)"
   ]
  },
  {
   "cell_type": "code",
   "execution_count": 9,
   "id": "d671f7d5",
   "metadata": {
    "colab": {
     "base_uri": "https://localhost:8080/"
    },
    "id": "d671f7d5",
    "outputId": "80ba490e-0c48-41ab-cf2b-3f84ee16bb79"
   },
   "outputs": [
    {
     "name": "stdout",
     "output_type": "stream",
     "text": [
      "---- 3개의 행만 읽는다 ----\n",
      "[[ 0.  1.  2.  3.  4.  5.]\n",
      " [ 6.  7.  8.  9. 10. 11.]\n",
      " [12. 13. 14. 15. 16. 17.]]\n",
      "\n",
      "---- 처음 2개의 행은 읽지 않는다 ----\n",
      "[[12. 13. 14. 15. 16. 17.]\n",
      " [18. 19. 20. 21. 22. 23.]\n",
      " [24. 25. 26. 27. 28. 29.]]\n",
      "\n",
      "---- 컬럼을 (0,2,4)만 읽는다 ----\n",
      "[[ 0.  2.  4.]\n",
      " [ 6.  8. 10.]\n",
      " [12. 14. 16.]\n",
      " [18. 20. 22.]\n",
      " [24. 26. 28.]]\n"
     ]
    }
   ],
   "source": [
    "## loadtxt()가 제공하는, 일부 데이터만 읽는 옵션\n",
    "\n",
    "print('---- 3개의 행만 읽는다 ----')\n",
    "x = np.loadtxt('test_2.csv', delimiter=',', max_rows=3)\n",
    "print(x)\n",
    "\n",
    "print('\\n---- 처음 2개의 행은 읽지 않는다 ----')\n",
    "x = np.loadtxt('test_2.csv', delimiter=',', skiprows=2)\n",
    "print(x)\n",
    "\n",
    "print('\\n---- 컬럼을 (0,2,4)만 읽는다 ----')\n",
    "x = np.loadtxt('test_2.csv', delimiter=',', usecols=(0,2,4))\n",
    "print(x)"
   ]
  },
  {
   "cell_type": "markdown",
   "id": "278aa0e5",
   "metadata": {
    "id": "278aa0e5"
   },
   "source": [
    "## 데이터프레임으로 읽기"
   ]
  },
  {
   "cell_type": "code",
   "execution_count": 9,
   "id": "d56fac13",
   "metadata": {
    "colab": {
     "base_uri": "https://localhost:8080/",
     "height": 175
    },
    "id": "d56fac13",
    "outputId": "eb750b8d-78c4-4310-e586-85504b6a5633"
   },
   "outputs": [
    {
     "data": {
      "text/html": [
       "<div>\n",
       "<style scoped>\n",
       "    .dataframe tbody tr th:only-of-type {\n",
       "        vertical-align: middle;\n",
       "    }\n",
       "\n",
       "    .dataframe tbody tr th {\n",
       "        vertical-align: top;\n",
       "    }\n",
       "\n",
       "    .dataframe thead th {\n",
       "        text-align: right;\n",
       "    }\n",
       "</style>\n",
       "<table border=\"1\" class=\"dataframe\">\n",
       "  <thead>\n",
       "    <tr style=\"text-align: right;\">\n",
       "      <th></th>\n",
       "      <th>0</th>\n",
       "      <th>1</th>\n",
       "      <th>2</th>\n",
       "      <th>3</th>\n",
       "      <th>4</th>\n",
       "      <th>5</th>\n",
       "    </tr>\n",
       "  </thead>\n",
       "  <tbody>\n",
       "    <tr>\n",
       "      <th>0</th>\n",
       "      <td>6</td>\n",
       "      <td>7</td>\n",
       "      <td>8</td>\n",
       "      <td>9</td>\n",
       "      <td>10</td>\n",
       "      <td>11</td>\n",
       "    </tr>\n",
       "    <tr>\n",
       "      <th>1</th>\n",
       "      <td>12</td>\n",
       "      <td>13</td>\n",
       "      <td>14</td>\n",
       "      <td>15</td>\n",
       "      <td>16</td>\n",
       "      <td>17</td>\n",
       "    </tr>\n",
       "    <tr>\n",
       "      <th>2</th>\n",
       "      <td>18</td>\n",
       "      <td>19</td>\n",
       "      <td>20</td>\n",
       "      <td>21</td>\n",
       "      <td>22</td>\n",
       "      <td>23</td>\n",
       "    </tr>\n",
       "    <tr>\n",
       "      <th>3</th>\n",
       "      <td>24</td>\n",
       "      <td>25</td>\n",
       "      <td>26</td>\n",
       "      <td>27</td>\n",
       "      <td>28</td>\n",
       "      <td>29</td>\n",
       "    </tr>\n",
       "  </tbody>\n",
       "</table>\n",
       "</div>"
      ],
      "text/plain": [
       "    0   1   2   3   4   5\n",
       "0   6   7   8   9  10  11\n",
       "1  12  13  14  15  16  17\n",
       "2  18  19  20  21  22  23\n",
       "3  24  25  26  27  28  29"
      ]
     },
     "execution_count": 9,
     "metadata": {},
     "output_type": "execute_result"
    }
   ],
   "source": [
    "## 2차원 어레이를 데이터프레임으로 읽기\n",
    "\n",
    "df = pd.read_csv('test_2.csv')  \n",
    "df"
   ]
  },
  {
   "cell_type": "code",
   "execution_count": 10,
   "id": "2ff243a0",
   "metadata": {
    "colab": {
     "base_uri": "https://localhost:8080/"
    },
    "id": "2ff243a0",
    "outputId": "f0882772-288c-4b59-99f7-497af589d7c0"
   },
   "outputs": [
    {
     "data": {
      "text/plain": [
       "array([[ 6,  7,  8,  9, 10, 11],\n",
       "       [12, 13, 14, 15, 16, 17],\n",
       "       [18, 19, 20, 21, 22, 23],\n",
       "       [24, 25, 26, 27, 28, 29]])"
      ]
     },
     "execution_count": 10,
     "metadata": {},
     "output_type": "execute_result"
    }
   ],
   "source": [
    "# 어레이로 변환하기\n",
    "df.values"
   ]
  },
  {
   "cell_type": "markdown",
   "id": "997ff8ee",
   "metadata": {
    "id": "997ff8ee"
   },
   "source": [
    "### read_csv 옵션\n",
    "\n",
    "- nrows=1000         # 상위 1000줄만 읽기\n",
    "- skiprows = 3       # 처음 3행 건너뛰기\n",
    "- skipfooter = 1000 # 맨 뒤의 1000행은 읽지 않기\n",
    "- usecols= (0,2,4)  # 해당 컬럼만 읽기"
   ]
  },
  {
   "cell_type": "code",
   "execution_count": 11,
   "id": "b631959e",
   "metadata": {
    "colab": {
     "base_uri": "https://localhost:8080/",
     "height": 143
    },
    "id": "b631959e",
    "outputId": "1352f0d5-0ec7-4c50-a2a4-9766e0794876"
   },
   "outputs": [
    {
     "data": {
      "text/html": [
       "<div>\n",
       "<style scoped>\n",
       "    .dataframe tbody tr th:only-of-type {\n",
       "        vertical-align: middle;\n",
       "    }\n",
       "\n",
       "    .dataframe tbody tr th {\n",
       "        vertical-align: top;\n",
       "    }\n",
       "\n",
       "    .dataframe thead th {\n",
       "        text-align: right;\n",
       "    }\n",
       "</style>\n",
       "<table border=\"1\" class=\"dataframe\">\n",
       "  <thead>\n",
       "    <tr style=\"text-align: right;\">\n",
       "      <th></th>\n",
       "      <th>0</th>\n",
       "      <th>1</th>\n",
       "      <th>2</th>\n",
       "      <th>3</th>\n",
       "      <th>4</th>\n",
       "      <th>5</th>\n",
       "    </tr>\n",
       "  </thead>\n",
       "  <tbody>\n",
       "    <tr>\n",
       "      <th>0</th>\n",
       "      <td>0</td>\n",
       "      <td>1</td>\n",
       "      <td>2</td>\n",
       "      <td>3</td>\n",
       "      <td>4</td>\n",
       "      <td>5</td>\n",
       "    </tr>\n",
       "    <tr>\n",
       "      <th>1</th>\n",
       "      <td>6</td>\n",
       "      <td>7</td>\n",
       "      <td>8</td>\n",
       "      <td>9</td>\n",
       "      <td>10</td>\n",
       "      <td>11</td>\n",
       "    </tr>\n",
       "    <tr>\n",
       "      <th>2</th>\n",
       "      <td>12</td>\n",
       "      <td>13</td>\n",
       "      <td>14</td>\n",
       "      <td>15</td>\n",
       "      <td>16</td>\n",
       "      <td>17</td>\n",
       "    </tr>\n",
       "  </tbody>\n",
       "</table>\n",
       "</div>"
      ],
      "text/plain": [
       "    0   1   2   3   4   5\n",
       "0   0   1   2   3   4   5\n",
       "1   6   7   8   9  10  11\n",
       "2  12  13  14  15  16  17"
      ]
     },
     "execution_count": 11,
     "metadata": {},
     "output_type": "execute_result"
    }
   ],
   "source": [
    "# 일부 행만 읽기 nrows 사용 (3줄만 읽기)\n",
    "\n",
    "df2 = pd.read_csv('test_2.csv', nrows=3, header=None)\n",
    "df2"
   ]
  },
  {
   "cell_type": "code",
   "execution_count": 12,
   "id": "0eee13b3",
   "metadata": {
    "colab": {
     "base_uri": "https://localhost:8080/",
     "height": 112
    },
    "id": "0eee13b3",
    "outputId": "c75ab799-60d6-44e4-8378-afe667b86559"
   },
   "outputs": [
    {
     "data": {
      "text/html": [
       "<div>\n",
       "<style scoped>\n",
       "    .dataframe tbody tr th:only-of-type {\n",
       "        vertical-align: middle;\n",
       "    }\n",
       "\n",
       "    .dataframe tbody tr th {\n",
       "        vertical-align: top;\n",
       "    }\n",
       "\n",
       "    .dataframe thead th {\n",
       "        text-align: right;\n",
       "    }\n",
       "</style>\n",
       "<table border=\"1\" class=\"dataframe\">\n",
       "  <thead>\n",
       "    <tr style=\"text-align: right;\">\n",
       "      <th></th>\n",
       "      <th>0</th>\n",
       "      <th>1</th>\n",
       "      <th>2</th>\n",
       "      <th>3</th>\n",
       "      <th>4</th>\n",
       "      <th>5</th>\n",
       "    </tr>\n",
       "  </thead>\n",
       "  <tbody>\n",
       "    <tr>\n",
       "      <th>0</th>\n",
       "      <td>18</td>\n",
       "      <td>19</td>\n",
       "      <td>20</td>\n",
       "      <td>21</td>\n",
       "      <td>22</td>\n",
       "      <td>23</td>\n",
       "    </tr>\n",
       "    <tr>\n",
       "      <th>1</th>\n",
       "      <td>24</td>\n",
       "      <td>25</td>\n",
       "      <td>26</td>\n",
       "      <td>27</td>\n",
       "      <td>28</td>\n",
       "      <td>29</td>\n",
       "    </tr>\n",
       "  </tbody>\n",
       "</table>\n",
       "</div>"
      ],
      "text/plain": [
       "    0   1   2   3   4   5\n",
       "0  18  19  20  21  22  23\n",
       "1  24  25  26  27  28  29"
      ]
     },
     "execution_count": 12,
     "metadata": {},
     "output_type": "execute_result"
    }
   ],
   "source": [
    "# 3줄 건너뛰기\n",
    "\n",
    "df2 = pd.read_csv('test_2.csv', skiprows=3, header=None)\n",
    "df2"
   ]
  },
  {
   "cell_type": "markdown",
   "id": "2876daa7",
   "metadata": {
    "id": "2876daa7"
   },
   "source": [
    "### 액셀 한글 인코딩\n",
    "- 문자의 인코딩은 기본적으로 utf-8 을 사용한다\n",
    "- 그러나 한글의 경우 다른 인코딩으로 저장되는 경우가 있다\n",
    " - MS 액셀에서 csv로 저장할 때 한글이 cpc949로 인코딩된다. 이때는 아래 옵션이 필요하다\n",
    " - encoding = 'cpc949'\n",
    " - encoding = 'euc-kr'을 선택해야 하는 경우도 있다"
   ]
  },
  {
   "cell_type": "markdown",
   "id": "c83b64f1",
   "metadata": {
    "id": "c83b64f1"
   },
   "source": [
    "## zip 파일 \n",
    "### zip 파일 만들기\n",
    "- test_1.csv, test_2.csv 두 파일을 output.zip로 압축하는 경우"
   ]
  },
  {
   "cell_type": "code",
   "execution_count": 15,
   "id": "2417f76f",
   "metadata": {
    "colab": {
     "base_uri": "https://localhost:8080/"
    },
    "id": "2417f76f",
    "outputId": "667e90a5-be71-4f74-fe20-48aabe8a18e4"
   },
   "outputs": [
    {
     "name": "stdout",
     "output_type": "stream",
     "text": [
      "['test_1.csv', 'test_2.csv']\n"
     ]
    }
   ],
   "source": [
    "## zip 파일로 압축하기\n",
    "\n",
    "with zipfile.ZipFile('output.zip', 'w') as z:\n",
    "    z.write('test_1.csv')\n",
    "    z.write('test_2.csv')\n",
    "\n",
    "# zip에 포함된 파일명 보기와 압출 풀기\n",
    "\n",
    "with zipfile.ZipFile(\"output.zip\", 'r') as z: \n",
    "    print(z.namelist()) \n",
    "    z.extractall() "
   ]
  },
  {
   "cell_type": "markdown",
   "id": "eefb97fe",
   "metadata": {
    "id": "eefb97fe"
   },
   "source": [
    "- (참고) read_csv() 호출시에 zip 파일을 바로 읽을 수 있다 (압축을 풀 필요 없다)"
   ]
  },
  {
   "cell_type": "code",
   "execution_count": 16,
   "id": "505c0b01",
   "metadata": {
    "id": "505c0b01"
   },
   "outputs": [],
   "source": [
    "# pd.read_csv('output.zip', header=None)  "
   ]
  },
  {
   "cell_type": "markdown",
   "id": "68034c94",
   "metadata": {
    "id": "68034c94"
   },
   "source": [
    "# 폴더 작업"
   ]
  },
  {
   "cell_type": "markdown",
   "id": "b00287b6",
   "metadata": {
    "id": "b00287b6"
   },
   "source": [
    "## 현재 폴더 위치 보기\n",
    "- getcwd()를 사용한다\n",
    "- cwd (current working directory)"
   ]
  },
  {
   "cell_type": "code",
   "execution_count": 11,
   "id": "46cecf30",
   "metadata": {
    "colab": {
     "base_uri": "https://localhost:8080/"
    },
    "id": "46cecf30",
    "outputId": "3a71426f-5704-4b09-b11f-eb140e7babc3"
   },
   "outputs": [
    {
     "name": "stdout",
     "output_type": "stream",
     "text": [
      "C:\\Users\\User\\Dropbox\\lab\\book13\n"
     ]
    }
   ],
   "source": [
    "## 현재 작업중인 폴더 경로 보기\n",
    "\n",
    "import os\n",
    "cwd = os.getcwd()\n",
    "print(cwd)"
   ]
  },
  {
   "cell_type": "code",
   "execution_count": 12,
   "id": "327f211f",
   "metadata": {
    "id": "327f211f"
   },
   "outputs": [],
   "source": [
    "## 폴더 새로 만들기, mkdir()를 사용한다\n",
    "# 특정 폴더가 이미 있는지 확인하기 위해서 os.path.exists()를 사용한다\n",
    "# 아래는 폴더가 없는 경우만 새로 만든다\n",
    "\n",
    "if not os.path.exists(\"./data_tmp\"):\n",
    "    os.mkdir(\"./data_tmp\")"
   ]
  },
  {
   "cell_type": "markdown",
   "id": "a8535d48",
   "metadata": {
    "id": "a8535d48"
   },
   "source": [
    "## 폴더의 파일 목록 얻기\n",
    "- glob() 사용: 파일 타입을 편리하게 지정할 수 있다\n",
    "- listdir() 사용: 경로를 지정할 수 있다"
   ]
  },
  {
   "cell_type": "markdown",
   "id": "d469c296",
   "metadata": {
    "id": "d469c296"
   },
   "source": [
    "## glob() 사용"
   ]
  },
  {
   "cell_type": "code",
   "execution_count": 31,
   "id": "455c954d",
   "metadata": {
    "colab": {
     "base_uri": "https://localhost:8080/"
    },
    "id": "455c954d",
    "outputId": "66e565c7-f58a-499c-d534-b4132f1fcd78"
   },
   "outputs": [
    {
     "data": {
      "text/plain": [
       "['e_22_Python.ipynb',\n",
       " 'e_23_Pandas.ipynb',\n",
       " 'e_24_numpy.ipynb',\n",
       " 'e_25_Function.ipynb',\n",
       " 'e_31_FileFolder.ipynb',\n",
       " 'e_32_Graphs.ipynb',\n",
       " 'e_41_Preprocessing.ipynb',\n",
       " 'e_42_Preprocessing_Example.ipynb',\n",
       " 'e_51_ML_Intro.ipynb',\n",
       " 'e_52_Regression.ipynb',\n",
       " 'e_53_Classification.ipynb',\n",
       " 'e_54_LogisticRegression.ipynb',\n",
       " 'e_55_DT_RF_Boost.ipynb',\n",
       " 'e_56_DT_RF_Boost_Reg.ipynb',\n",
       " 'e_61_FeatureEngineering.ipynb',\n",
       " 'e_62_Clustering.ipynb',\n",
       " 'e_63_Add_features.ipynb',\n",
       " 'e_71_MLP_CNN_MNIST_Keras.ipynb',\n",
       " 'e_72_CatDog_Keras.ipynb',\n",
       " 'e_73_TransferLearning.ipynb',\n",
       " 'e_74_ActivityRecognition.ipynb',\n",
       " 'e_75_1_YOLOv8_run.ipynb',\n",
       " 'e_75_2_YOLOv8_Aquarium_Data.ipynb',\n",
       " 'e_76_1_opencv_face.ipynb',\n",
       " 'e_76_2_contour_detect.ipynb',\n",
       " 'e_76_3_opencv_digit.ipynb',\n",
       " 'e_81_1_TimeseriesForecasting.ipynb',\n",
       " 'e_81_2_Series_Shift.ipynb',\n",
       " 'e_82_TimeSeries_XY_bike.ipynb',\n",
       " 'e_83_LSTM_Intro.ipynb',\n",
       " 'e_85_prophet.ipynb',\n",
       " 'e_86_PM_RF_LSTM.ipynb',\n",
       " 't2.ipynb',\n",
       " 't3.ipynb',\n",
       " 'test.ipynb']"
      ]
     },
     "execution_count": 31,
     "metadata": {},
     "output_type": "execute_result"
    }
   ],
   "source": [
    "## 현재 폴더의 파일 목록 얻기\n",
    "\n",
    "from glob import glob\n",
    "f_list = glob('*.ipynb')\n",
    "f_list"
   ]
  },
  {
   "cell_type": "code",
   "execution_count": 17,
   "id": "8dc8e743",
   "metadata": {
    "colab": {
     "base_uri": "https://localhost:8080/"
    },
    "id": "8dc8e743",
    "outputId": "1d86c469-906a-47a0-e09f-5377c91fba7a"
   },
   "outputs": [
    {
     "data": {
      "text/plain": [
       "['e_22_Python.ipynb',\n",
       " 'e_23_Pandas.ipynb',\n",
       " 'e_24_numpy.ipynb',\n",
       " 'e_25_Function.ipynb',\n",
       " 'e_31_FileFolder.ipynb',\n",
       " 'e_32_Graphs.ipynb',\n",
       " 'e_41_Preprocessing.ipynb',\n",
       " 'e_42_Preprocessing_Example.ipynb',\n",
       " 'e_51_ML_Intro.ipynb',\n",
       " 'e_52_Regression.ipynb',\n",
       " 'e_53_Classification.ipynb',\n",
       " 'e_54_LogisticRegression.ipynb',\n",
       " 'e_55_DT_RF_Boost.ipynb',\n",
       " 'e_56_DT_RF_Boost_Reg.ipynb',\n",
       " 'e_61_FeatureEngineering.ipynb',\n",
       " 'e_62_Clustering.ipynb',\n",
       " 'e_63_Add_features.ipynb',\n",
       " 'e_71_MLP_CNN_MNIST_Keras.ipynb',\n",
       " 'e_72_CatDog_Keras.ipynb',\n",
       " 'e_73_TransferLearning.ipynb',\n",
       " 'e_74_ActivityRecognition.ipynb',\n",
       " 'e_75_1_YOLOv8_run.ipynb',\n",
       " 'e_75_2_YOLOv8_Aquarium_Data.ipynb',\n",
       " 'e_76_1_opencv_face.ipynb',\n",
       " 'e_76_2_contour_detect.ipynb',\n",
       " 'e_76_3_opencv_digit.ipynb',\n",
       " 'e_81_1_TimeseriesForecasting.ipynb',\n",
       " 'e_81_2_Series_Shift.ipynb',\n",
       " 'e_82_TimeSeries_XY_bike.ipynb',\n",
       " 'e_83_LSTM_Intro.ipynb',\n",
       " 'e_85_prophet.ipynb',\n",
       " 'e_86_PM_RF_LSTM.ipynb',\n",
       " 't2.ipynb',\n",
       " 't3.ipynb',\n",
       " 'test.ipynb']"
      ]
     },
     "execution_count": 17,
     "metadata": {},
     "output_type": "execute_result"
    }
   ],
   "source": [
    "# 알파벳 순으로 리스트를 소팅한 결과 보기\n",
    "# 파일의 순서를 통일시킬 때 필요하다\n",
    "\n",
    "sorted(f_list)"
   ]
  },
  {
   "cell_type": "markdown",
   "id": "ue1rNLZ-PgQa",
   "metadata": {
    "id": "ue1rNLZ-PgQa"
   },
   "source": [
    "## listdir() 사용\n",
    "- 인자에 파일을 찾을 폴더 경로를 지정할 수 있다\n",
    "- 쓰지 않으면 현재 폴더를 찾는다, 모든 파일을 찾아준다"
   ]
  },
  {
   "cell_type": "code",
   "execution_count": 23,
   "id": "qHW_nf3jO1iC",
   "metadata": {
    "colab": {
     "base_uri": "https://localhost:8080/"
    },
    "id": "qHW_nf3jO1iC",
    "outputId": "ed7f4274-1538-43b2-a0bb-8ff44e4f661e",
    "scrolled": true
   },
   "outputs": [
    {
     "data": {
      "text/plain": [
       "['.ipynb_checkpoints',\n",
       " 'big.csv',\n",
       " 'data_tmp',\n",
       " 'e_22_Python.ipynb',\n",
       " 'e_23_Pandas.ipynb',\n",
       " 'e_24_numpy.ipynb',\n",
       " 'e_25_Function.ipynb',\n",
       " 'e_31_FileFolder.ipynb',\n",
       " 'e_32_Graphs.ipynb',\n",
       " 'e_41_Preprocessing.ipynb',\n",
       " 'e_42_Preprocessing_Example.ipynb',\n",
       " 'e_51_ML_Intro.ipynb',\n",
       " 'e_52_Regression.ipynb',\n",
       " 'e_53_Classification.ipynb',\n",
       " 'e_54_LogisticRegression.ipynb',\n",
       " 'e_55_DT_RF_Boost.ipynb',\n",
       " 'e_56_DT_RF_Boost_Reg.ipynb',\n",
       " 'e_61_FeatureEngineering.ipynb',\n",
       " 'e_62_Clustering.ipynb',\n",
       " 'e_63_Add_features.ipynb',\n",
       " 'e_71_MLP_CNN_MNIST_Keras.ipynb',\n",
       " 'e_72_CatDog_Keras.ipynb',\n",
       " 'e_73_TransferLearning.ipynb',\n",
       " 'e_74_ActivityRecognition.ipynb',\n",
       " 'e_75_1_YOLOv8_run.ipynb',\n",
       " 'e_75_2_YOLOv8_Aquarium_Data.ipynb',\n",
       " 'e_76_1_opencv_face.ipynb',\n",
       " 'e_76_2_contour_detect.ipynb',\n",
       " 'e_76_3_opencv_digit.ipynb',\n",
       " 'e_80_Streamlit.py',\n",
       " 'e_81_1_TimeseriesForecasting.ipynb',\n",
       " 'e_81_2_Series_Shift.ipynb',\n",
       " 'e_82_TimeSeries_XY_bike.ipynb',\n",
       " 'e_83_LSTM_Intro.ipynb',\n",
       " 'e_85_prophet.ipynb',\n",
       " 'e_86_PM_RF_LSTM.ipynb',\n",
       " 't2.ipynb',\n",
       " 't3.ipynb',\n",
       " 'test.ipynb',\n",
       " 'test_1.csv',\n",
       " 'test_2.csv']"
      ]
     },
     "execution_count": 23,
     "metadata": {},
     "output_type": "execute_result"
    }
   ],
   "source": [
    "os.listdir()"
   ]
  },
  {
   "cell_type": "code",
   "execution_count": 29,
   "id": "63b23753",
   "metadata": {},
   "outputs": [
    {
     "data": {
      "text/plain": [
       "['addins',\n",
       " 'AhnInst.log',\n",
       " 'appcompat',\n",
       " 'Application Data',\n",
       " 'apppatch',\n",
       " 'AppReadiness',\n",
       " 'assembly',\n",
       " 'bcastdvr',\n",
       " 'bfsvc.exe',\n",
       " 'Boot',\n",
       " 'bootstat.dat',\n",
       " 'Branding',\n",
       " 'CbsTemp',\n",
       " 'comsetup.log',\n",
       " 'ConfigSetRoot',\n",
       " 'Containers',\n",
       " 'Core.xml',\n",
       " 'court',\n",
       " 'csup.txt',\n",
       " 'Cursors',\n",
       " 'debug',\n",
       " 'diagerr.xml',\n",
       " 'diagnostics',\n",
       " 'DiagTrack',\n",
       " 'diagwrn.xml',\n",
       " 'DigitalLocker',\n",
       " 'Downloaded Program Files',\n",
       " 'DtcInstall.log',\n",
       " 'ELAMBKUP',\n",
       " 'en-US',\n",
       " 'explorer.exe',\n",
       " 'EXPRESSCACHE1.txt',\n",
       " 'FFS.txt',\n",
       " 'FFS_0.txt',\n",
       " 'FFS_1.txt',\n",
       " 'Firmware',\n",
       " 'Fonts',\n",
       " 'GameBarPresenceWriter',\n",
       " 'Globalization',\n",
       " 'HancomIME',\n",
       " 'Help',\n",
       " 'HelpPane.exe',\n",
       " 'hh.exe',\n",
       " 'IdentityCRL',\n",
       " 'ImageSAFERSvc.exe',\n",
       " 'IME',\n",
       " 'IMGSF50Svc.exe',\n",
       " 'ImmersiveControlPanel',\n",
       " 'INF',\n",
       " 'InputMethod',\n",
       " 'Installer',\n",
       " 'ko-KR',\n",
       " 'L2Schemas',\n",
       " 'LanguageOverlayCache',\n",
       " 'LGPS',\n",
       " 'lgpslog',\n",
       " 'LiveKernelReports',\n",
       " 'Logs',\n",
       " 'lsasetup.log',\n",
       " 'Media',\n",
       " 'mib.bin',\n",
       " 'Microsoft.NET',\n",
       " 'Migration',\n",
       " 'ModemLogs',\n",
       " 'notepad.exe',\n",
       " 'OCR',\n",
       " 'Offline Web Pages',\n",
       " 'Panther',\n",
       " 'PCHEALTH',\n",
       " 'Performance',\n",
       " 'PFRO.log',\n",
       " 'PLA',\n",
       " 'PolicyDefinitions',\n",
       " 'pps',\n",
       " 'Prefetch',\n",
       " 'PrintDialog',\n",
       " 'Provisioning',\n",
       " 'regedit.exe',\n",
       " 'Registration',\n",
       " 'rescache',\n",
       " 'Resources',\n",
       " 'RtlExUpd.dll',\n",
       " 'SchCache',\n",
       " 'schemas',\n",
       " 'security',\n",
       " 'ServiceProfiles',\n",
       " 'ServiceState',\n",
       " 'servicing',\n",
       " 'Setup',\n",
       " 'setuperr.log',\n",
       " 'ShellComponents',\n",
       " 'ShellExperiences',\n",
       " 'SHELLNEW',\n",
       " 'SKB',\n",
       " 'SoftwareDistribution',\n",
       " 'SPD.ico',\n",
       " 'Speech',\n",
       " 'Speech_OneCore',\n",
       " 'splwow64.exe',\n",
       " 'System',\n",
       " 'system.ini',\n",
       " 'System32',\n",
       " 'SystemApps',\n",
       " 'SystemResources',\n",
       " 'SystemTemp',\n",
       " 'SysWOW64',\n",
       " 'TAPI',\n",
       " 'Tasks',\n",
       " 'Temp',\n",
       " 'tracing',\n",
       " 'twain_32',\n",
       " 'twain_32.dll',\n",
       " 'Vss',\n",
       " 'WaaS',\n",
       " 'Web',\n",
       " 'win.ini',\n",
       " 'WindowsShell.Manifest',\n",
       " 'WindowsUpdate.log',\n",
       " 'winhlp32.exe',\n",
       " 'WinSxS',\n",
       " 'WMSysPr9.prx',\n",
       " 'write.exe']"
      ]
     },
     "execution_count": 29,
     "metadata": {},
     "output_type": "execute_result"
    }
   ],
   "source": [
    "os.listdir('c:\\Windows')"
   ]
  },
  {
   "cell_type": "markdown",
   "id": "85844c89",
   "metadata": {
    "id": "85844c89"
   },
   "source": [
    "## 기타 폴더 및 파일 관리 함수\n",
    "- os 패키지에서 제공하는 함수\n",
    " - 폴더 생성 mkdir()\n",
    " - 폴더 위치 이동 chdir()\n",
    " - 파일 이름 변경 rename()\n",
    " - 파일 삭제 remove()\n",
    " - 폴더 삭제 rmdir()"
   ]
  },
  {
   "cell_type": "code",
   "execution_count": null,
   "id": "b1e2a9d3",
   "metadata": {},
   "outputs": [],
   "source": []
  }
 ],
 "metadata": {
  "colab": {
   "provenance": []
  },
  "kernelspec": {
   "display_name": "Python 3",
   "language": "python",
   "name": "python3"
  },
  "language_info": {
   "codemirror_mode": {
    "name": "ipython",
    "version": 3
   },
   "file_extension": ".py",
   "mimetype": "text/x-python",
   "name": "python",
   "nbconvert_exporter": "python",
   "pygments_lexer": "ipython3",
   "version": "3.8.8"
  },
  "toc": {
   "base_numbering": 1,
   "nav_menu": {},
   "number_sections": false,
   "sideBar": true,
   "skip_h1_title": false,
   "title_cell": "Table of Contents",
   "title_sidebar": "Contents",
   "toc_cell": false,
   "toc_position": {
    "height": "calc(100% - 180px)",
    "left": "10px",
    "top": "150px",
    "width": "165px"
   },
   "toc_section_display": true,
   "toc_window_display": true
  }
 },
 "nbformat": 4,
 "nbformat_minor": 5
}
