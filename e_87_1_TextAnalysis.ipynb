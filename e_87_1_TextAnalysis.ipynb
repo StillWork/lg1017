{
 "cells": [
  {
   "cell_type": "markdown",
   "id": "l4EwTkknxy7g",
   "metadata": {
    "id": "l4EwTkknxy7g"
   },
   "source": [
    "# 텍스트 처리\n",
    "- 어근 추출\n",
    "- 불용어 처리\n",
    "- 사전 만들기\n",
    "- DTM 만들기"
   ]
  },
  {
   "cell_type": "code",
   "execution_count": null,
   "id": "064YfUff_Z6G",
   "metadata": {
    "id": "064YfUff_Z6G"
   },
   "outputs": [],
   "source": [
    "import pandas as pd"
   ]
  },
  {
   "cell_type": "code",
   "execution_count": null,
   "id": "4c2bf1d8",
   "metadata": {
    "id": "4c2bf1d8"
   },
   "outputs": [],
   "source": [
    "corpus = ['''러시아와 우크라이나 사태가 격화되고 있는 가운데 \n",
    "러시아 억만장자들의 재산이 실시간으로 증발하고 있다!''',\n",
    "'러시아에 대한 서방국가들의 제재로 러시아 억만장자들의 사업이 큰 타격을 입고 있다',\n",
    "'러시아의 침공 이후 일주일 사이 무려 830억 달러의 재산이 감소했다고 전했다']"
   ]
  },
  {
   "cell_type": "code",
   "execution_count": null,
   "id": "8a8b843c",
   "metadata": {
    "colab": {
     "base_uri": "https://localhost:8080/"
    },
    "id": "8a8b843c",
    "outputId": "4cec4282-3853-40d1-f06b-104eaaf3bc02"
   },
   "outputs": [
    {
     "name": "stdout",
     "output_type": "stream",
     "text": [
      "Requirement already satisfied: konlpy in /usr/local/lib/python3.7/dist-packages (0.6.0)\n",
      "Requirement already satisfied: lxml>=4.1.0 in /usr/local/lib/python3.7/dist-packages (from konlpy) (4.2.6)\n",
      "Requirement already satisfied: JPype1>=0.7.0 in /usr/local/lib/python3.7/dist-packages (from konlpy) (1.3.0)\n",
      "Requirement already satisfied: numpy>=1.6 in /usr/local/lib/python3.7/dist-packages (from konlpy) (1.21.5)\n",
      "Requirement already satisfied: typing-extensions in /usr/local/lib/python3.7/dist-packages (from JPype1>=0.7.0->konlpy) (3.10.0.2)\n"
     ]
    }
   ],
   "source": [
    "!pip install konlpy"
   ]
  },
  {
   "cell_type": "markdown",
   "id": "uTPFqSsQ-z78",
   "metadata": {
    "id": "uTPFqSsQ-z78"
   },
   "source": [
    "# 문서를 그대로 분석하는 경우"
   ]
  },
  {
   "cell_type": "code",
   "execution_count": null,
   "id": "gukhoJve-yzJ",
   "metadata": {
    "colab": {
     "base_uri": "https://localhost:8080/"
    },
    "id": "gukhoJve-yzJ",
    "outputId": "46fac430-2ebe-488a-b6b2-494d01fd5177"
   },
   "outputs": [
    {
     "data": {
      "text/plain": [
       "array([[0, 1, 0, 1, 0, 0, 1, 0, 1, 0, 0, 0, 0, 1, 0, 1, 1, 1, 0, 0, 0, 1,\n",
       "        1, 1, 0, 0, 1, 0, 0],\n",
       "       [0, 0, 0, 0, 0, 1, 1, 1, 0, 0, 0, 1, 0, 0, 1, 0, 1, 0, 0, 0, 1, 0,\n",
       "        1, 0, 0, 1, 0, 0, 1],\n",
       "       [1, 0, 1, 0, 1, 0, 0, 0, 0, 1, 1, 0, 1, 0, 0, 0, 0, 0, 1, 1, 0, 0,\n",
       "        0, 1, 1, 0, 0, 1, 0]])"
      ]
     },
     "execution_count": 7,
     "metadata": {},
     "output_type": "execute_result"
    }
   ],
   "source": [
    "from sklearn.feature_extraction.text import CountVectorizer\n",
    "cv = CountVectorizer()\n",
    "dtm_a = cv.fit_transform(corpus).toarray()\n",
    "dtm_a # document term matrix"
   ]
  },
  {
   "cell_type": "code",
   "execution_count": null,
   "id": "mVofK8KQ_OIM",
   "metadata": {
    "colab": {
     "base_uri": "https://localhost:8080/"
    },
    "id": "mVofK8KQ_OIM",
    "outputId": "df968446-5311-43cb-f6a5-9d24229834c5"
   },
   "outputs": [
    {
     "name": "stdout",
     "output_type": "stream",
     "text": [
      "{'러시아와': 8, '우크라이나': 17, '사태가': 13, '격화되고': 3, '있는': 21, '가운데': 1, '러시아': 6, '억만장자들의': 16, '재산이': 23, '실시간으로': 15, '증발하고': 26, '있다': 22, '러시아에': 7, '대한': 5, '서방국가들의': 14, '제재로': 25, '사업이': 11, '타격을': 28, '입고': 20, '러시아의': 9, '침공': 27, '이후': 18, '일주일': 19, '사이': 12, '무려': 10, '830억': 0, '달러의': 4, '감소했다고': 2, '전했다': 24}\n"
     ]
    }
   ],
   "source": [
    "print(cv.vocabulary_)"
   ]
  },
  {
   "cell_type": "code",
   "execution_count": null,
   "id": "llIph5kN_kcx",
   "metadata": {
    "colab": {
     "base_uri": "https://localhost:8080/"
    },
    "id": "llIph5kN_kcx",
    "outputId": "f74b581c-12ea-446b-de37-dd704f1c6d52"
   },
   "outputs": [
    {
     "data": {
      "text/plain": [
       "array(['830억', '가운데', '감소했다고', '격화되고', '달러의', '대한', '러시아', '러시아에', '러시아와',\n",
       "       '러시아의', '무려', '사업이', '사이', '사태가', '서방국가들의', '실시간으로', '억만장자들의',\n",
       "       '우크라이나', '이후', '일주일', '입고', '있는', '있다', '재산이', '전했다', '제재로',\n",
       "       '증발하고', '침공', '타격을'], dtype=object)"
      ]
     },
     "execution_count": 9,
     "metadata": {},
     "output_type": "execute_result"
    }
   ],
   "source": [
    "cv.get_feature_names_out()"
   ]
  },
  {
   "cell_type": "code",
   "execution_count": null,
   "id": "eLlwE7kT_pnf",
   "metadata": {
    "colab": {
     "base_uri": "https://localhost:8080/",
     "height": 958
    },
    "id": "eLlwE7kT_pnf",
    "outputId": "1e7d5b90-fa27-4cb1-e131-f8d12176f590"
   },
   "outputs": [
    {
     "data": {
      "text/html": [
       "\n",
       "  <div id=\"df-c1756af6-20f6-48f8-aca3-67664d91d0fb\">\n",
       "    <div class=\"colab-df-container\">\n",
       "      <div>\n",
       "<style scoped>\n",
       "    .dataframe tbody tr th:only-of-type {\n",
       "        vertical-align: middle;\n",
       "    }\n",
       "\n",
       "    .dataframe tbody tr th {\n",
       "        vertical-align: top;\n",
       "    }\n",
       "\n",
       "    .dataframe thead th {\n",
       "        text-align: right;\n",
       "    }\n",
       "</style>\n",
       "<table border=\"1\" class=\"dataframe\">\n",
       "  <thead>\n",
       "    <tr style=\"text-align: right;\">\n",
       "      <th></th>\n",
       "      <th>0</th>\n",
       "    </tr>\n",
       "  </thead>\n",
       "  <tbody>\n",
       "    <tr>\n",
       "      <th>0</th>\n",
       "      <td>830억</td>\n",
       "    </tr>\n",
       "    <tr>\n",
       "      <th>1</th>\n",
       "      <td>가운데</td>\n",
       "    </tr>\n",
       "    <tr>\n",
       "      <th>2</th>\n",
       "      <td>감소했다고</td>\n",
       "    </tr>\n",
       "    <tr>\n",
       "      <th>3</th>\n",
       "      <td>격화되고</td>\n",
       "    </tr>\n",
       "    <tr>\n",
       "      <th>4</th>\n",
       "      <td>달러의</td>\n",
       "    </tr>\n",
       "    <tr>\n",
       "      <th>5</th>\n",
       "      <td>대한</td>\n",
       "    </tr>\n",
       "    <tr>\n",
       "      <th>6</th>\n",
       "      <td>러시아</td>\n",
       "    </tr>\n",
       "    <tr>\n",
       "      <th>7</th>\n",
       "      <td>러시아에</td>\n",
       "    </tr>\n",
       "    <tr>\n",
       "      <th>8</th>\n",
       "      <td>러시아와</td>\n",
       "    </tr>\n",
       "    <tr>\n",
       "      <th>9</th>\n",
       "      <td>러시아의</td>\n",
       "    </tr>\n",
       "    <tr>\n",
       "      <th>10</th>\n",
       "      <td>무려</td>\n",
       "    </tr>\n",
       "    <tr>\n",
       "      <th>11</th>\n",
       "      <td>사업이</td>\n",
       "    </tr>\n",
       "    <tr>\n",
       "      <th>12</th>\n",
       "      <td>사이</td>\n",
       "    </tr>\n",
       "    <tr>\n",
       "      <th>13</th>\n",
       "      <td>사태가</td>\n",
       "    </tr>\n",
       "    <tr>\n",
       "      <th>14</th>\n",
       "      <td>서방국가들의</td>\n",
       "    </tr>\n",
       "    <tr>\n",
       "      <th>15</th>\n",
       "      <td>실시간으로</td>\n",
       "    </tr>\n",
       "    <tr>\n",
       "      <th>16</th>\n",
       "      <td>억만장자들의</td>\n",
       "    </tr>\n",
       "    <tr>\n",
       "      <th>17</th>\n",
       "      <td>우크라이나</td>\n",
       "    </tr>\n",
       "    <tr>\n",
       "      <th>18</th>\n",
       "      <td>이후</td>\n",
       "    </tr>\n",
       "    <tr>\n",
       "      <th>19</th>\n",
       "      <td>일주일</td>\n",
       "    </tr>\n",
       "    <tr>\n",
       "      <th>20</th>\n",
       "      <td>입고</td>\n",
       "    </tr>\n",
       "    <tr>\n",
       "      <th>21</th>\n",
       "      <td>있는</td>\n",
       "    </tr>\n",
       "    <tr>\n",
       "      <th>22</th>\n",
       "      <td>있다</td>\n",
       "    </tr>\n",
       "    <tr>\n",
       "      <th>23</th>\n",
       "      <td>재산이</td>\n",
       "    </tr>\n",
       "    <tr>\n",
       "      <th>24</th>\n",
       "      <td>전했다</td>\n",
       "    </tr>\n",
       "    <tr>\n",
       "      <th>25</th>\n",
       "      <td>제재로</td>\n",
       "    </tr>\n",
       "    <tr>\n",
       "      <th>26</th>\n",
       "      <td>증발하고</td>\n",
       "    </tr>\n",
       "    <tr>\n",
       "      <th>27</th>\n",
       "      <td>침공</td>\n",
       "    </tr>\n",
       "    <tr>\n",
       "      <th>28</th>\n",
       "      <td>타격을</td>\n",
       "    </tr>\n",
       "  </tbody>\n",
       "</table>\n",
       "</div>\n",
       "      <button class=\"colab-df-convert\" onclick=\"convertToInteractive('df-c1756af6-20f6-48f8-aca3-67664d91d0fb')\"\n",
       "              title=\"Convert this dataframe to an interactive table.\"\n",
       "              style=\"display:none;\">\n",
       "        \n",
       "  <svg xmlns=\"http://www.w3.org/2000/svg\" height=\"24px\"viewBox=\"0 0 24 24\"\n",
       "       width=\"24px\">\n",
       "    <path d=\"M0 0h24v24H0V0z\" fill=\"none\"/>\n",
       "    <path d=\"M18.56 5.44l.94 2.06.94-2.06 2.06-.94-2.06-.94-.94-2.06-.94 2.06-2.06.94zm-11 1L8.5 8.5l.94-2.06 2.06-.94-2.06-.94L8.5 2.5l-.94 2.06-2.06.94zm10 10l.94 2.06.94-2.06 2.06-.94-2.06-.94-.94-2.06-.94 2.06-2.06.94z\"/><path d=\"M17.41 7.96l-1.37-1.37c-.4-.4-.92-.59-1.43-.59-.52 0-1.04.2-1.43.59L10.3 9.45l-7.72 7.72c-.78.78-.78 2.05 0 2.83L4 21.41c.39.39.9.59 1.41.59.51 0 1.02-.2 1.41-.59l7.78-7.78 2.81-2.81c.8-.78.8-2.07 0-2.86zM5.41 20L4 18.59l7.72-7.72 1.47 1.35L5.41 20z\"/>\n",
       "  </svg>\n",
       "      </button>\n",
       "      \n",
       "  <style>\n",
       "    .colab-df-container {\n",
       "      display:flex;\n",
       "      flex-wrap:wrap;\n",
       "      gap: 12px;\n",
       "    }\n",
       "\n",
       "    .colab-df-convert {\n",
       "      background-color: #E8F0FE;\n",
       "      border: none;\n",
       "      border-radius: 50%;\n",
       "      cursor: pointer;\n",
       "      display: none;\n",
       "      fill: #1967D2;\n",
       "      height: 32px;\n",
       "      padding: 0 0 0 0;\n",
       "      width: 32px;\n",
       "    }\n",
       "\n",
       "    .colab-df-convert:hover {\n",
       "      background-color: #E2EBFA;\n",
       "      box-shadow: 0px 1px 2px rgba(60, 64, 67, 0.3), 0px 1px 3px 1px rgba(60, 64, 67, 0.15);\n",
       "      fill: #174EA6;\n",
       "    }\n",
       "\n",
       "    [theme=dark] .colab-df-convert {\n",
       "      background-color: #3B4455;\n",
       "      fill: #D2E3FC;\n",
       "    }\n",
       "\n",
       "    [theme=dark] .colab-df-convert:hover {\n",
       "      background-color: #434B5C;\n",
       "      box-shadow: 0px 1px 3px 1px rgba(0, 0, 0, 0.15);\n",
       "      filter: drop-shadow(0px 1px 2px rgba(0, 0, 0, 0.3));\n",
       "      fill: #FFFFFF;\n",
       "    }\n",
       "  </style>\n",
       "\n",
       "      <script>\n",
       "        const buttonEl =\n",
       "          document.querySelector('#df-c1756af6-20f6-48f8-aca3-67664d91d0fb button.colab-df-convert');\n",
       "        buttonEl.style.display =\n",
       "          google.colab.kernel.accessAllowed ? 'block' : 'none';\n",
       "\n",
       "        async function convertToInteractive(key) {\n",
       "          const element = document.querySelector('#df-c1756af6-20f6-48f8-aca3-67664d91d0fb');\n",
       "          const dataTable =\n",
       "            await google.colab.kernel.invokeFunction('convertToInteractive',\n",
       "                                                     [key], {});\n",
       "          if (!dataTable) return;\n",
       "\n",
       "          const docLinkHtml = 'Like what you see? Visit the ' +\n",
       "            '<a target=\"_blank\" href=https://colab.research.google.com/notebooks/data_table.ipynb>data table notebook</a>'\n",
       "            + ' to learn more about interactive tables.';\n",
       "          element.innerHTML = '';\n",
       "          dataTable['output_type'] = 'display_data';\n",
       "          await google.colab.output.renderOutput(dataTable, element);\n",
       "          const docLink = document.createElement('div');\n",
       "          docLink.innerHTML = docLinkHtml;\n",
       "          element.appendChild(docLink);\n",
       "        }\n",
       "      </script>\n",
       "    </div>\n",
       "  </div>\n",
       "  "
      ],
      "text/plain": [
       "         0\n",
       "0     830억\n",
       "1      가운데\n",
       "2    감소했다고\n",
       "3     격화되고\n",
       "4      달러의\n",
       "5       대한\n",
       "6      러시아\n",
       "7     러시아에\n",
       "8     러시아와\n",
       "9     러시아의\n",
       "10      무려\n",
       "11     사업이\n",
       "12      사이\n",
       "13     사태가\n",
       "14  서방국가들의\n",
       "15   실시간으로\n",
       "16  억만장자들의\n",
       "17   우크라이나\n",
       "18      이후\n",
       "19     일주일\n",
       "20      입고\n",
       "21      있는\n",
       "22      있다\n",
       "23     재산이\n",
       "24     전했다\n",
       "25     제재로\n",
       "26    증발하고\n",
       "27      침공\n",
       "28     타격을"
      ]
     },
     "execution_count": 10,
     "metadata": {},
     "output_type": "execute_result"
    }
   ],
   "source": [
    "pd.DataFrame(cv.get_feature_names_out())"
   ]
  },
  {
   "cell_type": "markdown",
   "id": "bFEr8xEiyN6z",
   "metadata": {
    "id": "bFEr8xEiyN6z"
   },
   "source": [
    "# 텍스트 전처리\n",
    "- 어근 추출\n",
    "- 특수기호, 숫자 제외\n",
    "- 불용어 처리"
   ]
  },
  {
   "cell_type": "code",
   "execution_count": null,
   "id": "ll-Heq0dBW2s",
   "metadata": {
    "id": "ll-Heq0dBW2s"
   },
   "outputs": [],
   "source": [
    "from konlpy.tag import Okt\n",
    "import re\n",
    "def text_preprocessing(text_list):\n",
    "    \n",
    "    stopwords = ['을', '를', '이', '가', '은', '는', '와', '과', '들', \n",
    "                '에', '고','의','로','으로','하고','하는','하여','이고', '있다', '했다', \n",
    "                 '이다','null']\n",
    "    tokenizer = Okt() #형태소 분석기 \n",
    "    # stopwords = []\n",
    "    token_list = []\n",
    "    # txt.lower() ?\n",
    "    for text in text_list:\n",
    "        txt = re.sub('[^가-힣a-z]', ' ', text) #한글과 영어 소문자만 남기고 다른 글자 모두 제거\n",
    "        token = tokenizer.morphs(txt) #형태소 분석\n",
    "        token = [t for t in token if t not in stopwords ] #형태소 분석 결과 중 stopwords에 해당하지 않는 것만 추출\n",
    "        token_list.append(token)\n",
    "        \n",
    "    return token_list, tokenizer\n",
    "\n",
    "#형태소 분석기를 따로 저장한 이유는 후에 test 데이터 전처리를 진행할 때 필요하기 때문\n"
   ]
  },
  {
   "cell_type": "code",
   "execution_count": null,
   "id": "8KxIQic6ykqo",
   "metadata": {
    "colab": {
     "base_uri": "https://localhost:8080/"
    },
    "id": "8KxIQic6ykqo",
    "outputId": "7f61f454-5f35-4348-c49a-4325716147af"
   },
   "outputs": [
    {
     "data": {
      "text/plain": [
       "[['러시아', '우크라이나', '사태', '격화되', '있는', '가운데', '러시아', '억만장자', '재산', '실시간', '증발'],\n",
       " ['러시아', '대한', '서방국가', '제재', '러시아', '억만장자', '사업', '큰', '타격', '입고'],\n",
       " ['러시아', '침공', '이후', '일주일', '사이', '무려', '억', '달러', '재산', '감소', '했다고', '전']]"
      ]
     },
     "execution_count": 14,
     "metadata": {},
     "output_type": "execute_result"
    }
   ],
   "source": [
    "text_a, _ = text_preprocessing(corpus) \n",
    "text_a"
   ]
  },
  {
   "cell_type": "code",
   "execution_count": null,
   "id": "rOd62nhkkqvl",
   "metadata": {
    "id": "rOd62nhkkqvl"
   },
   "outputs": [],
   "source": [
    "# 단어들을 다시 합쳐서 문장으로 만드는 함수\n",
    "def merge_words(text):\n",
    "  text_new = []\n",
    "  for txt in text:\n",
    "    text_new.append(' '.join(txt))\n",
    "  return text_new"
   ]
  },
  {
   "cell_type": "code",
   "execution_count": null,
   "id": "W2zAOnmly9De",
   "metadata": {
    "colab": {
     "base_uri": "https://localhost:8080/"
    },
    "id": "W2zAOnmly9De",
    "outputId": "06083d4c-3557-4735-bcbb-0c24d469dfd3"
   },
   "outputs": [
    {
     "data": {
      "text/plain": [
       "['러시아 우크라이나 사태 격화되 있는 가운데 러시아 억만장자 재산 실시간 증발',\n",
       " '러시아 대한 서방국가 제재 러시아 억만장자 사업 큰 타격 입고',\n",
       " '러시아 침공 이후 일주일 사이 무려 억 달러 재산 감소 했다고 전']"
      ]
     },
     "execution_count": 16,
     "metadata": {},
     "output_type": "execute_result"
    }
   ],
   "source": [
    "simple_a = merge_words(text_a)\n",
    "simple_a"
   ]
  },
  {
   "cell_type": "code",
   "execution_count": null,
   "id": "a48b2896",
   "metadata": {
    "colab": {
     "base_uri": "https://localhost:8080/"
    },
    "id": "a48b2896",
    "outputId": "022a4c74-416c-4099-8afa-0242bcde7839"
   },
   "outputs": [
    {
     "name": "stdout",
     "output_type": "stream",
     "text": [
      "{'러시아': 5, '우크라이나': 13, '사태': 9, '격화되': 2, '있는': 17, '가운데': 0, '억만장자': 12, '재산': 18, '실시간': 11, '증발': 20, '대한': 4, '서방국가': 10, '제재': 19, '사업': 7, '타격': 22, '입고': 16, '침공': 21, '이후': 14, '일주일': 15, '사이': 8, '무려': 6, '달러': 3, '감소': 1, '했다고': 23}\n"
     ]
    }
   ],
   "source": [
    "from sklearn.feature_extraction.text import CountVectorizer\n",
    "cv = CountVectorizer()\n",
    "dtm_a = cv.fit_transform(simple_a).toarray()\n",
    "print(cv.vocabulary_)"
   ]
  },
  {
   "cell_type": "code",
   "execution_count": null,
   "id": "0wewLVvLjcZM",
   "metadata": {
    "colab": {
     "base_uri": "https://localhost:8080/"
    },
    "id": "0wewLVvLjcZM",
    "outputId": "861aed1e-53c2-426b-b89a-5eb0d8d9f8bf"
   },
   "outputs": [
    {
     "data": {
      "text/plain": [
       "array([[1, 0, 1, 0, 0, 2, 0, 0, 0, 1, 0, 1, 1, 1, 0, 0, 0, 1, 1, 0, 1, 0,\n",
       "        0, 0],\n",
       "       [0, 0, 0, 0, 1, 2, 0, 1, 0, 0, 1, 0, 1, 0, 0, 0, 1, 0, 0, 1, 0, 0,\n",
       "        1, 0],\n",
       "       [0, 1, 0, 1, 0, 1, 1, 0, 1, 0, 0, 0, 0, 0, 1, 1, 0, 0, 1, 0, 0, 1,\n",
       "        0, 1]])"
      ]
     },
     "execution_count": 18,
     "metadata": {},
     "output_type": "execute_result"
    }
   ],
   "source": [
    "dtm_a"
   ]
  },
  {
   "cell_type": "code",
   "execution_count": null,
   "id": "MU6IG74Vl3r0",
   "metadata": {
    "id": "MU6IG74Vl3r0"
   },
   "outputs": [],
   "source": [
    "df_vocabs = pd.DataFrame(cv.get_feature_names_out())"
   ]
  },
  {
   "cell_type": "code",
   "execution_count": null,
   "id": "25m2Fq4JF3PZ",
   "metadata": {
    "id": "25m2Fq4JF3PZ"
   },
   "outputs": [],
   "source": [
    "X = dtm_a\n",
    "y = [1,0,0]\n",
    "# train_test_split()"
   ]
  },
  {
   "cell_type": "code",
   "execution_count": null,
   "id": "QQkbZEuSpHV3",
   "metadata": {
    "id": "QQkbZEuSpHV3"
   },
   "outputs": [],
   "source": [
    "# dtm에서 중복된 단어 수를 고려하여 단어 목록을 새로 만드는 함수\n",
    "def get_words(dtm, df):\n",
    "  out1 = []\n",
    "  for dt in dtm:\n",
    "    out2 = []\n",
    "    for i in range(len(dt)):\n",
    "      n = dt[i]\n",
    "      if n == 0: continue\n",
    "      while n > 0:\n",
    "        out2.append(df.loc[i][0])\n",
    "        n -= 1\n",
    "    out1.append(out2)\n",
    "  return out1"
   ]
  },
  {
   "cell_type": "code",
   "execution_count": null,
   "id": "BefaSj7gtehM",
   "metadata": {
    "colab": {
     "base_uri": "https://localhost:8080/"
    },
    "id": "BefaSj7gtehM",
    "outputId": "e2ed9d9c-ba88-48b0-db61-e90fdb6122d6"
   },
   "outputs": [
    {
     "data": {
      "text/plain": [
       "[['가운데', '격화되', '러시아', '러시아', '사태', '실시간', '억만장자', '우크라이나', '있는', '재산', '증발'],\n",
       " ['대한', '러시아', '러시아', '사업', '서방국가', '억만장자', '입고', '제재', '타격'],\n",
       " ['감소', '달러', '러시아', '무려', '사이', '이후', '일주일', '재산', '침공', '했다고']]"
      ]
     },
     "execution_count": 25,
     "metadata": {},
     "output_type": "execute_result"
    }
   ],
   "source": [
    "get_words(dtm_a, df_vocabs)"
   ]
  },
  {
   "cell_type": "markdown",
   "id": "CorArDc20Nn_",
   "metadata": {
    "id": "CorArDc20Nn_"
   },
   "source": [
    "# 새로운 텍스트에 대한 dtm 만들기와 단어수 확인 방법"
   ]
  },
  {
   "cell_type": "code",
   "execution_count": null,
   "id": "lU86Jo7ypiyJ",
   "metadata": {
    "id": "lU86Jo7ypiyJ"
   },
   "outputs": [],
   "source": [
    "b = [\"러시아와 이후에 협력을 하는 서방국가들의 달러를 얼마나 러시아에 줘야 되나\",\n",
    "     '달러를 많이 수출하여 협력하여 달러 수입을 늘린다']"
   ]
  },
  {
   "cell_type": "code",
   "execution_count": null,
   "id": "qI3BSakTvCcf",
   "metadata": {
    "colab": {
     "base_uri": "https://localhost:8080/"
    },
    "id": "qI3BSakTvCcf",
    "outputId": "a96ba5ff-580f-4b26-dcde-2aa162fc15d7"
   },
   "outputs": [
    {
     "data": {
      "text/plain": [
       "[['러시아', '이후', '협력', '서방국가', '달러', '얼마나', '러시아', '줘야', '되나'],\n",
       " ['달러', '많이', '수출', '협력', '달러', '수입', '늘린다']]"
      ]
     },
     "execution_count": 27,
     "metadata": {},
     "output_type": "execute_result"
    }
   ],
   "source": [
    "text_b, _ = text_preprocessing(b)\n",
    "text_b"
   ]
  },
  {
   "cell_type": "code",
   "execution_count": null,
   "id": "0eH77xb5v_Er",
   "metadata": {
    "colab": {
     "base_uri": "https://localhost:8080/"
    },
    "id": "0eH77xb5v_Er",
    "outputId": "0fa526b1-4d8d-437f-bbee-1efa2af4f513"
   },
   "outputs": [
    {
     "data": {
      "text/plain": [
       "array([[0, 0, 0, 1, 0, 2, 0, 0, 0, 0, 1, 0, 0, 0, 1, 0, 0, 0, 0, 0, 0, 0,\n",
       "        0, 0],\n",
       "       [0, 0, 0, 2, 0, 0, 0, 0, 0, 0, 0, 0, 0, 0, 0, 0, 0, 0, 0, 0, 0, 0,\n",
       "        0, 0]])"
      ]
     },
     "execution_count": 28,
     "metadata": {},
     "output_type": "execute_result"
    }
   ],
   "source": [
    "dtm_b = cv.transform(merge_words(text_b)).toarray()\n",
    "dtm_b"
   ]
  },
  {
   "cell_type": "code",
   "execution_count": null,
   "id": "hUdQA_30sjUg",
   "metadata": {
    "colab": {
     "base_uri": "https://localhost:8080/"
    },
    "id": "hUdQA_30sjUg",
    "outputId": "d0da87b9-6ef7-438c-8120-58a47140d5bf"
   },
   "outputs": [
    {
     "data": {
      "text/plain": [
       "[['달러', '러시아', '러시아', '서방국가', '이후'], ['달러', '달러']]"
      ]
     },
     "execution_count": 30,
     "metadata": {},
     "output_type": "execute_result"
    }
   ],
   "source": [
    "# 단어 수를 고려하여 단어들을 추출\n",
    "# 최초에 만든 사전에 없던 단어는 처리가 안된다 (협력, 얼마나, 되나, 수출 등)\n",
    "get_words(dtm_b, df_vocabs)"
   ]
  },
  {
   "cell_type": "code",
   "execution_count": null,
   "id": "IhYEde4mwrzz",
   "metadata": {
    "id": "IhYEde4mwrzz"
   },
   "outputs": [],
   "source": []
  }
 ],
 "metadata": {
  "colab": {
   "collapsed_sections": [],
   "name": "d_90_CountVectorizer_2.ipynb",
   "provenance": []
  },
  "kernelspec": {
   "display_name": "Python 3",
   "language": "python",
   "name": "python3"
  },
  "language_info": {
   "codemirror_mode": {
    "name": "ipython",
    "version": 3
   },
   "file_extension": ".py",
   "mimetype": "text/x-python",
   "name": "python",
   "nbconvert_exporter": "python",
   "pygments_lexer": "ipython3",
   "version": "3.8.8"
  },
  "toc": {
   "base_numbering": 1,
   "nav_menu": {},
   "number_sections": false,
   "sideBar": true,
   "skip_h1_title": false,
   "title_cell": "Table of Contents",
   "title_sidebar": "Contents",
   "toc_cell": false,
   "toc_position": {},
   "toc_section_display": true,
   "toc_window_display": true
  }
 },
 "nbformat": 4,
 "nbformat_minor": 5
}
