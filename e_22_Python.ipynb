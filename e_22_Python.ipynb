{
 "cells": [
  {
   "cell_type": "markdown",
   "id": "f0db2282",
   "metadata": {},
   "source": [
    "# 파이썬 기초\n",
    "- 주피터 노트북 사용법\n",
    "- 기본 변수, 묶음변수(리스트, 튜플, 딕셔너리)\n",
    "- 특수 변수(range)\n",
    "- in, enumerate\n",
    "- 프로그램 흐름 (if, elif, else, for, break)"
   ]
  },
  {
   "cell_type": "markdown",
   "id": "afecd79e",
   "metadata": {},
   "source": [
    "# Jupyter Notebook\n",
    "\n",
    "- 개인 PC를 사용하는 경우  \n",
    "  - PC에 아나콘다 설치\n",
    "  - pip install tensorflow 실행(CPU 버전인 경우)\n",
    "  - PC 검색창에서 anaconda prompt 실행 후 원하는 시작 폴더로 이동\n",
    "  - jupyter notebook 실행\n",
    " \n",
    "- 구글 클라우드 colab 사용  \n",
    "  - colab.research.google.com 접속\n",
    "  - 구글 계정에 가입해야 한다, 크롬 브라우저 사용\n",
    "  - 스마트폰에서도 colab 접속 가능\n",
    "- 예제는 github.com에서 다운로드 한다  \n",
    "  - github.com 계정 가입 필요"
   ]
  },
  {
   "cell_type": "markdown",
   "id": "9c337934",
   "metadata": {
    "colab_type": "text",
    "id": "fjkX2ae7Kaoa"
   },
   "source": [
    "## 주요 명령 단축키 (PC에서)\n",
    "\n",
    "- 셀의 왼쪽 부분을 클릭하면 명령 입력 모드가 된다(셀이 파란색으로 바뀜). 명령 입력 모드에서 아래 단축키를 사용할 수 있다  \n",
    "\n",
    "  - a  : 현재 셀 위에 셀 추가 (above)\n",
    "  - b  : 현재 셀 아래에 셀 추가 (below)\n",
    "  - x  : 현재 셀 삭제 (delete)\n",
    "  - m  : 문서용 셀로 전환 (mark up)\n",
    "  - y  : 코드용 셀로 전환\n",
    "  - o  : 출력 보이기/안보이기 토글 (output)\n",
    "  -  아래 셀과 합치기 shift + m (merge)\n",
    "  -  셀을 둘로 나누기 ctrl + shift + '-'\n",
    "  - h  : help\n",
    "\n",
    "\n",
    "- **코랩에서는 명령어 입력 전에 (ctrl + m)을 먼저 입력해야 한다**"
   ]
  },
  {
   "cell_type": "markdown",
   "id": "1ff9c2ad",
   "metadata": {},
   "source": [
    "# 마크다운\n",
    "- 이 셀은 마크다운 셀이다. 셀의 성격을 바꾸는 메뉴는 상단 Cell - Cell Type에 있다  \n",
    "\n",
    "## 작은제목\n",
    "### 더 작은 제목\n",
    "- 쥬피터 노트북의 장점은 프로그램 코드 작성 셀과 함께 이렇게 문서를 편집하는 셀도 하나의 노트북내에서 같이 만들 수 있다는 것이다\n",
    "  - 들여쓰기\n",
    " > 세부 내용은 이렇게 쓸 수 있다\n",
    "- **강조하기**를 할 수 있고 *이탤릭체*를 쓸 수도 있다\n",
    "\n",
    "## 셀 편집 방법\n",
    "- 셀을 편집하려면 셀 내부를 더블 클릭한다 (셀이 초록색을 바뀐다)\n",
    "\n",
    "## 셀 실행 방법\n",
    "- 각 셀은 프로그램 코드 또는 문서(마크업 문서) 중 하나로 사용된다\n",
    "- 셀을 Ctrl + Enter로 실행하면 셀 실행 후 커서가 현재의 셀에 남아 있는다\n",
    "- 셀을 Shift + Enter 로 실행하면 셀 실행 후 **커서가 다음 셀로 이동**한다\n",
    "\n",
    "## 셀 실행 번호 \n",
    "\n",
    "- 코드 셀에서 In [2] 와 같이 숫자가 보이는데, 이는 이 셀이 실행된 순서를 나타내며 큰 의미는 없다. 노트북을 재실행하면 1번부터 다시 시작한다"
   ]
  },
  {
   "cell_type": "markdown",
   "id": "fcf5c1e9",
   "metadata": {},
   "source": [
    "## 목차 만들기(PC)\n",
    "- colab을 사용하면 좌측에서 목차를 기본적으로 볼 수 있다\n",
    " - 목차는 마크다운에서 #, ##, ###, ... 등이 포함된 라인들로 작성된다\n",
    "- PC에서 아나콘다를 사용하는 경우 쥬피터 노트북 좌측에 목차를 만들려면 아래 명령을 수행한 후 쥬피터 노트북을 재실행한다\n",
    " - 아래에서 '!'의 의미는 운영체제에 즉 컴퓨터에게 직접 명령을 수행하라는 의미이다"
   ]
  },
  {
   "cell_type": "code",
   "execution_count": 1,
   "id": "b7f01c0f",
   "metadata": {},
   "outputs": [],
   "source": [
    "# !pip install jupyter_contrib_nbextensions && jupyter contrib nbextension install --user"
   ]
  },
  {
   "cell_type": "markdown",
   "id": "7b27c12b",
   "metadata": {},
   "source": [
    "- 쥬피터 노트북 최상단에 Nbextention 탭이 추가된 것이 보이면, 이를 선택한 후 Table of Contents(2) 활성화를 선택한다.\n",
    "- 관련 블로그 https://junpyopark.github.io/Jupyter_Extension/"
   ]
  },
  {
   "cell_type": "markdown",
   "id": "cc3161ce",
   "metadata": {
    "colab_type": "text",
    "id": "X3dBIDyofMpX"
   },
   "source": [
    "# 파이선 기본 문법\n",
    "\n",
    "- 기본 변수 (단일 데이터 저장)\n",
    "  - 정수(int), 부동소수(float), 문자열(strings), 불리언(bool)  \n",
    "- 묶음 데이터 (복수 데이터 저장)\n",
    "  - 리스트(list), 튜풀(tuple), 사전(dictionary) \n",
    "- 프로그램 흐름\n",
    "  - if, else, for, break\n",
    "- enumerate\n",
    "  - 리스트에서 순서번호(인덱스)를 얻는 방법"
   ]
  },
  {
   "cell_type": "markdown",
   "id": "e6576640",
   "metadata": {},
   "source": [
    "# 기본 변수\n",
    "## 숫자, 문자열, 불리언\n",
    "\n",
    "- 숫자에는 정수(int)와 부동소수(float)가 있다\n",
    "- 변수에 값을 배정(assign)할 때 \"=\"를 사용한다"
   ]
  },
  {
   "cell_type": "code",
   "execution_count": 1,
   "id": "1e47cfbc",
   "metadata": {},
   "outputs": [
    {
     "name": "stdout",
     "output_type": "stream",
     "text": [
      "3 0.5 김연아 True\n"
     ]
    }
   ],
   "source": [
    "## 파이썬의 기본 변수 4가지\n",
    "\n",
    "a = 3\n",
    "b = 0.5\n",
    "x = \"김연아\"\n",
    "y = True\n",
    "print(a,b,x,y)"
   ]
  },
  {
   "cell_type": "code",
   "execution_count": 2,
   "id": "0933ea17",
   "metadata": {},
   "outputs": [
    {
     "data": {
      "text/plain": [
       "3"
      ]
     },
     "execution_count": 2,
     "metadata": {},
     "output_type": "execute_result"
    }
   ],
   "source": [
    "## 문자열의 길이 보기 (length)\n",
    "\n",
    "len(x)  # 3"
   ]
  },
  {
   "cell_type": "code",
   "execution_count": 3,
   "id": "5ec7bb46",
   "metadata": {
    "colab": {},
    "colab_type": "code",
    "id": "QosL1F6CfMpY",
    "outputId": "265957ec-434a-4637-f4cf-56336667a62e"
   },
   "outputs": [
    {
     "name": "stdout",
     "output_type": "stream",
     "text": [
      "3.5\n",
      "2.5\n",
      "1.5\n",
      "6.0\n",
      "4.5\n"
     ]
    }
   ],
   "source": [
    "## 정수, 소수, 불리언의 4칙 연산\n",
    "\n",
    "print(a+b)\n",
    "print(a-b)\n",
    "print(a*b)\n",
    "print(a/b)\n",
    "print(a+b+y)"
   ]
  },
  {
   "cell_type": "code",
   "execution_count": 4,
   "id": "ccf06bd0",
   "metadata": {},
   "outputs": [
    {
     "data": {
      "text/plain": [
       "(int, float, str, bool)"
      ]
     },
     "execution_count": 4,
     "metadata": {},
     "output_type": "execute_result"
    }
   ],
   "source": [
    "## 변수의 타입 확인하기\n",
    "\n",
    "type(a), type(b), type(x), type(y) "
   ]
  },
  {
   "cell_type": "code",
   "execution_count": 5,
   "id": "7673cce7",
   "metadata": {},
   "outputs": [
    {
     "name": "stdout",
     "output_type": "stream",
     "text": [
      "2\n",
      "1\n",
      "343\n"
     ]
    }
   ],
   "source": [
    "## 나눗셈 몫과 나머지, 승수\n",
    "\n",
    "a = 7\n",
    "b = 3\n",
    "\n",
    "print(a//b)  # 2, 몫 구하기\n",
    "print(a%b)   # 1, 나머지 \n",
    "print(a**b)  # 232, 승수"
   ]
  },
  {
   "cell_type": "markdown",
   "id": "c27ae0ac",
   "metadata": {},
   "source": [
    "## 문자열"
   ]
  },
  {
   "cell_type": "code",
   "execution_count": 7,
   "id": "acdfd47d",
   "metadata": {
    "scrolled": true
   },
   "outputs": [
    {
     "name": "stdout",
     "output_type": "stream",
     "text": [
      "오늘 날씨는 좋으네요~~~ \n"
     ]
    }
   ],
   "source": [
    "## 문자열 붙이기\n",
    "\n",
    "x = \"오늘 날씨는 \"\n",
    "y = \"좋으네요~~~ \"\n",
    "z = x + y\n",
    "print(z)"
   ]
  },
  {
   "cell_type": "code",
   "execution_count": 8,
   "id": "98f8824e",
   "metadata": {},
   "outputs": [
    {
     "data": {
      "text/plain": [
       "'오늘 날씨는 좋으네요~~~ 좋으네요~~~ 좋으네요~~~ '"
      ]
     },
     "execution_count": 8,
     "metadata": {},
     "output_type": "execute_result"
    }
   ],
   "source": [
    "## 문자열 반복하기\n",
    "\n",
    "x + 3*y"
   ]
  },
  {
   "cell_type": "code",
   "execution_count": 9,
   "id": "c8558b0d",
   "metadata": {},
   "outputs": [
    {
     "name": "stdout",
     "output_type": "stream",
     "text": [
      "7\n",
      "오늘 날씨는 \n",
      "늘\n",
      "오늘 \n",
      "날씨는\n",
      "씨\n",
      "씨는 \n"
     ]
    }
   ],
   "source": [
    "## 문자열 일부 보기 (인덱스를 사용한 슬라이싱)\n",
    "\n",
    "x = \"오늘 날씨는 \"\n",
    "\n",
    "print(len(x)) # 문자열 전체 글자수\n",
    "print(x)       # 전체 보기\n",
    "print(x[1])   # 두 번째(1) 글자\n",
    "print(x[:3])  # 네 번재(3) 미만까지\n",
    "print(x[3:6]) # 네 번째(3) 이상 ~ 7번째(6) 미만\n",
    "print(x[-3])  # 뒤에서 세 번째(3) 글자\n",
    "print(x[-3:]) # 뒤에서 세 번째(3) 이후 "
   ]
  },
  {
   "cell_type": "markdown",
   "id": "e62d1163",
   "metadata": {},
   "source": [
    "### 문자열 조작, split과 join\n",
    "- 문자열을 공백, \"/\", \",\" 등 임의의 기호를 기준으로 나누거나(split) 합친다(join)\n",
    "- 나누어진 항목은 리스트(list)에 저장된다 (리스트는 묶음 데이터를 나타내며 뒤에서 설명함)"
   ]
  },
  {
   "cell_type": "code",
   "execution_count": 1,
   "id": "a957734c",
   "metadata": {},
   "outputs": [
    {
     "name": "stdout",
     "output_type": "stream",
     "text": [
      "['김연아', '손흥민', '이선희', '유재석']\n"
     ]
    }
   ],
   "source": [
    "## 문자열을 ','나 공백(스페이스) 등으로 나누기\n",
    "\n",
    "name1 = '김연아,손흥민,이선희,유재석'\n",
    "\n",
    "# ','로 나누기\n",
    "z = name1.split(',')\n",
    "print(z)"
   ]
  },
  {
   "cell_type": "code",
   "execution_count": 2,
   "id": "6206236c",
   "metadata": {},
   "outputs": [
    {
     "data": {
      "text/plain": [
       "'김연아;손흥민;이선희;유재석'"
      ]
     },
     "execution_count": 2,
     "metadata": {},
     "output_type": "execute_result"
    }
   ],
   "source": [
    "## 단어 합치기\n",
    "\n",
    "';'.join(z)"
   ]
  },
  {
   "cell_type": "code",
   "execution_count": 2,
   "id": "fa98555c",
   "metadata": {},
   "outputs": [
    {
     "name": "stdout",
     "output_type": "stream",
     "text": [
      "['12', '31', '2023']\n"
     ]
    }
   ],
   "source": [
    "## 문자열을 \"/\"를 기준으로 나누고 순서를 바꾸어서 합치기\n",
    "\n",
    "date = '12/31/2023'\n",
    "z = date.split('/')\n",
    "print(z)"
   ]
  },
  {
   "cell_type": "code",
   "execution_count": 3,
   "id": "e7c9c597",
   "metadata": {},
   "outputs": [
    {
     "name": "stdout",
     "output_type": "stream",
     "text": [
      "31\n"
     ]
    }
   ],
   "source": [
    "print(z[1])"
   ]
  },
  {
   "cell_type": "code",
   "execution_count": 5,
   "id": "17880270",
   "metadata": {},
   "outputs": [
    {
     "name": "stdout",
     "output_type": "stream",
     "text": [
      "2023-12-31\n"
     ]
    }
   ],
   "source": [
    "new_date = \"-\".join((z[2], z[0], z[1]))\n",
    "print(new_date)"
   ]
  },
  {
   "cell_type": "code",
   "execution_count": 6,
   "id": "b7aae965",
   "metadata": {},
   "outputs": [
    {
     "name": "stdout",
     "output_type": "stream",
     "text": [
      "오늘 기온은 \n"
     ]
    }
   ],
   "source": [
    "# 문자열 교체 (replace)\n",
    "\n",
    "x = \"오늘 날씨는 \"\n",
    "print(x.replace(\"날씨는\", \"기온은\"))"
   ]
  },
  {
   "cell_type": "markdown",
   "id": "b8c53925",
   "metadata": {},
   "source": [
    "### 문자열에 포맷( format) 사용하기\n",
    "- 변수가 포함된 문자열을 만드는 방법\n",
    "  - f\"...\" 사용"
   ]
  },
  {
   "cell_type": "code",
   "execution_count": 9,
   "id": "d927e7a7",
   "metadata": {},
   "outputs": [
    {
     "name": "stdout",
     "output_type": "stream",
     "text": [
      "틀린 갯수가 5개 이하이면 90.5 점입니다.\n"
     ]
    }
   ],
   "source": [
    "## 문자열 내에 변수 값을 포함하는 방법 (format)\n",
    "\n",
    "x = 5\n",
    "y = 90.5\n",
    "\n",
    "print(f\"틀린 갯수가 {x}개 이하이면 {y} 점입니다.\")"
   ]
  },
  {
   "cell_type": "markdown",
   "id": "be3195b4",
   "metadata": {},
   "source": [
    "## 불리언\n",
    "- 참과 거짓을 True, False로 표현\n",
    "- 대소문자를 구분함\n",
    "\n",
    "- \">\", \"<\", \"==\", \">=\",\"<=\" 등의 비교연산을 사용하여 불리언 값을 얻는다"
   ]
  },
  {
   "cell_type": "code",
   "execution_count": 10,
   "id": "49c1df5e",
   "metadata": {},
   "outputs": [
    {
     "name": "stdout",
     "output_type": "stream",
     "text": [
      "False\n"
     ]
    }
   ],
   "source": [
    "## 비교 연산의 결과는 논리형 값이다\n",
    "\n",
    "x = 5\n",
    "z = x < 1\n",
    "print(z)"
   ]
  },
  {
   "cell_type": "code",
   "execution_count": 3,
   "id": "ceea3283",
   "metadata": {},
   "outputs": [
    {
     "name": "stdout",
     "output_type": "stream",
     "text": [
      "False\n",
      "True\n"
     ]
    }
   ],
   "source": [
    "## 논리형 연산 결과는 논리형 값이다\n",
    "\n",
    "a = True\n",
    "b = False\n",
    "print(a & b) # False\n",
    "print(a | b) # True"
   ]
  },
  {
   "cell_type": "markdown",
   "id": "a242e9b4",
   "metadata": {},
   "source": [
    "### 불리언의 연산\n",
    "- 불리언 변수가 연산에 사용되면 True는 1로, False는 0으로 자동으로 변환된다"
   ]
  },
  {
   "cell_type": "code",
   "execution_count": 12,
   "id": "3dc997d9",
   "metadata": {},
   "outputs": [
    {
     "name": "stdout",
     "output_type": "stream",
     "text": [
      "10\n",
      "1\n"
     ]
    }
   ],
   "source": [
    "print(a*10)\n",
    "print(a+b)"
   ]
  },
  {
   "cell_type": "markdown",
   "id": "b49adaf8",
   "metadata": {
    "colab_type": "text",
    "id": "SR1EuTvjfMp7"
   },
   "source": [
    "# 묶음 데이터 \n",
    " - 숫자, 문자, 불리언 등 단변수들을 여러개 묶어 처리하는 방법\n",
    " - 리스트(list), 튜플(tuple), 사전(dictionary)"
   ]
  },
  {
   "cell_type": "markdown",
   "id": "5c04cea5",
   "metadata": {
    "colab_type": "text",
    "id": "SR1EuTvjfMp7"
   },
   "source": [
    "## 리스트\n",
    " - 파이썬에서 가장 널리 사용되는 데이터 조작용 \"통\"\n",
    " - 리스트를 구성하는 각 항목의 데이터 타입은 서로 달라도 된다\n",
    " - 리스트 항목으로 이미지나, 파일 전체를 담을 수도 있다"
   ]
  },
  {
   "cell_type": "markdown",
   "id": "48439c31",
   "metadata": {},
   "source": [
    "### 리스트 생성\n",
    " - 리스트를 만들려면 대괄호 \"[ ]\" 를 사용하고 각 항목을 ','로 구분한다\n",
    " - list() 함수로도 만들 수 있다"
   ]
  },
  {
   "cell_type": "markdown",
   "id": "1b0d26cc",
   "metadata": {},
   "source": [
    "### 슬라이싱\n",
    "- 리스트 내의 어떤 범위의 항목을 얻는다\n",
    "- 범위를 지정하는 것을 인덱싱이라고 한다"
   ]
  },
  {
   "cell_type": "code",
   "execution_count": 13,
   "id": "bd813f7f",
   "metadata": {
    "colab": {},
    "colab_type": "code",
    "id": "PZNFeB9hfMqN",
    "outputId": "3c15b21b-5c03-4a17-83f7-d3c805cac456",
    "scrolled": true
   },
   "outputs": [
    {
     "name": "stdout",
     "output_type": "stream",
     "text": [
      "7\n",
      "[1, 2, 3, 30, 90, [100, 200], '김연아']\n",
      "2\n",
      "[1, 2, 3]\n",
      "[30, 90, [100, 200]]\n",
      "90\n",
      "[90, [100, 200], '김연아']\n"
     ]
    }
   ],
   "source": [
    "## 리스트 생성과 일부 항목 얻기\n",
    "\n",
    "a = 3\n",
    "b = 90\n",
    "small_list = [100,200]\n",
    "x = [1,2,a,a*10,b,small_list,'김연아']\n",
    "\n",
    "print(len(x)) # 리스트의 항목 수\n",
    "print(x)       # 전체 항목 보기\n",
    "print(x[1])   # 두 번째(1) 항목\n",
    "print(x[:3])  # 네 번재(3) 미만까지\n",
    "print(x[3:6]) # 네 번째(3) 이상 ~ 7번째(6) 미만\n",
    "print(x[-3])  # 뒤에서 세 번째(3) 항목\n",
    "print(x[-3:]) # 뒤에서 세 번째(3) 이후 "
   ]
  },
  {
   "cell_type": "markdown",
   "id": "6dc16842",
   "metadata": {},
   "source": [
    "### 항목 추가 : append()"
   ]
  },
  {
   "cell_type": "code",
   "execution_count": 16,
   "id": "d365457b",
   "metadata": {
    "colab": {},
    "colab_type": "code",
    "id": "XpSrOjU2fMqe",
    "outputId": "682d1a04-f04c-4f7f-a8ee-a3e44f7765c3"
   },
   "outputs": [
    {
     "name": "stdout",
     "output_type": "stream",
     "text": [
      "[1, 2, 3, 30, 90, [100, 200], '김연아', '손흥민', '손흥민', '손흥민']\n"
     ]
    },
    {
     "data": {
      "text/plain": [
       "[1, 2, 3, 30, 90, [100, 200], '김연아', '손흥민', '손흥민', '손흥민', '손흥민']"
      ]
     },
     "execution_count": 16,
     "metadata": {},
     "output_type": "execute_result"
    }
   ],
   "source": [
    "## 리스트 맨 뒤에 항목 추가하기\n",
    "\n",
    "print(x)\n",
    "x.append('손흥민') # 맨 뒤에 추가된다\n",
    "x"
   ]
  },
  {
   "cell_type": "markdown",
   "id": "fb07f211",
   "metadata": {},
   "source": [
    "### in\n",
    "- 어떤 항목이 리스트에 들어 있는지를 확인한다\n",
    "- 결과는 True나 Flase를 얻는다"
   ]
  },
  {
   "cell_type": "code",
   "execution_count": 18,
   "id": "64283be5",
   "metadata": {},
   "outputs": [
    {
     "name": "stdout",
     "output_type": "stream",
     "text": [
      "True\n",
      "True\n",
      "False\n"
     ]
    }
   ],
   "source": [
    "## 리스트에 포함된 항목 확인하기\n",
    "\n",
    "x = [30,40,'김연아']\n",
    "print(30 in x)\n",
    "print('김연아' in x)\n",
    "print(100 in x)"
   ]
  },
  {
   "cell_type": "markdown",
   "id": "e88851d4",
   "metadata": {},
   "source": [
    "### 리스트 복제\n",
    "- 리스트 전체를 반복 복제 하려면 \"*\"를 사용한다\n",
    "- 리스트를 합치려면 \"+\"를 사용한다"
   ]
  },
  {
   "cell_type": "code",
   "execution_count": 19,
   "id": "2fdb6f52",
   "metadata": {},
   "outputs": [
    {
     "data": {
      "text/plain": [
       "[0, 0, 0, 0, 0, 1, 1, 1, 1, 1]"
      ]
     },
     "execution_count": 19,
     "metadata": {},
     "output_type": "execute_result"
    }
   ],
   "source": [
    "## 리스트 복제 및 더하기\n",
    "\n",
    "a = [0] # 항목이 0 하나인 리스트\n",
    "b = [1] # 항목이 1 하나인 리스트\n",
    "z = a*5 + b*5\n",
    "z"
   ]
  },
  {
   "cell_type": "markdown",
   "id": "bde4a98b",
   "metadata": {},
   "source": [
    "### 리스트 정렬, sorted\n",
    "- 숫자 또는 알파벳순으로 정렬한다"
   ]
  },
  {
   "cell_type": "code",
   "execution_count": 20,
   "id": "8394f8a0",
   "metadata": {},
   "outputs": [
    {
     "name": "stdout",
     "output_type": "stream",
     "text": [
      "[1, 2, 3, 4, 5]\n",
      "[5, 4, 3, 2, 1]\n",
      "['김연아', '박세리', '이선희']\n"
     ]
    }
   ],
   "source": [
    "## 리스트 순서 정렬하기\n",
    "\n",
    "x = [2,1,3,5,4]\n",
    "y = sorted(x)\n",
    "z = sorted(x, reverse=True)\n",
    "print(y)\n",
    "print(z)\n",
    "\n",
    "x = ['이선희', '김연아', '박세리']\n",
    "y = sorted(x)\n",
    "print(y)"
   ]
  },
  {
   "cell_type": "markdown",
   "id": "72a5dc1a",
   "metadata": {
    "colab_type": "text",
    "id": "v_cZd_gQfMqh"
   },
   "source": [
    "## 튜플 (tuple)\n",
    "- 튜플도 리스트처럼 여러 항목을 담을 수 있는 변수\n",
    "- 리스트와 달리 튜플의 내용은 '상수'로 취급되어 값을 바꿀 수 없다\n",
    "- 읽기 전용 리스트인 셈이다\n",
    "- 튜플을 사용하는 이유는 리스트보다 처리 속도가 빠르며 값을 안전하게 고정시키기 위해서이다\n",
    "- 튜플도 슬라이싱이 가능하다\n",
    "- 튜플을 만들려면 소괄호( )를 사용하여 만들거나 ( )  없이 \",\" 로 구분하여 나열한다"
   ]
  },
  {
   "cell_type": "code",
   "execution_count": 22,
   "id": "72c481a8",
   "metadata": {
    "colab": {},
    "colab_type": "code",
    "id": "FWh2t30OfMqi",
    "outputId": "07768f3c-c5fc-4107-f609-9ce2d3d29036"
   },
   "outputs": [
    {
     "name": "stdout",
     "output_type": "stream",
     "text": [
      "(1, 2, 3, 1, 2, 3, 90, 'good')\n",
      "90\n",
      "True\n",
      "False\n"
     ]
    }
   ],
   "source": [
    "## 튜플 만들기, 복제, 합치기\n",
    "\n",
    "tuple_a = (1, 2, 3)\n",
    "tuple_b = 90,\"good\"\n",
    "z = tuple_a*2 + tuple_b\n",
    "print(z)\n",
    "print(z[-2])\n",
    "print(3 in z)\n",
    "print(4 in z)"
   ]
  },
  {
   "cell_type": "markdown",
   "id": "a77ccc1b",
   "metadata": {
    "colab_type": "text",
    "id": "yynomsnffMqr"
   },
   "source": [
    "## 사전 (Dictionaries)\n",
    "- 키-값 조합 형태의 데이터 묶음\n",
    "- 간단한 데이터베이스처럼 사용된다\n",
    "- 항목을 찾을 때 키를 사용한다\n",
    "- 딕셔너리에서 저장된 순서는 의미가 없다\n",
    "- 딕셔너리는 중괄호 {  } 로 만들거나 dict()로 만든다"
   ]
  },
  {
   "cell_type": "code",
   "execution_count": 13,
   "id": "adf74da3",
   "metadata": {
    "colab": {},
    "colab_type": "code",
    "id": "M9BYH2N3fMqs",
    "outputId": "49be4e1c-dfc0-47e6-8df5-c04ccd187213"
   },
   "outputs": [
    {
     "name": "stdout",
     "output_type": "stream",
     "text": [
      "3\n",
      "{'grade': 3, 'age': 28, 'name': 'kim', 'address': 'Seoul'}\n"
     ]
    }
   ],
   "source": [
    "## 딕셔너리 생성, 값변경, 항목 추가하기\n",
    "\n",
    "student = {'grade': 3,'age': 21,'name': \"kim\"  }\n",
    "print(student['grade'])\n",
    "student['age'] = 28\n",
    "student['address'] = 'Seoul'\n",
    "print(student)"
   ]
  },
  {
   "cell_type": "code",
   "execution_count": 24,
   "id": "9f55bb67",
   "metadata": {
    "colab": {},
    "colab_type": "code",
    "id": "knKE289jfMqv",
    "outputId": "f67dbaee-fcff-4724-f600-85ee933b3067",
    "scrolled": true
   },
   "outputs": [
    {
     "name": "stdout",
     "output_type": "stream",
     "text": [
      "dict_keys(['grade', 'age', 'name', 'address'])\n",
      "dict_values([3, 28, 'kim', 'Seoul'])\n",
      "dict_items([('grade', 3), ('age', 28), ('name', 'kim'), ('address', 'Seoul')])\n"
     ]
    }
   ],
   "source": [
    "## 딕셔너리의 키, 값, 항목 전체 출력하기\n",
    "\n",
    "print(student.keys())\n",
    "print(student.values())\n",
    "print(student.items()) "
   ]
  },
  {
   "cell_type": "markdown",
   "id": "07eaea8c",
   "metadata": {},
   "source": [
    "### in"
   ]
  },
  {
   "cell_type": "code",
   "execution_count": 25,
   "id": "83452982",
   "metadata": {},
   "outputs": [
    {
     "name": "stdout",
     "output_type": "stream",
     "text": [
      "True\n",
      "False\n"
     ]
    }
   ],
   "source": [
    "## 딕셔너리에 특정 키가 존재하는지 확인하기\n",
    "\n",
    "print(\"age\" in student)\n",
    "print(\"sex\" in student)"
   ]
  },
  {
   "cell_type": "markdown",
   "id": "8257e1de",
   "metadata": {},
   "source": [
    "## range\n",
    "\n",
    "- 일정한 범위의 값들을 나타내는 특수 변수"
   ]
  },
  {
   "cell_type": "code",
   "execution_count": 22,
   "id": "6bc782f4",
   "metadata": {},
   "outputs": [
    {
     "name": "stdout",
     "output_type": "stream",
     "text": [
      "range(0, 10)\n",
      "[0, 1, 2, 3, 4, 5, 6, 7, 8, 9]\n",
      "range(2, 20, 3)\n",
      "[2, 5, 8, 11, 14, 17]\n"
     ]
    }
   ],
   "source": [
    "## 특수 변수 range와 내용 보기\n",
    "\n",
    "x = range(10)\n",
    "print(x)\n",
    "print(list(x))\n",
    "\n",
    "y = range(2,20,3)\n",
    "print(y)\n",
    "print(list(y))"
   ]
  },
  {
   "cell_type": "markdown",
   "id": "59bd8023",
   "metadata": {},
   "source": [
    "\n",
    "\n",
    "# 프로그램 흐름"
   ]
  },
  {
   "cell_type": "markdown",
   "id": "8d439ad7",
   "metadata": {},
   "source": [
    "## if\n",
    "- if 문 다음이 True이면 \":\" 이후 블록을 실행한다\n",
    "- 블록은 들여쓰기가 같은 영역으로 구분한다\n",
    "- else: 문을 사용할 수도 있다.\n",
    "- if 뒤에는 불리언이 필요하다"
   ]
  },
  {
   "cell_type": "code",
   "execution_count": 14,
   "id": "09599db0",
   "metadata": {},
   "outputs": [
    {
     "name": "stdout",
     "output_type": "stream",
     "text": [
      "축하합니다~ 합격입니다\n",
      "다음주부터 출근하시면 됩니다.\n"
     ]
    }
   ],
   "source": [
    "## 기본적인 if, elif, else 사용법\n",
    "\n",
    "x = 90\n",
    "\n",
    "if x > 80:\n",
    "    print(\"축하합니다~ 합격입니다\")\n",
    "    print(\"다음주부터 출근하시면 됩니다.\")\n",
    "elif x > 60:\n",
    "    print(\"2차 면접시험 대상자 입니다.\")\n",
    "    print(\"시험 날짜를 알려드리겠습니다.\")\n",
    "else:\n",
    "    print(\"불합격입니다.\")"
   ]
  },
  {
   "cell_type": "code",
   "execution_count": 29,
   "id": "d9af1e6e",
   "metadata": {},
   "outputs": [
    {
     "name": "stdout",
     "output_type": "stream",
     "text": [
      "----------------------\n",
      "불합격입니다.\n",
      "----------------------\n",
      "2차 면접시험 대상자 입니다.\n",
      "시험 날짜를 알려드리겠습니다.\n",
      "----------------------\n",
      "축하합니다~ 합격입니다\n",
      "다음주부터 출근하시면 됩니다.\n"
     ]
    }
   ],
   "source": [
    "## for 문을 사용하여 채점 결과를 알려주는 코드\n",
    "\n",
    "score = [50, 70, 90]\n",
    "for x in score:\n",
    "    print('----------------------')\n",
    "    if x > 80:\n",
    "        print(\"축하합니다~ 합격입니다\")\n",
    "        print(\"다음주부터 출근하시면 됩니다.\")\n",
    "    elif x > 60:\n",
    "        print(\"2차 면접시험 대상자 입니다.\")\n",
    "        print(\"시험 날짜를 알려드리겠습니다.\")\n",
    "    else:\n",
    "        print(\"불합격입니다.\")"
   ]
  },
  {
   "cell_type": "markdown",
   "id": "14e23599",
   "metadata": {},
   "source": [
    "## enumerate"
   ]
  },
  {
   "cell_type": "code",
   "execution_count": 30,
   "id": "8490d22b",
   "metadata": {},
   "outputs": [
    {
     "name": "stdout",
     "output_type": "stream",
     "text": [
      "----------------------\n",
      "1 번째 응시자님:\n",
      "불합격입니다.\n",
      "----------------------\n",
      "2 번째 응시자님:\n",
      "2차 면접시험 대상자 입니다.\n",
      "시험 날짜를 알려드리겠습니다.\n",
      "----------------------\n",
      "3 번째 응시자님:\n",
      "축하합니다~ 합격입니다\n",
      "다음주부터 출근하시면 됩니다.\n"
     ]
    }
   ],
   "source": [
    "## 리스트의 인덱스를 얻는 enumerate() 사용예\n",
    "\n",
    "score = [50, 70, 90]\n",
    "\n",
    "for i, x in enumerate([50, 70, 90]):\n",
    "    print('----------------------')\n",
    "    print(i+1, \"번째 응시자님:\")\n",
    "    if x > 80:\n",
    "        print(\"축하합니다~ 합격입니다\")\n",
    "        print(\"다음주부터 출근하시면 됩니다.\")\n",
    "    elif x > 60:\n",
    "        print(\"2차 면접시험 대상자 입니다.\")\n",
    "        print(\"시험 날짜를 알려드리겠습니다.\")\n",
    "    else:\n",
    "        print(\"불합격입니다.\")"
   ]
  },
  {
   "cell_type": "code",
   "execution_count": 31,
   "id": "71ef153d",
   "metadata": {},
   "outputs": [
    {
     "name": "stdout",
     "output_type": "stream",
     "text": [
      "[(0, 'kim'), (1, 'park'), (2, 'lee')]\n",
      "1 번째 사람 이름은 kim입니다\n",
      "2 번째 사람 이름은 park입니다\n",
      "3 번째 사람 이름은 lee입니다\n"
     ]
    }
   ],
   "source": [
    "## enumerate 사용 예\n",
    "\n",
    "names = [\"kim\", \"park\", \"lee\"]\n",
    "print(list(enumerate(names)))\n",
    "\n",
    "for i, name in enumerate(names):\n",
    "    print(f\"{i+1} 번째 사람 이름은 {name}입니다\")"
   ]
  },
  {
   "cell_type": "markdown",
   "id": "77c94958",
   "metadata": {},
   "source": [
    "## for\n",
    "- 특정 조건이 만족되는 동안 \":\" 이후의 블록을 수행\n",
    "- 수행할 블록은 들여쓰기로 구분한다\n",
    "- in과 같이 자주 사용된다"
   ]
  },
  {
   "cell_type": "code",
   "execution_count": 32,
   "id": "b3fc3e51",
   "metadata": {},
   "outputs": [
    {
     "name": "stdout",
     "output_type": "stream",
     "text": [
      "10\n",
      "20\n",
      "30\n",
      "40\n",
      "50\n"
     ]
    }
   ],
   "source": [
    "## 1~5 사이의 정수에 10을 곱하기\n",
    "\n",
    "for i in range(1,6):\n",
    "    print(i*10)"
   ]
  },
  {
   "cell_type": "markdown",
   "id": "61dcd73a",
   "metadata": {},
   "source": [
    "### 리스트 내에서 for 사용하기"
   ]
  },
  {
   "cell_type": "code",
   "execution_count": 33,
   "id": "2a961ea2",
   "metadata": {},
   "outputs": [
    {
     "name": "stdout",
     "output_type": "stream",
     "text": [
      "[10, 20, 30, 40, 50]\n"
     ]
    }
   ],
   "source": [
    "## 리스트 선언문 내에서 for를 사용하는 방법\n",
    "\n",
    "z = [i*10 for i in range(1,6)]\n",
    "print(z)"
   ]
  },
  {
   "cell_type": "code",
   "execution_count": 34,
   "id": "b0ecdcc3",
   "metadata": {},
   "outputs": [
    {
     "name": "stdout",
     "output_type": "stream",
     "text": [
      "True\n",
      "True\n"
     ]
    }
   ],
   "source": [
    "## 문자열에 문자열 포함 확인하기\n",
    "\n",
    "s = 'I am happy'\n",
    "print('happy' in s)\n",
    "print('hap' in s)"
   ]
  },
  {
   "cell_type": "code",
   "execution_count": 35,
   "id": "f0c8db44",
   "metadata": {},
   "outputs": [
    {
     "name": "stdout",
     "output_type": "stream",
     "text": [
      "['cat001', 'cat002']\n"
     ]
    }
   ],
   "source": [
    "## 특정 문자열이 포함된 항목을 찾아서 리스트를 만들기\n",
    "\n",
    "files = ['cat001', 'cat002', 'dog003', 'dog004']\n",
    "match = 'cat'\n",
    "new_list = [s for s in files if match in s]\n",
    "print(new_list)"
   ]
  },
  {
   "cell_type": "markdown",
   "id": "2e44d112",
   "metadata": {},
   "source": [
    "## break\n",
    "\n",
    "- 특정 조건이 만족되면 for 문을 빠져나간다"
   ]
  },
  {
   "cell_type": "code",
   "execution_count": 24,
   "id": "839f6172",
   "metadata": {},
   "outputs": [
    {
     "name": "stdout",
     "output_type": "stream",
     "text": [
      "0\n",
      "10\n",
      "20\n",
      "30\n",
      "40\n",
      "50\n",
      "60\n",
      "70\n"
     ]
    }
   ],
   "source": [
    "for i in range(10):\n",
    "    x = i*10\n",
    "    if x > 70: break\n",
    "    print(x)\n"
   ]
  },
  {
   "cell_type": "markdown",
   "id": "1c9d6183",
   "metadata": {},
   "source": [
    "# (실습) 구구단\n",
    "\n",
    "- 구구단을 축력하는 프로그램을 작성하시오"
   ]
  }
 ],
 "metadata": {
  "kernelspec": {
   "display_name": "Python 3",
   "language": "python",
   "name": "python3"
  },
  "language_info": {
   "codemirror_mode": {
    "name": "ipython",
    "version": 3
   },
   "file_extension": ".py",
   "mimetype": "text/x-python",
   "name": "python",
   "nbconvert_exporter": "python",
   "pygments_lexer": "ipython3",
   "version": "3.8.8"
  },
  "toc": {
   "base_numbering": 1,
   "nav_menu": {},
   "number_sections": false,
   "sideBar": true,
   "skip_h1_title": false,
   "title_cell": "Table of Contents",
   "title_sidebar": "Contents",
   "toc_cell": false,
   "toc_position": {
    "height": "calc(100% - 180px)",
    "left": "10px",
    "top": "150px",
    "width": "165px"
   },
   "toc_section_display": true,
   "toc_window_display": true
  }
 },
 "nbformat": 4,
 "nbformat_minor": 5
}
